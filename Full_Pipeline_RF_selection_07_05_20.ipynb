{
 "cells": [
  {
   "cell_type": "markdown",
   "metadata": {},
   "source": [
    "### Imports"
   ]
  },
  {
   "cell_type": "code",
   "execution_count": 1,
   "metadata": {
    "colab": {
     "base_uri": "https://localhost:8080/",
     "height": 51
    },
    "colab_type": "code",
    "executionInfo": {
     "elapsed": 442,
     "status": "ok",
     "timestamp": 1580692392814,
     "user": {
      "displayName": "Federico Francone",
      "photoUrl": "https://lh3.googleusercontent.com/a-/AAuE7mCvT-5R0e3T46w8v1AsqxSyhT-fEY26ltek6aRh=s64",
      "userId": "16122115063472740860"
     },
     "user_tz": -60
    },
    "id": "FiH8ymZml9Pt",
    "outputId": "f009517c-ca09-4159-efbc-61d4483065b5"
   },
   "outputs": [
    {
     "data": {
      "text/plain": [
       "\"from google.colab import drive\\ndrive.mount('/content/drive')\\n%cd /content/drive/My\\\\ Drive/Colab\\\\ Notebooks  \""
      ]
     },
     "execution_count": 1,
     "metadata": {},
     "output_type": "execute_result"
    }
   ],
   "source": [
    "\"\"\"from google.colab import drive\n",
    "drive.mount('/content/drive')\n",
    "%cd /content/drive/My\\ Drive/Colab\\ Notebooks  \"\"\""
   ]
  },
  {
   "cell_type": "code",
   "execution_count": 543,
   "metadata": {
    "colab": {
     "base_uri": "https://localhost:8080/",
     "height": 34
    },
    "colab_type": "code",
    "executionInfo": {
     "elapsed": 422,
     "status": "ok",
     "timestamp": 1580692621368,
     "user": {
      "displayName": "Federico Francone",
      "photoUrl": "https://lh3.googleusercontent.com/a-/AAuE7mCvT-5R0e3T46w8v1AsqxSyhT-fEY26ltek6aRh=s64",
      "userId": "16122115063472740860"
     },
     "user_tz": -60
    },
    "hide_input": false,
    "id": "x5BqtB8le7XF",
    "outputId": "d59060ba-4774-4482-fe3b-830bf63e17a6"
   },
   "outputs": [
    {
     "data": {
      "text/plain": [
       "'/Users/federicofrancone/Desktop/ADT_project/new_data'"
      ]
     },
     "execution_count": 543,
     "metadata": {},
     "output_type": "execute_result"
    }
   ],
   "source": [
    "import pandas as pd\n",
    "import numpy as np\n",
    "import matplotlib.pyplot as plt\n",
    "import seaborn as sns\n",
    "import os\n",
    "import sys\n",
    "import warnings\n",
    "warnings.filterwarnings(\"ignore\")\n",
    "\n",
    "\n",
    "import pandas as pd\n",
    "import numpy as np\n",
    "from sklearn  import preprocessing, decomposition, base\n",
    "import matplotlib.pyplot as plt\n",
    "from matplotlib.pyplot import pie, axis, show\n",
    "from sklearn.linear_model import LogisticRegression, LogisticRegressionCV, Lasso\n",
    "import seaborn as sns\n",
    "from sklearn.model_selection import train_test_split, cross_val_score, GridSearchCV, validation_curve, KFold\n",
    "from sklearn.model_selection import RandomizedSearchCV, cross_validate, ParameterGrid\n",
    "from sklearn.ensemble import RandomForestClassifier, GradientBoostingClassifier\n",
    "from sklearn.feature_selection import SelectFromModel\n",
    "from sklearn.preprocessing import StandardScaler, MinMaxScaler, LabelEncoder, RobustScaler\n",
    "from sklearn.metrics import classification_report, confusion_matrix, accuracy_score, roc_auc_score, make_scorer, roc_curve, f1_score, precision_score, recall_score\n",
    "from sklearn.pipeline import Pipeline\n",
    "from sklearn.decomposition import PCA\n",
    "from sklearn.neighbors import KNeighborsClassifier\n",
    "from sklearn.svm import SVC\n",
    "from datetime import datetime\n",
    "\n",
    "from IPython.display import display\n",
    "pd.options.display.max_columns = 25\n",
    "\n",
    "import xgboost as xgb\n",
    "from xgboost import XGBClassifier\n",
    "from xgboost import plot_importance\n",
    "import time\n",
    "\n",
    "os.getcwd()"
   ]
  },
  {
   "cell_type": "code",
   "execution_count": 544,
   "metadata": {
    "colab": {},
    "colab_type": "code",
    "hide_input": false,
    "id": "xNnVWUKve7XP"
   },
   "outputs": [],
   "source": [
    "colors = ['xkcd:pale orange', 'xkcd:sea blue', 'xkcd:pale red', 'xkcd:sage green', 'xkcd:terra cotta', 'xkcd:dull purple', 'xkcd:teal', 'xkcd:goldenrod', 'xkcd:cadet blue', \n",
    "          'xkcd:scarlet']\n",
    "\n",
    "\n",
    "def title_ticks_ecc(title, xlabel, ylabel, new_fig= True , figsize= (10,6), title_size=18):\n",
    "    if new_fig== True:\n",
    "        plt.figure(figsize=figsize)\n",
    "        \n",
    "    plt.title(title, color= 'xkcd:pale red', fontsize= title_size, pad= 13, fontweight= 'bold')\n",
    "    plt.xlabel(xlabel, color='xkcd:pale red', fontsize= 14, fontweight= 'bold')\n",
    "    plt.ylabel(ylabel, color= 'xkcd:pale red', fontsize= 14, fontweight= 'bold')\n",
    "    plt.xticks(fontsize=12, color= 'xkcd:cadet blue')\n",
    "    plt.yticks(fontsize=12, color= 'xkcd:cadet blue')"
   ]
  },
  {
   "cell_type": "markdown",
   "metadata": {
    "colab": {
     "base_uri": "https://localhost:8080/",
     "height": 34
    },
    "colab_type": "code",
    "executionInfo": {
     "elapsed": 447,
     "status": "ok",
     "timestamp": 1580692649743,
     "user": {
      "displayName": "Federico Francone",
      "photoUrl": "https://lh3.googleusercontent.com/a-/AAuE7mCvT-5R0e3T46w8v1AsqxSyhT-fEY26ltek6aRh=s64",
      "userId": "16122115063472740860"
     },
     "user_tz": -60
    },
    "id": "b0j8y0y1n4Vz",
    "outputId": "5ecdfe7e-5908-4323-9e82-4bbf8b184c91"
   },
   "source": [
    "#os.chdir('./Zeta Global/Insurance')\n",
    "#os.getcwd()"
   ]
  },
  {
   "cell_type": "markdown",
   "metadata": {},
   "source": [
    "##### Getting Raw Data faster"
   ]
  },
  {
   "cell_type": "code",
   "execution_count": 580,
   "metadata": {
    "hide_input": false
   },
   "outputs": [
    {
     "data": {
      "text/plain": [
       "((78436, 948), (33613, 948))"
      ]
     },
     "execution_count": 580,
     "metadata": {},
     "output_type": "execute_result"
    }
   ],
   "source": [
    "initial_path= '/Users/federicofrancone/Desktop/ADT_project/new_data/'\n",
    "\n",
    "os.chdir(initial_path)\n",
    "\n",
    "merged_train= pd.read_csv('adt_df_train_pre_binning.csv')\n",
    "merged_test= pd.read_csv('adt_df_test_pre_binning.csv')\n",
    "\n",
    "merged_train.shape, merged_test.shape #(78436, 948)"
   ]
  },
  {
   "cell_type": "code",
   "execution_count": 282,
   "metadata": {},
   "outputs": [],
   "source": [
    "#check= pd.read_csv('../adt_data_pawan/df_train_binning_high_mod.csv')\n",
    "#sum(merged_train['email_address_md5'] == check['email_address_md5'])"
   ]
  },
  {
   "cell_type": "code",
   "execution_count": 584,
   "metadata": {
    "colab": {
     "base_uri": "https://localhost:8080/",
     "height": 102
    },
    "colab_type": "code",
    "executionInfo": {
     "elapsed": 18378,
     "status": "ok",
     "timestamp": 1580692774518,
     "user": {
      "displayName": "Federico Francone",
      "photoUrl": "https://lh3.googleusercontent.com/a-/AAuE7mCvT-5R0e3T46w8v1AsqxSyhT-fEY26ltek6aRh=s64",
      "userId": "16122115063472740860"
     },
     "user_tz": -60
    },
    "id": "XZF5uQj4e7Xs",
    "outputId": "521f20b2-274a-4634-ed38-79a82e38478a"
   },
   "outputs": [],
   "source": [
    "### Naming convention\n",
    "binned_train= merged_train.copy()\n",
    "binned_test= merged_test.copy()\n",
    "\n",
    "del merged_train, merged_test"
   ]
  },
  {
   "cell_type": "code",
   "execution_count": 585,
   "metadata": {
    "colab": {
     "base_uri": "https://localhost:8080/",
     "height": 68
    },
    "colab_type": "code",
    "executionInfo": {
     "elapsed": 17646,
     "status": "ok",
     "timestamp": 1580692774519,
     "user": {
      "displayName": "Federico Francone",
      "photoUrl": "https://lh3.googleusercontent.com/a-/AAuE7mCvT-5R0e3T46w8v1AsqxSyhT-fEY26ltek6aRh=s64",
      "userId": "16122115063472740860"
     },
     "user_tz": -60
    },
    "id": "yBD3STife7Xz",
    "outputId": "687b3ea0-c45b-4bc4-c0a7-1c207cfa7b1c"
   },
   "outputs": [
    {
     "data": {
      "text/plain": [
       "0    82.69\n",
       "1    17.31\n",
       "Name: target, dtype: float64"
      ]
     },
     "execution_count": 585,
     "metadata": {},
     "output_type": "execute_result"
    }
   ],
   "source": [
    "###### Target Distribution #######\n",
    "\n",
    "target= binned_train['target']\n",
    "target_test= binned_test['target']\n",
    "\n",
    "target_distribution= round(target.value_counts()*100/len(binned_train),2)\n",
    "target_distribution"
   ]
  },
  {
   "cell_type": "markdown",
   "metadata": {},
   "source": [
    "##### New columns analysis for Report"
   ]
  },
  {
   "cell_type": "code",
   "execution_count": 272,
   "metadata": {},
   "outputs": [],
   "source": [
    "def report_zcodes(x):\n",
    "    \n",
    "    diz={}\n",
    "    diz['Conversions Rate']= x['target'].value_counts(normalize= True).loc[1]\n",
    "    diz['Total']= len(x)\n",
    "    diz['n_Conversions']= x['target'].value_counts(normalize= False).loc[1]\n",
    "    \n",
    "    return pd.Series(diz)"
   ]
  },
  {
   "cell_type": "code",
   "execution_count": 275,
   "metadata": {},
   "outputs": [
    {
     "data": {
      "text/html": [
       "<div>\n",
       "<style scoped>\n",
       "    .dataframe tbody tr th:only-of-type {\n",
       "        vertical-align: middle;\n",
       "    }\n",
       "\n",
       "    .dataframe tbody tr th {\n",
       "        vertical-align: top;\n",
       "    }\n",
       "\n",
       "    .dataframe thead th {\n",
       "        text-align: right;\n",
       "    }\n",
       "</style>\n",
       "<table border=\"1\" class=\"dataframe\">\n",
       "  <thead>\n",
       "    <tr style=\"text-align: right;\">\n",
       "      <th></th>\n",
       "      <th>target</th>\n",
       "      <th>z424</th>\n",
       "      <th>z82</th>\n",
       "      <th>z208</th>\n",
       "      <th>z387</th>\n",
       "      <th>z324</th>\n",
       "      <th>z232</th>\n",
       "      <th>z439</th>\n",
       "      <th>z345</th>\n",
       "      <th>z410</th>\n",
       "      <th>z395</th>\n",
       "      <th>z194</th>\n",
       "      <th>...</th>\n",
       "      <th>z531</th>\n",
       "      <th>z364</th>\n",
       "      <th>z261</th>\n",
       "      <th>z498</th>\n",
       "      <th>z52</th>\n",
       "      <th>z178</th>\n",
       "      <th>z87</th>\n",
       "      <th>z374</th>\n",
       "      <th>z319</th>\n",
       "      <th>z26</th>\n",
       "      <th>z257</th>\n",
       "      <th>z264</th>\n",
       "    </tr>\n",
       "  </thead>\n",
       "  <tbody>\n",
       "    <tr>\n",
       "      <th>0</th>\n",
       "      <td>0</td>\n",
       "      <td>0.0</td>\n",
       "      <td>0.0</td>\n",
       "      <td>0.0</td>\n",
       "      <td>0.0</td>\n",
       "      <td>0.0</td>\n",
       "      <td>0.0</td>\n",
       "      <td>0.0</td>\n",
       "      <td>0.0</td>\n",
       "      <td>0.0</td>\n",
       "      <td>0.0</td>\n",
       "      <td>0.0</td>\n",
       "      <td>...</td>\n",
       "      <td>0.0</td>\n",
       "      <td>0.0</td>\n",
       "      <td>0.0</td>\n",
       "      <td>0.0</td>\n",
       "      <td>0.0</td>\n",
       "      <td>0.0</td>\n",
       "      <td>0.0</td>\n",
       "      <td>0.0</td>\n",
       "      <td>0.0</td>\n",
       "      <td>0.0</td>\n",
       "      <td>0.0</td>\n",
       "      <td>0.0</td>\n",
       "    </tr>\n",
       "    <tr>\n",
       "      <th>1</th>\n",
       "      <td>0</td>\n",
       "      <td>0.0</td>\n",
       "      <td>0.0</td>\n",
       "      <td>0.0</td>\n",
       "      <td>0.0</td>\n",
       "      <td>0.0</td>\n",
       "      <td>0.0</td>\n",
       "      <td>0.0</td>\n",
       "      <td>0.0</td>\n",
       "      <td>0.0</td>\n",
       "      <td>0.0</td>\n",
       "      <td>0.0</td>\n",
       "      <td>...</td>\n",
       "      <td>0.0</td>\n",
       "      <td>0.0</td>\n",
       "      <td>0.0</td>\n",
       "      <td>0.0</td>\n",
       "      <td>0.0</td>\n",
       "      <td>0.0</td>\n",
       "      <td>0.0</td>\n",
       "      <td>0.0</td>\n",
       "      <td>0.0</td>\n",
       "      <td>0.0</td>\n",
       "      <td>0.0</td>\n",
       "      <td>0.0</td>\n",
       "    </tr>\n",
       "    <tr>\n",
       "      <th>2</th>\n",
       "      <td>0</td>\n",
       "      <td>0.0</td>\n",
       "      <td>0.0</td>\n",
       "      <td>0.0</td>\n",
       "      <td>0.0</td>\n",
       "      <td>0.0</td>\n",
       "      <td>0.0</td>\n",
       "      <td>0.0</td>\n",
       "      <td>0.0</td>\n",
       "      <td>0.0</td>\n",
       "      <td>0.0</td>\n",
       "      <td>0.0</td>\n",
       "      <td>...</td>\n",
       "      <td>0.0</td>\n",
       "      <td>0.0</td>\n",
       "      <td>0.0</td>\n",
       "      <td>0.0</td>\n",
       "      <td>0.0</td>\n",
       "      <td>0.0</td>\n",
       "      <td>0.0</td>\n",
       "      <td>0.0</td>\n",
       "      <td>0.0</td>\n",
       "      <td>0.0</td>\n",
       "      <td>0.0</td>\n",
       "      <td>0.0</td>\n",
       "    </tr>\n",
       "    <tr>\n",
       "      <th>3</th>\n",
       "      <td>0</td>\n",
       "      <td>0.0</td>\n",
       "      <td>0.0</td>\n",
       "      <td>0.0</td>\n",
       "      <td>0.0</td>\n",
       "      <td>0.0</td>\n",
       "      <td>0.0</td>\n",
       "      <td>0.0</td>\n",
       "      <td>0.0</td>\n",
       "      <td>0.0</td>\n",
       "      <td>0.0</td>\n",
       "      <td>0.0</td>\n",
       "      <td>...</td>\n",
       "      <td>0.0</td>\n",
       "      <td>0.0</td>\n",
       "      <td>0.0</td>\n",
       "      <td>0.0</td>\n",
       "      <td>0.0</td>\n",
       "      <td>0.0</td>\n",
       "      <td>0.0</td>\n",
       "      <td>0.0</td>\n",
       "      <td>0.0</td>\n",
       "      <td>0.0</td>\n",
       "      <td>0.0</td>\n",
       "      <td>0.0</td>\n",
       "    </tr>\n",
       "    <tr>\n",
       "      <th>4</th>\n",
       "      <td>1</td>\n",
       "      <td>0.0</td>\n",
       "      <td>0.0</td>\n",
       "      <td>0.0</td>\n",
       "      <td>0.0</td>\n",
       "      <td>0.0</td>\n",
       "      <td>0.0</td>\n",
       "      <td>0.0</td>\n",
       "      <td>0.0</td>\n",
       "      <td>0.0</td>\n",
       "      <td>0.0</td>\n",
       "      <td>0.0</td>\n",
       "      <td>...</td>\n",
       "      <td>0.0</td>\n",
       "      <td>0.0</td>\n",
       "      <td>0.0</td>\n",
       "      <td>0.0</td>\n",
       "      <td>0.0</td>\n",
       "      <td>0.0</td>\n",
       "      <td>0.0</td>\n",
       "      <td>0.0</td>\n",
       "      <td>0.0</td>\n",
       "      <td>0.0</td>\n",
       "      <td>0.0</td>\n",
       "      <td>0.0</td>\n",
       "    </tr>\n",
       "  </tbody>\n",
       "</table>\n",
       "<p>5 rows × 330 columns</p>\n",
       "</div>"
      ],
      "text/plain": [
       "   target  z424  z82  z208  z387  z324  z232  z439  z345  z410  z395  z194  \\\n",
       "0       0   0.0  0.0   0.0   0.0   0.0   0.0   0.0   0.0   0.0   0.0   0.0   \n",
       "1       0   0.0  0.0   0.0   0.0   0.0   0.0   0.0   0.0   0.0   0.0   0.0   \n",
       "2       0   0.0  0.0   0.0   0.0   0.0   0.0   0.0   0.0   0.0   0.0   0.0   \n",
       "3       0   0.0  0.0   0.0   0.0   0.0   0.0   0.0   0.0   0.0   0.0   0.0   \n",
       "4       1   0.0  0.0   0.0   0.0   0.0   0.0   0.0   0.0   0.0   0.0   0.0   \n",
       "\n",
       "   ...  z531  z364  z261  z498  z52  z178  z87  z374  z319  z26  z257  z264  \n",
       "0  ...   0.0   0.0   0.0   0.0  0.0   0.0  0.0   0.0   0.0  0.0   0.0   0.0  \n",
       "1  ...   0.0   0.0   0.0   0.0  0.0   0.0  0.0   0.0   0.0  0.0   0.0   0.0  \n",
       "2  ...   0.0   0.0   0.0   0.0  0.0   0.0  0.0   0.0   0.0  0.0   0.0   0.0  \n",
       "3  ...   0.0   0.0   0.0   0.0  0.0   0.0  0.0   0.0   0.0  0.0   0.0   0.0  \n",
       "4  ...   0.0   0.0   0.0   0.0  0.0   0.0  0.0   0.0   0.0  0.0   0.0   0.0  \n",
       "\n",
       "[5 rows x 330 columns]"
      ]
     },
     "execution_count": 275,
     "metadata": {},
     "output_type": "execute_result"
    }
   ],
   "source": [
    "imputed_zcodes.head()"
   ]
  },
  {
   "cell_type": "code",
   "execution_count": 278,
   "metadata": {},
   "outputs": [],
   "source": [
    "### FOR ZCODES\n",
    "\n",
    "run_cell= True\n",
    "df= imputed_zcodes\n",
    "\n",
    "if run_cell:\n",
    "\n",
    "    relevant_zcodes= ['z231', 'z239', 'z433', 'z437']  ### FOR ANY categorical VARIABLE\n",
    "    zcodes_analysis= df[relevant_zcodes + [\"target\"]]\n",
    "\n",
    "    for i, zcode in enumerate(relevant_zcodes):\n",
    "        #print('iteration:', i)\n",
    "        if i==0:\n",
    "            writer = pd.ExcelWriter(path= '/Users/federicofrancone/Desktop/ADT_project/zcodes_conv_rate.xlsx', mode='w')\n",
    "        else:\n",
    "            writer.mode= \"a\"\n",
    "\n",
    "        zcodes_analysis[zcode] = zcodes_analysis[zcode].apply(lambda x: 1 if x>0 else 0)\n",
    "        to_write= zcodes_analysis.groupby(zcode).apply(report_zcodes)\n",
    "\n",
    "        to_write.to_excel(writer, startrow= i*5)\n",
    "\n",
    "    writer.save()\n",
    "    writer.close()\n",
    "\n",
    "\n",
    "\n",
    "\n",
    "    # describe= zcodes_analysis.describe(percentiles= [0.5, 0.75, 0.9, 0.95, 0.99])\n",
    "\n",
    "    # min_zcode = describe['z230'].loc['min']\n",
    "    # max_zcode = describe['z230'].loc['max']\n",
    "\n",
    "    # intervals= np.linspace(min_zcode, max_zcode, 5)\n",
    "    # intervals"
   ]
  },
  {
   "cell_type": "markdown",
   "metadata": {},
   "source": [
    "### Starting Pipeline"
   ]
  },
  {
   "cell_type": "code",
   "execution_count": 586,
   "metadata": {
    "colab": {
     "base_uri": "https://localhost:8080/",
     "height": 191
    },
    "colab_type": "code",
    "executionInfo": {
     "elapsed": 19033,
     "status": "ok",
     "timestamp": 1580692774516,
     "user": {
      "displayName": "Federico Francone",
      "photoUrl": "https://lh3.googleusercontent.com/a-/AAuE7mCvT-5R0e3T46w8v1AsqxSyhT-fEY26ltek6aRh=s64",
      "userId": "16122115063472740860"
     },
     "user_tz": -60
    },
    "hide_input": false,
    "id": "C8TevVP0e7Xn",
    "outputId": "26a3525e-e9c7-4f76-cdf9-0743841076a3"
   },
   "outputs": [
    {
     "data": {
      "text/html": [
       "<div>\n",
       "<style scoped>\n",
       "    .dataframe tbody tr th:only-of-type {\n",
       "        vertical-align: middle;\n",
       "    }\n",
       "\n",
       "    .dataframe tbody tr th {\n",
       "        vertical-align: top;\n",
       "    }\n",
       "\n",
       "    .dataframe thead th {\n",
       "        text-align: right;\n",
       "    }\n",
       "</style>\n",
       "<table border=\"1\" class=\"dataframe\">\n",
       "  <thead>\n",
       "    <tr style=\"text-align: right;\">\n",
       "      <th></th>\n",
       "      <th>Unnamed: 0</th>\n",
       "      <th>email_address_md5</th>\n",
       "      <th>target</th>\n",
       "      <th>urbanity</th>\n",
       "      <th>acxiom_cluster_group</th>\n",
       "      <th>ibe8627_age_input_individual_default_to_1st_individual_premier_flag</th>\n",
       "      <th>cass_state</th>\n",
       "      <th>ibe2802_ita_score_zip_plus4_aggregate_ita_score</th>\n",
       "      <th>ibe2076_ibe_premier_socialconcerncausessupportedfinancially_charitable</th>\n",
       "      <th>ibe2076_ibe_premier_socialconcerncausessupportedfinancially_animal_welfare</th>\n",
       "      <th>ibe2076_ibe_premier_socialconcerncausessupportedfinancially_arts_or_cultural</th>\n",
       "      <th>ibe2076_ibe_premier_socialconcerncausessupportedfinancially_childrens</th>\n",
       "      <th>...</th>\n",
       "      <th>z531</th>\n",
       "      <th>z364</th>\n",
       "      <th>z261</th>\n",
       "      <th>z498</th>\n",
       "      <th>z52</th>\n",
       "      <th>z178</th>\n",
       "      <th>z87</th>\n",
       "      <th>z374</th>\n",
       "      <th>z319</th>\n",
       "      <th>z26</th>\n",
       "      <th>z257</th>\n",
       "      <th>z264</th>\n",
       "    </tr>\n",
       "  </thead>\n",
       "  <tbody>\n",
       "    <tr>\n",
       "      <th>0</th>\n",
       "      <td>1</td>\n",
       "      <td>f43783ee3a4e3e40e034fe4cbaafd63e</td>\n",
       "      <td>0</td>\n",
       "      <td>Rural</td>\n",
       "      <td>13B Working Households</td>\n",
       "      <td>I</td>\n",
       "      <td>KY</td>\n",
       "      <td>613.0</td>\n",
       "      <td>0</td>\n",
       "      <td>0</td>\n",
       "      <td>0</td>\n",
       "      <td>0</td>\n",
       "      <td>...</td>\n",
       "      <td>0.0</td>\n",
       "      <td>0.0</td>\n",
       "      <td>0.0</td>\n",
       "      <td>0.0</td>\n",
       "      <td>0.0</td>\n",
       "      <td>0.0</td>\n",
       "      <td>0.0</td>\n",
       "      <td>0.0</td>\n",
       "      <td>0.0</td>\n",
       "      <td>0.0</td>\n",
       "      <td>0.0</td>\n",
       "      <td>0.0</td>\n",
       "    </tr>\n",
       "    <tr>\n",
       "      <th>1</th>\n",
       "      <td>2</td>\n",
       "      <td>34c6fe5c95a9e55b3de574a5a3840dee</td>\n",
       "      <td>0</td>\n",
       "      <td>Downtown Metro</td>\n",
       "      <td>06X Working &amp; Studying</td>\n",
       "      <td>I</td>\n",
       "      <td>CA</td>\n",
       "      <td>740.0</td>\n",
       "      <td>0</td>\n",
       "      <td>0</td>\n",
       "      <td>0</td>\n",
       "      <td>0</td>\n",
       "      <td>...</td>\n",
       "      <td>0.0</td>\n",
       "      <td>0.0</td>\n",
       "      <td>0.0</td>\n",
       "      <td>0.0</td>\n",
       "      <td>0.0</td>\n",
       "      <td>0.0</td>\n",
       "      <td>0.0</td>\n",
       "      <td>0.0</td>\n",
       "      <td>0.0</td>\n",
       "      <td>0.0</td>\n",
       "      <td>0.0</td>\n",
       "      <td>0.0</td>\n",
       "    </tr>\n",
       "    <tr>\n",
       "      <th>2</th>\n",
       "      <td>3</td>\n",
       "      <td>668a21a7246f3196231b17c64dcbb74b</td>\n",
       "      <td>0</td>\n",
       "      <td>City &amp; Surrounds</td>\n",
       "      <td>NaN</td>\n",
       "      <td>I</td>\n",
       "      <td>NY</td>\n",
       "      <td>795.0</td>\n",
       "      <td>1</td>\n",
       "      <td>0</td>\n",
       "      <td>0</td>\n",
       "      <td>0</td>\n",
       "      <td>...</td>\n",
       "      <td>0.0</td>\n",
       "      <td>0.0</td>\n",
       "      <td>0.0</td>\n",
       "      <td>0.0</td>\n",
       "      <td>0.0</td>\n",
       "      <td>0.0</td>\n",
       "      <td>0.0</td>\n",
       "      <td>0.0</td>\n",
       "      <td>0.0</td>\n",
       "      <td>0.0</td>\n",
       "      <td>0.0</td>\n",
       "      <td>0.0</td>\n",
       "    </tr>\n",
       "  </tbody>\n",
       "</table>\n",
       "<p>3 rows × 648 columns</p>\n",
       "</div>"
      ],
      "text/plain": [
       "   Unnamed: 0                 email_address_md5  target          urbanity  \\\n",
       "0           1  f43783ee3a4e3e40e034fe4cbaafd63e       0             Rural   \n",
       "1           2  34c6fe5c95a9e55b3de574a5a3840dee       0    Downtown Metro   \n",
       "2           3  668a21a7246f3196231b17c64dcbb74b       0  City & Surrounds   \n",
       "\n",
       "     acxiom_cluster_group  \\\n",
       "0  13B Working Households   \n",
       "1  06X Working & Studying   \n",
       "2                     NaN   \n",
       "\n",
       "  ibe8627_age_input_individual_default_to_1st_individual_premier_flag  \\\n",
       "0                                                  I                    \n",
       "1                                                  I                    \n",
       "2                                                  I                    \n",
       "\n",
       "  cass_state  ibe2802_ita_score_zip_plus4_aggregate_ita_score  \\\n",
       "0         KY                                            613.0   \n",
       "1         CA                                            740.0   \n",
       "2         NY                                            795.0   \n",
       "\n",
       "   ibe2076_ibe_premier_socialconcerncausessupportedfinancially_charitable  \\\n",
       "0                                                  0                        \n",
       "1                                                  0                        \n",
       "2                                                  1                        \n",
       "\n",
       "   ibe2076_ibe_premier_socialconcerncausessupportedfinancially_animal_welfare  \\\n",
       "0                                                  0                            \n",
       "1                                                  0                            \n",
       "2                                                  0                            \n",
       "\n",
       "   ibe2076_ibe_premier_socialconcerncausessupportedfinancially_arts_or_cultural  \\\n",
       "0                                                  0                              \n",
       "1                                                  0                              \n",
       "2                                                  0                              \n",
       "\n",
       "   ibe2076_ibe_premier_socialconcerncausessupportedfinancially_childrens  ...  \\\n",
       "0                                                  0                      ...   \n",
       "1                                                  0                      ...   \n",
       "2                                                  0                      ...   \n",
       "\n",
       "   z531  z364  z261  z498  z52  z178  z87  z374  z319  z26  z257 z264  \n",
       "0   0.0   0.0   0.0   0.0  0.0   0.0  0.0   0.0   0.0  0.0   0.0  0.0  \n",
       "1   0.0   0.0   0.0   0.0  0.0   0.0  0.0   0.0   0.0  0.0   0.0  0.0  \n",
       "2   0.0   0.0   0.0   0.0  0.0   0.0  0.0   0.0   0.0  0.0   0.0  0.0  \n",
       "\n",
       "[3 rows x 648 columns]"
      ]
     },
     "execution_count": 586,
     "metadata": {},
     "output_type": "execute_result"
    }
   ],
   "source": [
    "binned_train.head(3)"
   ]
  },
  {
   "cell_type": "code",
   "execution_count": 587,
   "metadata": {},
   "outputs": [
    {
     "data": {
      "text/plain": [
       "902458"
      ]
     },
     "execution_count": 587,
     "metadata": {},
     "output_type": "execute_result"
    }
   ],
   "source": [
    "binned_train.isna().sum().sum() #272874"
   ]
  },
  {
   "cell_type": "markdown",
   "metadata": {
    "colab_type": "text",
    "id": "Ff1BfN4Pe7X3"
   },
   "source": [
    "### Lowering all categories ###"
   ]
  },
  {
   "cell_type": "code",
   "execution_count": 629,
   "metadata": {
    "colab": {
     "base_uri": "https://localhost:8080/",
     "height": 191
    },
    "colab_type": "code",
    "executionInfo": {
     "elapsed": 17401,
     "status": "ok",
     "timestamp": 1580692775351,
     "user": {
      "displayName": "Federico Francone",
      "photoUrl": "https://lh3.googleusercontent.com/a-/AAuE7mCvT-5R0e3T46w8v1AsqxSyhT-fEY26ltek6aRh=s64",
      "userId": "16122115063472740860"
     },
     "user_tz": -60
    },
    "id": "EPRIgHcBe7X4",
    "outputId": "ca7dfb64-2ae9-4fde-e97a-d6effa9cad32"
   },
   "outputs": [
    {
     "data": {
      "text/html": [
       "<div>\n",
       "<style scoped>\n",
       "    .dataframe tbody tr th:only-of-type {\n",
       "        vertical-align: middle;\n",
       "    }\n",
       "\n",
       "    .dataframe tbody tr th {\n",
       "        vertical-align: top;\n",
       "    }\n",
       "\n",
       "    .dataframe thead th {\n",
       "        text-align: right;\n",
       "    }\n",
       "</style>\n",
       "<table border=\"1\" class=\"dataframe\">\n",
       "  <thead>\n",
       "    <tr style=\"text-align: right;\">\n",
       "      <th></th>\n",
       "      <th>target</th>\n",
       "      <th>urbanity</th>\n",
       "      <th>acxiom_cluster_group</th>\n",
       "      <th>ibe8627_age_input_individual_default_to_1st_individual_premier_flag</th>\n",
       "      <th>cass_state</th>\n",
       "      <th>ibe2802_ita_score_zip_plus4_aggregate_ita_score</th>\n",
       "      <th>ibe2076_ibe_premier_socialconcerncausessupportedfinancially_charitable</th>\n",
       "      <th>ibe2076_ibe_premier_socialconcerncausessupportedfinancially_animal_welfare</th>\n",
       "      <th>ibe2076_ibe_premier_socialconcerncausessupportedfinancially_arts_or_cultural</th>\n",
       "      <th>ibe2076_ibe_premier_socialconcerncausessupportedfinancially_childrens</th>\n",
       "      <th>ibe2076_ibe_premier_socialconcerncausessupportedfinancially_environment_or_wildlife</th>\n",
       "      <th>ibe2076_ibe_premier_socialconcerncausessupportedfinancially_health</th>\n",
       "      <th>...</th>\n",
       "      <th>z531</th>\n",
       "      <th>z364</th>\n",
       "      <th>z261</th>\n",
       "      <th>z498</th>\n",
       "      <th>z52</th>\n",
       "      <th>z178</th>\n",
       "      <th>z87</th>\n",
       "      <th>z374</th>\n",
       "      <th>z319</th>\n",
       "      <th>z26</th>\n",
       "      <th>z257</th>\n",
       "      <th>z264</th>\n",
       "    </tr>\n",
       "  </thead>\n",
       "  <tbody>\n",
       "    <tr>\n",
       "      <th>0</th>\n",
       "      <td>0</td>\n",
       "      <td>rural</td>\n",
       "      <td>13b working households</td>\n",
       "      <td>i</td>\n",
       "      <td>ky</td>\n",
       "      <td>613.0</td>\n",
       "      <td>0</td>\n",
       "      <td>0</td>\n",
       "      <td>0</td>\n",
       "      <td>0</td>\n",
       "      <td>0</td>\n",
       "      <td>0</td>\n",
       "      <td>...</td>\n",
       "      <td>0.0</td>\n",
       "      <td>0.0</td>\n",
       "      <td>0.0</td>\n",
       "      <td>0.0</td>\n",
       "      <td>0.0</td>\n",
       "      <td>0.0</td>\n",
       "      <td>0.0</td>\n",
       "      <td>0.0</td>\n",
       "      <td>0.0</td>\n",
       "      <td>0.0</td>\n",
       "      <td>0.0</td>\n",
       "      <td>0.0</td>\n",
       "    </tr>\n",
       "    <tr>\n",
       "      <th>1</th>\n",
       "      <td>0</td>\n",
       "      <td>downtown metro</td>\n",
       "      <td>06x working &amp; studying</td>\n",
       "      <td>i</td>\n",
       "      <td>ca</td>\n",
       "      <td>740.0</td>\n",
       "      <td>0</td>\n",
       "      <td>0</td>\n",
       "      <td>0</td>\n",
       "      <td>0</td>\n",
       "      <td>0</td>\n",
       "      <td>0</td>\n",
       "      <td>...</td>\n",
       "      <td>0.0</td>\n",
       "      <td>0.0</td>\n",
       "      <td>0.0</td>\n",
       "      <td>0.0</td>\n",
       "      <td>0.0</td>\n",
       "      <td>0.0</td>\n",
       "      <td>0.0</td>\n",
       "      <td>0.0</td>\n",
       "      <td>0.0</td>\n",
       "      <td>0.0</td>\n",
       "      <td>0.0</td>\n",
       "      <td>0.0</td>\n",
       "    </tr>\n",
       "    <tr>\n",
       "      <th>2</th>\n",
       "      <td>0</td>\n",
       "      <td>city &amp; surrounds</td>\n",
       "      <td>missing</td>\n",
       "      <td>i</td>\n",
       "      <td>ny</td>\n",
       "      <td>795.0</td>\n",
       "      <td>1</td>\n",
       "      <td>0</td>\n",
       "      <td>0</td>\n",
       "      <td>0</td>\n",
       "      <td>0</td>\n",
       "      <td>1</td>\n",
       "      <td>...</td>\n",
       "      <td>0.0</td>\n",
       "      <td>0.0</td>\n",
       "      <td>0.0</td>\n",
       "      <td>0.0</td>\n",
       "      <td>0.0</td>\n",
       "      <td>0.0</td>\n",
       "      <td>0.0</td>\n",
       "      <td>0.0</td>\n",
       "      <td>0.0</td>\n",
       "      <td>0.0</td>\n",
       "      <td>0.0</td>\n",
       "      <td>0.0</td>\n",
       "    </tr>\n",
       "  </tbody>\n",
       "</table>\n",
       "<p>3 rows × 641 columns</p>\n",
       "</div>"
      ],
      "text/plain": [
       "   target          urbanity    acxiom_cluster_group  \\\n",
       "0       0             rural  13b working households   \n",
       "1       0    downtown metro  06x working & studying   \n",
       "2       0  city & surrounds                 missing   \n",
       "\n",
       "  ibe8627_age_input_individual_default_to_1st_individual_premier_flag  \\\n",
       "0                                                  i                    \n",
       "1                                                  i                    \n",
       "2                                                  i                    \n",
       "\n",
       "  cass_state  ibe2802_ita_score_zip_plus4_aggregate_ita_score  \\\n",
       "0         ky                                            613.0   \n",
       "1         ca                                            740.0   \n",
       "2         ny                                            795.0   \n",
       "\n",
       "   ibe2076_ibe_premier_socialconcerncausessupportedfinancially_charitable  \\\n",
       "0                                                  0                        \n",
       "1                                                  0                        \n",
       "2                                                  1                        \n",
       "\n",
       "   ibe2076_ibe_premier_socialconcerncausessupportedfinancially_animal_welfare  \\\n",
       "0                                                  0                            \n",
       "1                                                  0                            \n",
       "2                                                  0                            \n",
       "\n",
       "   ibe2076_ibe_premier_socialconcerncausessupportedfinancially_arts_or_cultural  \\\n",
       "0                                                  0                              \n",
       "1                                                  0                              \n",
       "2                                                  0                              \n",
       "\n",
       "   ibe2076_ibe_premier_socialconcerncausessupportedfinancially_childrens  \\\n",
       "0                                                  0                       \n",
       "1                                                  0                       \n",
       "2                                                  0                       \n",
       "\n",
       "   ibe2076_ibe_premier_socialconcerncausessupportedfinancially_environment_or_wildlife  \\\n",
       "0                                                  0                                     \n",
       "1                                                  0                                     \n",
       "2                                                  0                                     \n",
       "\n",
       "   ibe2076_ibe_premier_socialconcerncausessupportedfinancially_health  ...  \\\n",
       "0                                                  0                   ...   \n",
       "1                                                  0                   ...   \n",
       "2                                                  1                   ...   \n",
       "\n",
       "   z531  z364  z261  z498  z52  z178  z87  z374 z319  z26  z257  z264  \n",
       "0   0.0   0.0   0.0   0.0  0.0   0.0  0.0   0.0  0.0  0.0   0.0   0.0  \n",
       "1   0.0   0.0   0.0   0.0  0.0   0.0  0.0   0.0  0.0  0.0   0.0   0.0  \n",
       "2   0.0   0.0   0.0   0.0  0.0   0.0  0.0   0.0  0.0  0.0   0.0   0.0  \n",
       "\n",
       "[3 rows x 641 columns]"
      ]
     },
     "execution_count": 629,
     "metadata": {},
     "output_type": "execute_result"
    }
   ],
   "source": [
    "for col in binned_train.select_dtypes(include= object).columns:\n",
    "    binned_train[col]= binned_train[col].apply(lambda x: x.lower() if type(x)== str else x)\n",
    "    binned_test[col]= binned_test[col].apply(lambda x: x.lower() if type(x)== str else x)\n",
    "    \n",
    "binned_train.head(3)"
   ]
  },
  {
   "cell_type": "markdown",
   "metadata": {
    "colab_type": "text",
    "id": "8rcoC2uue7YD"
   },
   "source": [
    "### Handling Missing Values: just counting them here ###"
   ]
  },
  {
   "cell_type": "code",
   "execution_count": 630,
   "metadata": {
    "colab": {
     "base_uri": "https://localhost:8080/",
     "height": 204
    },
    "colab_type": "code",
    "executionInfo": {
     "elapsed": 17361,
     "status": "ok",
     "timestamp": 1580692776042,
     "user": {
      "displayName": "Federico Francone",
      "photoUrl": "https://lh3.googleusercontent.com/a-/AAuE7mCvT-5R0e3T46w8v1AsqxSyhT-fEY26ltek6aRh=s64",
      "userId": "16122115063472740860"
     },
     "user_tz": -60
    },
    "id": "h8fJ_iUZe7YL",
    "outputId": "02008856-8dc6-4778-ae1d-04cb6ae8a162"
   },
   "outputs": [
    {
     "data": {
      "text/plain": [
       "z264                                                                       0.0\n",
       "z345                                                                       0.0\n",
       "cpg_spending_propensities_alcohol_variables                                0.0\n",
       "cpg_product_propensities_shampoo_variables                                 0.0\n",
       "cpg_product_propensities_sanitary_napkins_variables                        0.0\n",
       "cpg_product_propensities_pets_variables                                    0.0\n",
       "cpg_product_propensities_perfume_and_cologne_for_women_variables           0.0\n",
       "cpg_product_propensities_pantiliners_variables                             0.0\n",
       "cpg_product_propensities_meal_dietary_weight_loss_supplements_variables    0.0\n",
       "cpg_product_propensities_liquor_non_lux_variables                          0.0\n",
       "dtype: float64"
      ]
     },
     "execution_count": 630,
     "metadata": {},
     "output_type": "execute_result"
    }
   ],
   "source": [
    "###################### NaN values ########################\n",
    "nan_per_col= {}\n",
    "for col in binned_train.columns:\n",
    "    nan_per_col[col]= binned_train[col].isna().sum()\n",
    "    \n",
    "nan_per_col= pd.Series(nan_per_col).sort_values(ascending= False)/len(binned_train)\n",
    "\n",
    "nan_per_col.iloc[:10]   #ok"
   ]
  },
  {
   "cell_type": "code",
   "execution_count": 631,
   "metadata": {
    "colab": {
     "base_uri": "https://localhost:8080/",
     "height": 102
    },
    "colab_type": "code",
    "executionInfo": {
     "elapsed": 17251,
     "status": "ok",
     "timestamp": 1580692776044,
     "user": {
      "displayName": "Federico Francone",
      "photoUrl": "https://lh3.googleusercontent.com/a-/AAuE7mCvT-5R0e3T46w8v1AsqxSyhT-fEY26ltek6aRh=s64",
      "userId": "16122115063472740860"
     },
     "user_tz": -60
    },
    "id": "zg8nk6ALl5nZ",
    "outputId": "4e71519b-3bc4-461b-970c-51efebc241f8"
   },
   "outputs": [
    {
     "name": "stdout",
     "output_type": "stream",
     "text": [
      "<class 'pandas.core.frame.DataFrame'>\n",
      "RangeIndex: 78436 entries, 0 to 78435\n",
      "Columns: 641 entries, target to z264\n",
      "dtypes: float64(534), int64(98), object(9)\n",
      "memory usage: 383.6+ MB\n"
     ]
    }
   ],
   "source": [
    "binned_train.info()"
   ]
  },
  {
   "cell_type": "code",
   "execution_count": 632,
   "metadata": {
    "colab": {
     "base_uri": "https://localhost:8080/",
     "height": 34
    },
    "colab_type": "code",
    "executionInfo": {
     "elapsed": 18083,
     "status": "ok",
     "timestamp": 1580692777114,
     "user": {
      "displayName": "Federico Francone",
      "photoUrl": "https://lh3.googleusercontent.com/a-/AAuE7mCvT-5R0e3T46w8v1AsqxSyhT-fEY26ltek6aRh=s64",
      "userId": "16122115063472740860"
     },
     "user_tz": -60
    },
    "id": "N7kIBWQvl5nb",
    "outputId": "2dd0fb64-e512-4d66-f215-a8e8a052929b"
   },
   "outputs": [
    {
     "name": "stdout",
     "output_type": "stream",
     "text": [
      "THERE ARE NO MISSING IN NUMERICAL FEATURES\n"
     ]
    }
   ],
   "source": [
    "if binned_train.select_dtypes(exclude= object).isna().sum().sum() != 0:\n",
    "    print('YOU HAVE TO HANDLE MISSING VALUES FOR NUMERICAL FEATS')\n",
    "else:\n",
    "    print('THERE ARE NO MISSING IN NUMERICAL FEATURES')"
   ]
  },
  {
   "cell_type": "code",
   "execution_count": 633,
   "metadata": {
    "colab": {},
    "colab_type": "code",
    "id": "2E5bi1ORl5ne"
   },
   "outputs": [],
   "source": [
    "for col in binned_train.select_dtypes(include= object):\n",
    "    binned_train[col].fillna('missing', inplace= True)"
   ]
  },
  {
   "cell_type": "code",
   "execution_count": 634,
   "metadata": {
    "colab": {
     "base_uri": "https://localhost:8080/",
     "height": 119
    },
    "colab_type": "code",
    "executionInfo": {
     "elapsed": 18559,
     "status": "ok",
     "timestamp": 1580692778661,
     "user": {
      "displayName": "Federico Francone",
      "photoUrl": "https://lh3.googleusercontent.com/a-/AAuE7mCvT-5R0e3T46w8v1AsqxSyhT-fEY26ltek6aRh=s64",
      "userId": "16122115063472740860"
     },
     "user_tz": -60
    },
    "id": "ze9e0Zg7e7YP",
    "outputId": "600f364b-eeb6-4e0c-e9c5-164fa8095429"
   },
   "outputs": [
    {
     "data": {
      "text/plain": [
       "ibe2360                 0.82\n",
       "ibe8637                 0.56\n",
       "ibe8531                 0.45\n",
       "acxiom_cluster_group    0.33\n",
       "ibe8609                 0.30\n",
       "dtype: float64"
      ]
     },
     "execution_count": 634,
     "metadata": {},
     "output_type": "execute_result"
    }
   ],
   "source": [
    "###################### Real NaN in 'cat variables', filled with 'Missing' ########################\n",
    "# binned_train.replace('missing', np.nan, inplace= True)\n",
    "not_managed = []\n",
    "\n",
    "missing_per_col= {}\n",
    "for col in binned_train.select_dtypes(include= object):\n",
    "    #nd[col]= round(binned_train[binned_train[col]== 'Missing'].shape[0]*100/ binned_train.shape[0], 2)\n",
    "    try:\n",
    "        missing_per_col[col]= round(binned_train[col].apply(\n",
    "                        lambda x: x.count('missing') if type(x)==str else 0).sum()/ binned_train.shape[0], 2)\n",
    "    except:\n",
    "        not_managed.append(col)\n",
    "        pass\n",
    "    \n",
    "    \n",
    "missing_per_col= pd.Series(missing_per_col).sort_values(ascending= False)\n",
    "missing_per_col.head()"
   ]
  },
  {
   "cell_type": "code",
   "execution_count": 635,
   "metadata": {
    "colab": {
     "base_uri": "https://localhost:8080/",
     "height": 34
    },
    "colab_type": "code",
    "executionInfo": {
     "elapsed": 18010,
     "status": "ok",
     "timestamp": 1580692778663,
     "user": {
      "displayName": "Federico Francone",
      "photoUrl": "https://lh3.googleusercontent.com/a-/AAuE7mCvT-5R0e3T46w8v1AsqxSyhT-fEY26ltek6aRh=s64",
      "userId": "16122115063472740860"
     },
     "user_tz": -60
    },
    "id": "8NcrZGVNl5nj",
    "outputId": "913d05aa-a24b-4c38-c061-9b1c25f654fe"
   },
   "outputs": [
    {
     "data": {
      "text/plain": [
       "[]"
      ]
     },
     "execution_count": 635,
     "metadata": {},
     "output_type": "execute_result"
    }
   ],
   "source": [
    "not_managed"
   ]
  },
  {
   "cell_type": "code",
   "execution_count": 636,
   "metadata": {
    "colab": {
     "base_uri": "https://localhost:8080/",
     "height": 170
    },
    "colab_type": "code",
    "executionInfo": {
     "elapsed": 17388,
     "status": "ok",
     "timestamp": 1580692778665,
     "user": {
      "displayName": "Federico Francone",
      "photoUrl": "https://lh3.googleusercontent.com/a-/AAuE7mCvT-5R0e3T46w8v1AsqxSyhT-fEY26ltek6aRh=s64",
      "userId": "16122115063472740860"
     },
     "user_tz": -60
    },
    "id": "mvVV-sYme7YT",
    "outputId": "83929c5e-5514-4254-c958-84c9ee0cdbaf",
    "scrolled": true
   },
   "outputs": [
    {
     "data": {
      "text/plain": [
       "count    9.000000\n",
       "mean     0.347778\n",
       "std      0.226869\n",
       "min      0.160000\n",
       "25%      0.160000\n",
       "50%      0.300000\n",
       "75%      0.450000\n",
       "max      0.820000\n",
       "dtype: float64"
      ]
     },
     "execution_count": 636,
     "metadata": {},
     "output_type": "execute_result"
    }
   ],
   "source": [
    "missing_per_col.describe()"
   ]
  },
  {
   "cell_type": "code",
   "execution_count": 637,
   "metadata": {
    "colab": {
     "base_uri": "https://localhost:8080/",
     "height": 34
    },
    "colab_type": "code",
    "executionInfo": {
     "elapsed": 17182,
     "status": "ok",
     "timestamp": 1580692778927,
     "user": {
      "displayName": "Federico Francone",
      "photoUrl": "https://lh3.googleusercontent.com/a-/AAuE7mCvT-5R0e3T46w8v1AsqxSyhT-fEY26ltek6aRh=s64",
      "userId": "16122115063472740860"
     },
     "user_tz": -60
    },
    "id": "x2r-yhwde7Ya",
    "outputId": "02e2d82a-00b4-430e-9879-e9d18b963a7a"
   },
   "outputs": [
    {
     "data": {
      "text/plain": [
       "(78436, 641)"
      ]
     },
     "execution_count": 637,
     "metadata": {},
     "output_type": "execute_result"
    }
   ],
   "source": [
    "### Taking off the ones having number of missing values > threshold\n",
    "\n",
    "thresh_na= 0.9\n",
    "\n",
    "cols_to_drop = list(missing_per_col[missing_per_col>= thresh_na].index)\n",
    "binned_train.drop(cols_to_drop, inplace= True, axis= 1)\n",
    "\n",
    "binned_train.shape  #(96399, 481)"
   ]
  },
  {
   "cell_type": "code",
   "execution_count": 638,
   "metadata": {
    "colab": {},
    "colab_type": "code",
    "hide_input": false,
    "id": "miXudyi7e7Yj"
   },
   "outputs": [],
   "source": [
    "#### Converting object columns into numerics when possible\n",
    "\n",
    "for col in binned_train.select_dtypes(include= object):\n",
    "    try:\n",
    "        binned_train[col] = binned_train[col].astype('float64')\n",
    "    except:\n",
    "        pass"
   ]
  },
  {
   "cell_type": "code",
   "execution_count": 639,
   "metadata": {
    "colab": {
     "base_uri": "https://localhost:8080/",
     "height": 102
    },
    "colab_type": "code",
    "executionInfo": {
     "elapsed": 11438,
     "status": "ok",
     "timestamp": 1580692779196,
     "user": {
      "displayName": "Federico Francone",
      "photoUrl": "https://lh3.googleusercontent.com/a-/AAuE7mCvT-5R0e3T46w8v1AsqxSyhT-fEY26ltek6aRh=s64",
      "userId": "16122115063472740860"
     },
     "user_tz": -60
    },
    "id": "E45McZfYe7Yp",
    "outputId": "cfc5da9c-0d37-4fe1-851f-1826d2ab9112"
   },
   "outputs": [
    {
     "name": "stdout",
     "output_type": "stream",
     "text": [
      "<class 'pandas.core.frame.DataFrame'>\n",
      "RangeIndex: 78436 entries, 0 to 78435\n",
      "Columns: 641 entries, target to z264\n",
      "dtypes: float64(534), int64(98), object(9)\n",
      "memory usage: 383.6+ MB\n"
     ]
    }
   ],
   "source": [
    "binned_train.info()"
   ]
  },
  {
   "cell_type": "markdown",
   "metadata": {
    "colab_type": "text",
    "id": "UBW3A_p4e7Yt"
   },
   "source": [
    "#### Handling Missing Values with median (for numerical data) and 'Missing' string for object data"
   ]
  },
  {
   "cell_type": "code",
   "execution_count": 640,
   "metadata": {
    "colab": {
     "base_uri": "https://localhost:8080/",
     "height": 275
    },
    "colab_type": "code",
    "executionInfo": {
     "elapsed": 10814,
     "status": "ok",
     "timestamp": 1580692779365,
     "user": {
      "displayName": "Federico Francone",
      "photoUrl": "https://lh3.googleusercontent.com/a-/AAuE7mCvT-5R0e3T46w8v1AsqxSyhT-fEY26ltek6aRh=s64",
      "userId": "16122115063472740860"
     },
     "user_tz": -60
    },
    "id": "H-Yw-bVne7Yu",
    "outputId": "692a796d-3da7-4232-b75c-fe9608a26524"
   },
   "outputs": [
    {
     "data": {
      "text/html": [
       "<div>\n",
       "<style scoped>\n",
       "    .dataframe tbody tr th:only-of-type {\n",
       "        vertical-align: middle;\n",
       "    }\n",
       "\n",
       "    .dataframe tbody tr th {\n",
       "        vertical-align: top;\n",
       "    }\n",
       "\n",
       "    .dataframe thead th {\n",
       "        text-align: right;\n",
       "    }\n",
       "</style>\n",
       "<table border=\"1\" class=\"dataframe\">\n",
       "  <thead>\n",
       "    <tr style=\"text-align: right;\">\n",
       "      <th></th>\n",
       "      <th>urbanity</th>\n",
       "      <th>acxiom_cluster_group</th>\n",
       "      <th>ibe8627_age_input_individual_default_to_1st_individual_premier_flag</th>\n",
       "      <th>cass_state</th>\n",
       "      <th>ibe2360</th>\n",
       "      <th>ibe8531</th>\n",
       "      <th>ibe8609</th>\n",
       "      <th>ibe8637</th>\n",
       "      <th>ibe8642</th>\n",
       "    </tr>\n",
       "  </thead>\n",
       "  <tbody>\n",
       "    <tr>\n",
       "      <th>10268</th>\n",
       "      <td>city &amp; surrounds</td>\n",
       "      <td>missing</td>\n",
       "      <td>i</td>\n",
       "      <td>md</td>\n",
       "      <td>missing</td>\n",
       "      <td>d</td>\n",
       "      <td>m</td>\n",
       "      <td>1</td>\n",
       "      <td>q</td>\n",
       "    </tr>\n",
       "    <tr>\n",
       "      <th>46983</th>\n",
       "      <td>city &amp; surrounds</td>\n",
       "      <td>missing</td>\n",
       "      <td>i</td>\n",
       "      <td>il</td>\n",
       "      <td>missing</td>\n",
       "      <td>v</td>\n",
       "      <td>m</td>\n",
       "      <td>z</td>\n",
       "      <td>j</td>\n",
       "    </tr>\n",
       "    <tr>\n",
       "      <th>23181</th>\n",
       "      <td>missing</td>\n",
       "      <td>missing</td>\n",
       "      <td>i</td>\n",
       "      <td>missing</td>\n",
       "      <td>e059</td>\n",
       "      <td>d</td>\n",
       "      <td>missing</td>\n",
       "      <td>5</td>\n",
       "      <td>missing</td>\n",
       "    </tr>\n",
       "    <tr>\n",
       "      <th>40887</th>\n",
       "      <td>city &amp; surrounds</td>\n",
       "      <td>20s community minded</td>\n",
       "      <td>i</td>\n",
       "      <td>me</td>\n",
       "      <td>e035</td>\n",
       "      <td>d</td>\n",
       "      <td>m</td>\n",
       "      <td>1</td>\n",
       "      <td>j</td>\n",
       "    </tr>\n",
       "    <tr>\n",
       "      <th>69353</th>\n",
       "      <td>city &amp; surrounds</td>\n",
       "      <td>05x busy households</td>\n",
       "      <td>i</td>\n",
       "      <td>sc</td>\n",
       "      <td>missing</td>\n",
       "      <td>missing</td>\n",
       "      <td>s</td>\n",
       "      <td>missing</td>\n",
       "      <td>a</td>\n",
       "    </tr>\n",
       "  </tbody>\n",
       "</table>\n",
       "</div>"
      ],
      "text/plain": [
       "               urbanity  acxiom_cluster_group  \\\n",
       "10268  city & surrounds               missing   \n",
       "46983  city & surrounds               missing   \n",
       "23181           missing               missing   \n",
       "40887  city & surrounds  20s community minded   \n",
       "69353  city & surrounds   05x busy households   \n",
       "\n",
       "      ibe8627_age_input_individual_default_to_1st_individual_premier_flag  \\\n",
       "10268                                                  i                    \n",
       "46983                                                  i                    \n",
       "23181                                                  i                    \n",
       "40887                                                  i                    \n",
       "69353                                                  i                    \n",
       "\n",
       "      cass_state  ibe2360  ibe8531  ibe8609  ibe8637  ibe8642  \n",
       "10268         md  missing        d        m        1        q  \n",
       "46983         il  missing        v        m        z        j  \n",
       "23181    missing     e059        d  missing        5  missing  \n",
       "40887         me     e035        d        m        1        j  \n",
       "69353         sc  missing  missing        s  missing        a  "
      ]
     },
     "execution_count": 640,
     "metadata": {},
     "output_type": "execute_result"
    }
   ],
   "source": [
    "binned_train.select_dtypes(include= object).sample(5)"
   ]
  },
  {
   "cell_type": "code",
   "execution_count": 641,
   "metadata": {
    "colab": {},
    "colab_type": "code",
    "id": "SzWpdshZe7Yz"
   },
   "outputs": [],
   "source": [
    "## For categorical columns I put missing\n",
    "\n",
    "#for col in binned_train.select_dtypes(include= object).columns:\n",
    "    #binned_train[col]= binned_train[col].fillna('Missing')"
   ]
  },
  {
   "cell_type": "code",
   "execution_count": 642,
   "metadata": {
    "colab": {},
    "colab_type": "code",
    "id": "mro8yN16e7ZW"
   },
   "outputs": [],
   "source": [
    "#binned_train.select_dtypes(include= object).sample(5)"
   ]
  },
  {
   "cell_type": "code",
   "execution_count": 643,
   "metadata": {
    "colab": {
     "base_uri": "https://localhost:8080/",
     "height": 34
    },
    "colab_type": "code",
    "executionInfo": {
     "elapsed": 11163,
     "status": "ok",
     "timestamp": 1580692780520,
     "user": {
      "displayName": "Federico Francone",
      "photoUrl": "https://lh3.googleusercontent.com/a-/AAuE7mCvT-5R0e3T46w8v1AsqxSyhT-fEY26ltek6aRh=s64",
      "userId": "16122115063472740860"
     },
     "user_tz": -60
    },
    "id": "zqlwe3iCe7Za",
    "outputId": "427759db-b74c-42a7-d213-4ae24b91afd6"
   },
   "outputs": [
    {
     "name": "stdout",
     "output_type": "stream",
     "text": [
      "641 632 9\n"
     ]
    }
   ],
   "source": [
    "print(binned_train.shape[1], len(binned_train.select_dtypes(include= 'number').columns), \n",
    "      len(binned_train.select_dtypes(include= object).columns))"
   ]
  },
  {
   "cell_type": "markdown",
   "metadata": {},
   "source": [
    "### Binary Features in 0-1"
   ]
  },
  {
   "cell_type": "code",
   "execution_count": 644,
   "metadata": {},
   "outputs": [
    {
     "data": {
      "text/plain": [
       "98"
      ]
     },
     "execution_count": 644,
     "metadata": {},
     "output_type": "execute_result"
    }
   ],
   "source": [
    "binary_feats= []\n",
    "for col in binned_train.columns:\n",
    "    if binned_train[col].nunique()== 2:\n",
    "        binary_feats.append(col)\n",
    "\n",
    "len(binary_feats)"
   ]
  },
  {
   "cell_type": "code",
   "execution_count": 645,
   "metadata": {
    "colab": {},
    "colab_type": "code",
    "id": "rj19u6YWe7Zd"
   },
   "outputs": [],
   "source": [
    "###### filling with mean/median for numerical variables ####\n",
    "for col in binned_train.select_dtypes(exclude= object).columns:\n",
    "    binned_train[col]= binned_train[col].apply(lambda x: np.nan if x== 'missing' else x)\n",
    "    \n",
    "    if col in binary_feats:\n",
    "        binned_train[col]= binned_train[col].fillna(binned_train[col].mean())\n",
    "    else:\n",
    "        binned_train[col]= binned_train[col].fillna(binned_train[col].median())  #valuta se aggiungere un po di noise"
   ]
  },
  {
   "cell_type": "code",
   "execution_count": 646,
   "metadata": {
    "colab": {
     "base_uri": "https://localhost:8080/",
     "height": 34
    },
    "colab_type": "code",
    "executionInfo": {
     "elapsed": 42072,
     "status": "ok",
     "timestamp": 1580692811840,
     "user": {
      "displayName": "Federico Francone",
      "photoUrl": "https://lh3.googleusercontent.com/a-/AAuE7mCvT-5R0e3T46w8v1AsqxSyhT-fEY26ltek6aRh=s64",
      "userId": "16122115063472740860"
     },
     "user_tz": -60
    },
    "id": "_1sVM4RAe7Zh",
    "outputId": "ccd809de-e87b-48ff-ea64-677df3de70e4"
   },
   "outputs": [
    {
     "data": {
      "text/plain": [
       "0"
      ]
     },
     "execution_count": 646,
     "metadata": {},
     "output_type": "execute_result"
    }
   ],
   "source": [
    "binned_train.isna().sum().sum() "
   ]
  },
  {
   "cell_type": "code",
   "execution_count": 647,
   "metadata": {},
   "outputs": [
    {
     "data": {
      "text/plain": [
       "0"
      ]
     },
     "execution_count": 647,
     "metadata": {},
     "output_type": "execute_result"
    }
   ],
   "source": [
    "binned_train.drop(binned_train.isna().sum()[binned_train.isna().sum() > 0].index.tolist(), axis=1, inplace= True)\n",
    "\n",
    "binned_train.isna().sum().sum() "
   ]
  },
  {
   "cell_type": "markdown",
   "metadata": {
    "colab_type": "text",
    "id": "RRhpGkVDe7Zk"
   },
   "source": [
    "#### Degree of index (n° of different values per column)"
   ]
  },
  {
   "cell_type": "code",
   "execution_count": 648,
   "metadata": {
    "colab": {
     "base_uri": "https://localhost:8080/",
     "height": 196
    },
    "colab_type": "code",
    "executionInfo": {
     "elapsed": 41845,
     "status": "ok",
     "timestamp": 1580692812242,
     "user": {
      "displayName": "Federico Francone",
      "photoUrl": "https://lh3.googleusercontent.com/a-/AAuE7mCvT-5R0e3T46w8v1AsqxSyhT-fEY26ltek6aRh=s64",
      "userId": "16122115063472740860"
     },
     "user_tz": -60
    },
    "id": "IzK8AoIHe7Zl",
    "outputId": "9673c6f4-d4d1-45bc-f9a1-481ecfc1a14a"
   },
   "outputs": [
    {
     "data": {
      "text/html": [
       "<div>\n",
       "<style scoped>\n",
       "    .dataframe tbody tr th:only-of-type {\n",
       "        vertical-align: middle;\n",
       "    }\n",
       "\n",
       "    .dataframe tbody tr th {\n",
       "        vertical-align: top;\n",
       "    }\n",
       "\n",
       "    .dataframe thead th {\n",
       "        text-align: right;\n",
       "    }\n",
       "</style>\n",
       "<table border=\"1\" class=\"dataframe\">\n",
       "  <thead>\n",
       "    <tr style=\"text-align: right;\">\n",
       "      <th></th>\n",
       "      <th>urbanity</th>\n",
       "      <th>acxiom_cluster_group</th>\n",
       "      <th>ibe8627_age_input_individual_default_to_1st_individual_premier_flag</th>\n",
       "      <th>cass_state</th>\n",
       "      <th>ibe2360</th>\n",
       "      <th>ibe8531</th>\n",
       "      <th>ibe8609</th>\n",
       "      <th>ibe8637</th>\n",
       "      <th>ibe8642</th>\n",
       "    </tr>\n",
       "  </thead>\n",
       "  <tbody>\n",
       "    <tr>\n",
       "      <th>69541</th>\n",
       "      <td>downtown metro</td>\n",
       "      <td>21s leisure seekers</td>\n",
       "      <td>i</td>\n",
       "      <td>sc</td>\n",
       "      <td>missing</td>\n",
       "      <td>missing</td>\n",
       "      <td>m</td>\n",
       "      <td>8</td>\n",
       "      <td>e</td>\n",
       "    </tr>\n",
       "    <tr>\n",
       "      <th>40959</th>\n",
       "      <td>city &amp; surrounds</td>\n",
       "      <td>02y taking hold</td>\n",
       "      <td>missing</td>\n",
       "      <td>ca</td>\n",
       "      <td>missing</td>\n",
       "      <td>missing</td>\n",
       "      <td>missing</td>\n",
       "      <td>missing</td>\n",
       "      <td>n</td>\n",
       "    </tr>\n",
       "    <tr>\n",
       "      <th>69789</th>\n",
       "      <td>city &amp; surrounds</td>\n",
       "      <td>05x busy households</td>\n",
       "      <td>i</td>\n",
       "      <td>ia</td>\n",
       "      <td>missing</td>\n",
       "      <td>missing</td>\n",
       "      <td>s</td>\n",
       "      <td>missing</td>\n",
       "      <td>g</td>\n",
       "    </tr>\n",
       "  </tbody>\n",
       "</table>\n",
       "</div>"
      ],
      "text/plain": [
       "               urbanity acxiom_cluster_group  \\\n",
       "69541    downtown metro  21s leisure seekers   \n",
       "40959  city & surrounds      02y taking hold   \n",
       "69789  city & surrounds  05x busy households   \n",
       "\n",
       "      ibe8627_age_input_individual_default_to_1st_individual_premier_flag  \\\n",
       "69541                                                  i                    \n",
       "40959                                            missing                    \n",
       "69789                                                  i                    \n",
       "\n",
       "      cass_state  ibe2360  ibe8531  ibe8609  ibe8637 ibe8642  \n",
       "69541         sc  missing  missing        m        8       e  \n",
       "40959         ca  missing  missing  missing  missing       n  \n",
       "69789         ia  missing  missing        s  missing       g  "
      ]
     },
     "execution_count": 648,
     "metadata": {},
     "output_type": "execute_result"
    }
   ],
   "source": [
    "binned_train.select_dtypes(include= object).sample(3)"
   ]
  },
  {
   "cell_type": "code",
   "execution_count": 649,
   "metadata": {
    "colab": {
     "base_uri": "https://localhost:8080/",
     "height": 170
    },
    "colab_type": "code",
    "executionInfo": {
     "elapsed": 41992,
     "status": "ok",
     "timestamp": 1580692812504,
     "user": {
      "displayName": "Federico Francone",
      "photoUrl": "https://lh3.googleusercontent.com/a-/AAuE7mCvT-5R0e3T46w8v1AsqxSyhT-fEY26ltek6aRh=s64",
      "userId": "16122115063472740860"
     },
     "user_tz": -60
    },
    "id": "ScZ25d6Ke7Zq",
    "outputId": "5ad9d6fe-bd4a-4865-ec61-c0d911ddbd16"
   },
   "outputs": [
    {
     "data": {
      "text/plain": [
       "count    9.000000\n",
       "mean     0.000499\n",
       "std      0.000869\n",
       "min      0.000038\n",
       "10%      0.000059\n",
       "50%      0.000242\n",
       "90%      0.001081\n",
       "max      0.002754\n",
       "dtype: float64"
      ]
     },
     "execution_count": 649,
     "metadata": {},
     "output_type": "execute_result"
    }
   ],
   "source": [
    "degree_id_per_cat= {}\n",
    "\n",
    "for col in binned_train.select_dtypes(include= object).columns: #only relevant to object types\n",
    "    degree_id_per_cat[col]= binned_train[col].nunique()\n",
    "    \n",
    "degree_id_per_cat= pd.Series(degree_id_per_cat).sort_values(ascending= False)/len(binned_train)\n",
    "\n",
    "degree_id_per_cat.describe(percentiles= [0.1, 0.5, 0.9])  #maximum 7 different categories, they could be One Hot Encoded"
   ]
  },
  {
   "cell_type": "markdown",
   "metadata": {
    "colab_type": "text",
    "id": "7ynQLEw1e7Zt"
   },
   "source": [
    "### Removing (almost) costants and index columns ####"
   ]
  },
  {
   "cell_type": "code",
   "execution_count": 650,
   "metadata": {
    "colab": {
     "base_uri": "https://localhost:8080/",
     "height": 102
    },
    "colab_type": "code",
    "executionInfo": {
     "elapsed": 40078,
     "status": "ok",
     "timestamp": 1580692812784,
     "user": {
      "displayName": "Federico Francone",
      "photoUrl": "https://lh3.googleusercontent.com/a-/AAuE7mCvT-5R0e3T46w8v1AsqxSyhT-fEY26ltek6aRh=s64",
      "userId": "16122115063472740860"
     },
     "user_tz": -60
    },
    "id": "31LMfK8-e7Zu",
    "outputId": "52023fa1-8570-4179-ce38-019cb77d2874",
    "scrolled": true
   },
   "outputs": [
    {
     "name": "stdout",
     "output_type": "stream",
     "text": [
      "<class 'pandas.core.frame.DataFrame'>\n",
      "RangeIndex: 78436 entries, 0 to 78435\n",
      "Columns: 641 entries, target to z264\n",
      "dtypes: float64(534), int64(98), object(9)\n",
      "memory usage: 383.6+ MB\n"
     ]
    }
   ],
   "source": [
    "threshold_index= 0.95  #if a catgorical columns has at 95% all different values, then it is almost an index --> drop\n",
    "\n",
    "binned_train= binned_train.drop(list((degree_id_per_cat[degree_id_per_cat >= threshold_index ]).index), axis=1, errors= 'ignore')\n",
    "binned_train.info()"
   ]
  },
  {
   "cell_type": "code",
   "execution_count": 651,
   "metadata": {
    "colab": {
     "base_uri": "https://localhost:8080/",
     "height": 170
    },
    "colab_type": "code",
    "executionInfo": {
     "elapsed": 41754,
     "status": "ok",
     "timestamp": 1580692814920,
     "user": {
      "displayName": "Federico Francone",
      "photoUrl": "https://lh3.googleusercontent.com/a-/AAuE7mCvT-5R0e3T46w8v1AsqxSyhT-fEY26ltek6aRh=s64",
      "userId": "16122115063472740860"
     },
     "user_tz": -60
    },
    "id": "B23syRaYe7Zx",
    "outputId": "5cc62e92-9185-43df-d5b5-5c3953dfba2f"
   },
   "outputs": [
    {
     "data": {
      "text/plain": [
       "count    632.000000\n",
       "mean       0.004895\n",
       "std        0.034293\n",
       "min        0.000025\n",
       "10%        0.000025\n",
       "50%        0.001307\n",
       "90%        0.007216\n",
       "max        0.596537\n",
       "dtype: float64"
      ]
     },
     "execution_count": 651,
     "metadata": {},
     "output_type": "execute_result"
    }
   ],
   "source": [
    "degree_id_per_cont= {}   #for numerical variables\n",
    "\n",
    "for col in binned_train.select_dtypes(include= 'number').columns: #only relevant to object types\n",
    "    degree_id_per_cont[col]= binned_train[col].nunique()\n",
    "    \n",
    "degree_id_per_cont= pd.Series(degree_id_per_cont).sort_values(ascending= False)/len(binned_train)\n",
    "\n",
    "degree_id_per_cont.describe(percentiles= [0.1, 0.5, 0.9])  #maximum 7 different categories, they could be One Hot Encoded"
   ]
  },
  {
   "cell_type": "code",
   "execution_count": 652,
   "metadata": {
    "colab": {
     "base_uri": "https://localhost:8080/",
     "height": 102
    },
    "colab_type": "code",
    "executionInfo": {
     "elapsed": 42001,
     "status": "ok",
     "timestamp": 1580692815288,
     "user": {
      "displayName": "Federico Francone",
      "photoUrl": "https://lh3.googleusercontent.com/a-/AAuE7mCvT-5R0e3T46w8v1AsqxSyhT-fEY26ltek6aRh=s64",
      "userId": "16122115063472740860"
     },
     "user_tz": -60
    },
    "id": "oR_hGmSre7Z0",
    "outputId": "589bc241-6489-40f6-97d5-91f2b650ec83"
   },
   "outputs": [
    {
     "name": "stdout",
     "output_type": "stream",
     "text": [
      "<class 'pandas.core.frame.DataFrame'>\n",
      "RangeIndex: 78436 entries, 0 to 78435\n",
      "Columns: 641 entries, target to z264\n",
      "dtypes: float64(534), int64(98), object(9)\n",
      "memory usage: 383.6+ MB\n"
     ]
    }
   ],
   "source": [
    "threshold_index= 1  #if a continuos columns has at 90% all different values, then it is almost an index --> drop\n",
    "\n",
    "binned_train= binned_train.drop(list((degree_id_per_cont[degree_id_per_cont >= threshold_index ]).index), axis=1, errors= 'ignore')\n",
    "binned_train.info()"
   ]
  },
  {
   "cell_type": "code",
   "execution_count": 653,
   "metadata": {
    "colab": {
     "base_uri": "https://localhost:8080/",
     "height": 191
    },
    "colab_type": "code",
    "executionInfo": {
     "elapsed": 41880,
     "status": "ok",
     "timestamp": 1580692815289,
     "user": {
      "displayName": "Federico Francone",
      "photoUrl": "https://lh3.googleusercontent.com/a-/AAuE7mCvT-5R0e3T46w8v1AsqxSyhT-fEY26ltek6aRh=s64",
      "userId": "16122115063472740860"
     },
     "user_tz": -60
    },
    "id": "zCyz7D0Ge7Z3",
    "outputId": "f5020c2f-5c45-4ff9-d53f-b21e64b499b0"
   },
   "outputs": [
    {
     "data": {
      "text/html": [
       "<div>\n",
       "<style scoped>\n",
       "    .dataframe tbody tr th:only-of-type {\n",
       "        vertical-align: middle;\n",
       "    }\n",
       "\n",
       "    .dataframe tbody tr th {\n",
       "        vertical-align: top;\n",
       "    }\n",
       "\n",
       "    .dataframe thead th {\n",
       "        text-align: right;\n",
       "    }\n",
       "</style>\n",
       "<table border=\"1\" class=\"dataframe\">\n",
       "  <thead>\n",
       "    <tr style=\"text-align: right;\">\n",
       "      <th></th>\n",
       "      <th>target</th>\n",
       "      <th>urbanity</th>\n",
       "      <th>acxiom_cluster_group</th>\n",
       "      <th>ibe8627_age_input_individual_default_to_1st_individual_premier_flag</th>\n",
       "      <th>cass_state</th>\n",
       "      <th>ibe2802_ita_score_zip_plus4_aggregate_ita_score</th>\n",
       "      <th>ibe2076_ibe_premier_socialconcerncausessupportedfinancially_charitable</th>\n",
       "      <th>ibe2076_ibe_premier_socialconcerncausessupportedfinancially_animal_welfare</th>\n",
       "      <th>ibe2076_ibe_premier_socialconcerncausessupportedfinancially_arts_or_cultural</th>\n",
       "      <th>ibe2076_ibe_premier_socialconcerncausessupportedfinancially_childrens</th>\n",
       "      <th>ibe2076_ibe_premier_socialconcerncausessupportedfinancially_environment_or_wildlife</th>\n",
       "      <th>ibe2076_ibe_premier_socialconcerncausessupportedfinancially_health</th>\n",
       "      <th>...</th>\n",
       "      <th>z531</th>\n",
       "      <th>z364</th>\n",
       "      <th>z261</th>\n",
       "      <th>z498</th>\n",
       "      <th>z52</th>\n",
       "      <th>z178</th>\n",
       "      <th>z87</th>\n",
       "      <th>z374</th>\n",
       "      <th>z319</th>\n",
       "      <th>z26</th>\n",
       "      <th>z257</th>\n",
       "      <th>z264</th>\n",
       "    </tr>\n",
       "  </thead>\n",
       "  <tbody>\n",
       "    <tr>\n",
       "      <th>0</th>\n",
       "      <td>0</td>\n",
       "      <td>rural</td>\n",
       "      <td>13b working households</td>\n",
       "      <td>i</td>\n",
       "      <td>ky</td>\n",
       "      <td>613.0</td>\n",
       "      <td>0</td>\n",
       "      <td>0</td>\n",
       "      <td>0</td>\n",
       "      <td>0</td>\n",
       "      <td>0</td>\n",
       "      <td>0</td>\n",
       "      <td>...</td>\n",
       "      <td>0.0</td>\n",
       "      <td>0.0</td>\n",
       "      <td>0.0</td>\n",
       "      <td>0.0</td>\n",
       "      <td>0.0</td>\n",
       "      <td>0.0</td>\n",
       "      <td>0.0</td>\n",
       "      <td>0.0</td>\n",
       "      <td>0.0</td>\n",
       "      <td>0.0</td>\n",
       "      <td>0.0</td>\n",
       "      <td>0.0</td>\n",
       "    </tr>\n",
       "    <tr>\n",
       "      <th>1</th>\n",
       "      <td>0</td>\n",
       "      <td>downtown metro</td>\n",
       "      <td>06x working &amp; studying</td>\n",
       "      <td>i</td>\n",
       "      <td>ca</td>\n",
       "      <td>740.0</td>\n",
       "      <td>0</td>\n",
       "      <td>0</td>\n",
       "      <td>0</td>\n",
       "      <td>0</td>\n",
       "      <td>0</td>\n",
       "      <td>0</td>\n",
       "      <td>...</td>\n",
       "      <td>0.0</td>\n",
       "      <td>0.0</td>\n",
       "      <td>0.0</td>\n",
       "      <td>0.0</td>\n",
       "      <td>0.0</td>\n",
       "      <td>0.0</td>\n",
       "      <td>0.0</td>\n",
       "      <td>0.0</td>\n",
       "      <td>0.0</td>\n",
       "      <td>0.0</td>\n",
       "      <td>0.0</td>\n",
       "      <td>0.0</td>\n",
       "    </tr>\n",
       "    <tr>\n",
       "      <th>2</th>\n",
       "      <td>0</td>\n",
       "      <td>city &amp; surrounds</td>\n",
       "      <td>missing</td>\n",
       "      <td>i</td>\n",
       "      <td>ny</td>\n",
       "      <td>795.0</td>\n",
       "      <td>1</td>\n",
       "      <td>0</td>\n",
       "      <td>0</td>\n",
       "      <td>0</td>\n",
       "      <td>0</td>\n",
       "      <td>1</td>\n",
       "      <td>...</td>\n",
       "      <td>0.0</td>\n",
       "      <td>0.0</td>\n",
       "      <td>0.0</td>\n",
       "      <td>0.0</td>\n",
       "      <td>0.0</td>\n",
       "      <td>0.0</td>\n",
       "      <td>0.0</td>\n",
       "      <td>0.0</td>\n",
       "      <td>0.0</td>\n",
       "      <td>0.0</td>\n",
       "      <td>0.0</td>\n",
       "      <td>0.0</td>\n",
       "    </tr>\n",
       "  </tbody>\n",
       "</table>\n",
       "<p>3 rows × 641 columns</p>\n",
       "</div>"
      ],
      "text/plain": [
       "   target          urbanity    acxiom_cluster_group  \\\n",
       "0       0             rural  13b working households   \n",
       "1       0    downtown metro  06x working & studying   \n",
       "2       0  city & surrounds                 missing   \n",
       "\n",
       "  ibe8627_age_input_individual_default_to_1st_individual_premier_flag  \\\n",
       "0                                                  i                    \n",
       "1                                                  i                    \n",
       "2                                                  i                    \n",
       "\n",
       "  cass_state  ibe2802_ita_score_zip_plus4_aggregate_ita_score  \\\n",
       "0         ky                                            613.0   \n",
       "1         ca                                            740.0   \n",
       "2         ny                                            795.0   \n",
       "\n",
       "   ibe2076_ibe_premier_socialconcerncausessupportedfinancially_charitable  \\\n",
       "0                                                  0                        \n",
       "1                                                  0                        \n",
       "2                                                  1                        \n",
       "\n",
       "   ibe2076_ibe_premier_socialconcerncausessupportedfinancially_animal_welfare  \\\n",
       "0                                                  0                            \n",
       "1                                                  0                            \n",
       "2                                                  0                            \n",
       "\n",
       "   ibe2076_ibe_premier_socialconcerncausessupportedfinancially_arts_or_cultural  \\\n",
       "0                                                  0                              \n",
       "1                                                  0                              \n",
       "2                                                  0                              \n",
       "\n",
       "   ibe2076_ibe_premier_socialconcerncausessupportedfinancially_childrens  \\\n",
       "0                                                  0                       \n",
       "1                                                  0                       \n",
       "2                                                  0                       \n",
       "\n",
       "   ibe2076_ibe_premier_socialconcerncausessupportedfinancially_environment_or_wildlife  \\\n",
       "0                                                  0                                     \n",
       "1                                                  0                                     \n",
       "2                                                  0                                     \n",
       "\n",
       "   ibe2076_ibe_premier_socialconcerncausessupportedfinancially_health  ...  \\\n",
       "0                                                  0                   ...   \n",
       "1                                                  0                   ...   \n",
       "2                                                  1                   ...   \n",
       "\n",
       "   z531  z364  z261  z498  z52  z178  z87  z374 z319  z26  z257  z264  \n",
       "0   0.0   0.0   0.0   0.0  0.0   0.0  0.0   0.0  0.0  0.0   0.0   0.0  \n",
       "1   0.0   0.0   0.0   0.0  0.0   0.0  0.0   0.0  0.0  0.0   0.0   0.0  \n",
       "2   0.0   0.0   0.0   0.0  0.0   0.0  0.0   0.0  0.0  0.0   0.0   0.0  \n",
       "\n",
       "[3 rows x 641 columns]"
      ]
     },
     "execution_count": 653,
     "metadata": {},
     "output_type": "execute_result"
    }
   ],
   "source": [
    "binned_train.head(3)"
   ]
  },
  {
   "cell_type": "markdown",
   "metadata": {
    "colab_type": "text",
    "id": "-zbU1u46e7Z8"
   },
   "source": [
    "#### Degree of Constancy ####"
   ]
  },
  {
   "cell_type": "code",
   "execution_count": 654,
   "metadata": {},
   "outputs": [
    {
     "data": {
      "text/plain": [
       "Index(['target', 'urbanity', 'acxiom_cluster_group',\n",
       "       'ibe8627_age_input_individual_default_to_1st_individual_premier_flag',\n",
       "       'cass_state', 'ibe2802_ita_score_zip_plus4_aggregate_ita_score',\n",
       "       'ibe2076_ibe_premier_socialconcerncausessupportedfinancially_charitable',\n",
       "       'ibe2076_ibe_premier_socialconcerncausessupportedfinancially_animal_welfare',\n",
       "       'ibe2076_ibe_premier_socialconcerncausessupportedfinancially_arts_or_cultural',\n",
       "       'ibe2076_ibe_premier_socialconcerncausessupportedfinancially_childrens',\n",
       "       ...\n",
       "       'z261', 'z498', 'z52', 'z178', 'z87', 'z374', 'z319', 'z26', 'z257',\n",
       "       'z264'],\n",
       "      dtype='object', length=641)"
      ]
     },
     "execution_count": 654,
     "metadata": {},
     "output_type": "execute_result"
    }
   ],
   "source": [
    "binned_train.columns"
   ]
  },
  {
   "cell_type": "code",
   "execution_count": 655,
   "metadata": {
    "colab": {
     "base_uri": "https://localhost:8080/",
     "height": 204
    },
    "colab_type": "code",
    "executionInfo": {
     "elapsed": 42217,
     "status": "ok",
     "timestamp": 1580692818506,
     "user": {
      "displayName": "Federico Francone",
      "photoUrl": "https://lh3.googleusercontent.com/a-/AAuE7mCvT-5R0e3T46w8v1AsqxSyhT-fEY26ltek6aRh=s64",
      "userId": "16122115063472740860"
     },
     "user_tz": -60
    },
    "hide_input": false,
    "id": "Pv07jfZXe7Z8",
    "outputId": "22284401-88cb-4b11-b04c-589f295d9a7d"
   },
   "outputs": [
    {
     "data": {
      "text/plain": [
       "count    641.000000\n",
       "mean       0.719186\n",
       "std        0.353653\n",
       "min        0.084974\n",
       "10%        0.201655\n",
       "30%        0.284461\n",
       "50%        0.973596\n",
       "70%        0.994913\n",
       "90%        0.998674\n",
       "max        0.999567\n",
       "dtype: float64"
      ]
     },
     "execution_count": 655,
     "metadata": {},
     "output_type": "execute_result"
    }
   ],
   "source": [
    "percentage_constant= {}\n",
    "\n",
    "for col in binned_train.columns:\n",
    "    percentage_constant[col]= (binned_train[col].value_counts()/len(binned_train)).values.max()\n",
    "    \n",
    "percentage_constant = pd.Series(percentage_constant).sort_values(ascending= False)\n",
    "\n",
    "perc_const_describe= percentage_constant.describe(percentiles= [0.1, 0.3, 0.5, 0.7, 0.9])  #maximum 7\n",
    "perc_const_describe"
   ]
  },
  {
   "cell_type": "markdown",
   "metadata": {
    "colab_type": "text",
    "id": "b8vLiQd_e7aA"
   },
   "source": [
    "### <font color= 'blue'> Elbow Curve: number of columns removed at varying the constancy threshold"
   ]
  },
  {
   "cell_type": "code",
   "execution_count": 656,
   "metadata": {
    "colab": {
     "base_uri": "https://localhost:8080/",
     "height": 460
    },
    "colab_type": "code",
    "executionInfo": {
     "elapsed": 40327,
     "status": "ok",
     "timestamp": 1580692818904,
     "user": {
      "displayName": "Federico Francone",
      "photoUrl": "https://lh3.googleusercontent.com/a-/AAuE7mCvT-5R0e3T46w8v1AsqxSyhT-fEY26ltek6aRh=s64",
      "userId": "16122115063472740860"
     },
     "user_tz": -60
    },
    "id": "WSLI60BMe7aA",
    "outputId": "21cd955d-d8dd-4f90-c288-55ea125bd717"
   },
   "outputs": [
    {
     "data": {
      "text/plain": [
       "[<matplotlib.lines.Line2D at 0x30f6d1610>]"
      ]
     },
     "execution_count": 656,
     "metadata": {},
     "output_type": "execute_result"
    },
    {
     "data": {
      "image/png": "[encoded data removed]",
      "text/plain": [
       "<Figure size 720x432 with 1 Axes>"
      ]
     },
     "metadata": {
      "needs_background": "light"
     },
     "output_type": "display_data"
    }
   ],
   "source": [
    "l= []\n",
    "thresholds= np.arange(perc_const_describe.loc['10%'], perc_const_describe.loc['max'] +0.01, 0.05)\n",
    "\n",
    "for thresh in thresholds: \n",
    "    l.append(len(percentage_constant[percentage_constant >= thresh]))\n",
    "    \n",
    "title_ticks_ecc('N° cols removed at varying the degree of constancy threshold \\n (N feats is: {})'.format(\n",
    "                            len(binned_train.columns)), 'threshold', 'N removed')\n",
    "\n",
    "plt.axvline(0.98, c= 'red', ls= '--')\n",
    "plt.plot(thresholds, l)"
   ]
  },
  {
   "cell_type": "markdown",
   "metadata": {
    "colab_type": "text",
    "id": "h5W141gde7aE"
   },
   "source": [
    "### <font color= 'blue'> Setting threshold of degree of constancy above which column is removed"
   ]
  },
  {
   "cell_type": "code",
   "execution_count": 657,
   "metadata": {
    "colab": {
     "base_uri": "https://localhost:8080/",
     "height": 34
    },
    "colab_type": "code",
    "executionInfo": {
     "elapsed": 37392,
     "status": "ok",
     "timestamp": 1580692818907,
     "user": {
      "displayName": "Federico Francone",
      "photoUrl": "https://lh3.googleusercontent.com/a-/AAuE7mCvT-5R0e3T46w8v1AsqxSyhT-fEY26ltek6aRh=s64",
      "userId": "16122115063472740860"
     },
     "user_tz": -60
    },
    "id": "y-AJ_PWRe7aF",
    "outputId": "a6ed38b6-c4ee-41eb-d2ca-4531129f7a30"
   },
   "outputs": [
    {
     "data": {
      "text/plain": [
       "303"
      ]
     },
     "execution_count": 657,
     "metadata": {},
     "output_type": "execute_result"
    }
   ],
   "source": [
    "threshold_const= 0.98   # this dataset is big\n",
    "\n",
    "len(percentage_constant[percentage_constant>= threshold_const])"
   ]
  },
  {
   "cell_type": "code",
   "execution_count": 658,
   "metadata": {
    "colab": {
     "base_uri": "https://localhost:8080/",
     "height": 102
    },
    "colab_type": "code",
    "executionInfo": {
     "elapsed": 36379,
     "status": "ok",
     "timestamp": 1580692818908,
     "user": {
      "displayName": "Federico Francone",
      "photoUrl": "https://lh3.googleusercontent.com/a-/AAuE7mCvT-5R0e3T46w8v1AsqxSyhT-fEY26ltek6aRh=s64",
      "userId": "16122115063472740860"
     },
     "user_tz": -60
    },
    "id": "7vYNVdHCe7aI",
    "outputId": "995a28d5-27bc-4e4f-cd79-97bca1621216",
    "scrolled": true
   },
   "outputs": [
    {
     "name": "stdout",
     "output_type": "stream",
     "text": [
      "<class 'pandas.core.frame.DataFrame'>\n",
      "RangeIndex: 78436 entries, 0 to 78435\n",
      "Columns: 338 entries, target to z421\n",
      "dtypes: float64(243), int64(86), object(9)\n",
      "memory usage: 202.3+ MB\n"
     ]
    }
   ],
   "source": [
    "const_to_drop = percentage_constant[percentage_constant>= threshold_const].index\n",
    "\n",
    "binned_train= binned_train.drop(const_to_drop, axis=1, errors= 'ignore')\n",
    "binned_train.info()  #float64(421), int64(19), object(12)"
   ]
  },
  {
   "cell_type": "markdown",
   "metadata": {
    "colab_type": "text",
    "id": "T2YlgRa6e7aM"
   },
   "source": [
    "### <font color= 'orange'> Numerical Features Exploratory Analysis"
   ]
  },
  {
   "cell_type": "code",
   "execution_count": 659,
   "metadata": {
    "colab": {},
    "colab_type": "code",
    "id": "2ck5N3vve7aN"
   },
   "outputs": [],
   "source": [
    "########################################"
   ]
  },
  {
   "cell_type": "code",
   "execution_count": 660,
   "metadata": {
    "colab": {
     "base_uri": "https://localhost:8080/",
     "height": 193
    },
    "colab_type": "code",
    "executionInfo": {
     "elapsed": 25007,
     "status": "ok",
     "timestamp": 1580692819153,
     "user": {
      "displayName": "Federico Francone",
      "photoUrl": "https://lh3.googleusercontent.com/a-/AAuE7mCvT-5R0e3T46w8v1AsqxSyhT-fEY26ltek6aRh=s64",
      "userId": "16122115063472740860"
     },
     "user_tz": -60
    },
    "id": "3G9l7h81e7aP",
    "outputId": "f2c8a46e-3f31-4c88-a117-3f044b1e197b"
   },
   "outputs": [
    {
     "data": {
      "text/html": [
       "<div>\n",
       "<style scoped>\n",
       "    .dataframe tbody tr th:only-of-type {\n",
       "        vertical-align: middle;\n",
       "    }\n",
       "\n",
       "    .dataframe tbody tr th {\n",
       "        vertical-align: top;\n",
       "    }\n",
       "\n",
       "    .dataframe thead th {\n",
       "        text-align: right;\n",
       "    }\n",
       "</style>\n",
       "<table border=\"1\" class=\"dataframe\">\n",
       "  <thead>\n",
       "    <tr style=\"text-align: right;\">\n",
       "      <th></th>\n",
       "      <th>urbanity</th>\n",
       "      <th>acxiom_cluster_group</th>\n",
       "      <th>ibe8627_age_input_individual_default_to_1st_individual_premier_flag</th>\n",
       "      <th>cass_state</th>\n",
       "      <th>ibe2360</th>\n",
       "      <th>ibe8531</th>\n",
       "      <th>ibe8609</th>\n",
       "      <th>ibe8637</th>\n",
       "      <th>ibe8642</th>\n",
       "    </tr>\n",
       "  </thead>\n",
       "  <tbody>\n",
       "    <tr>\n",
       "      <th>72897</th>\n",
       "      <td>rural</td>\n",
       "      <td>08x large households</td>\n",
       "      <td>i</td>\n",
       "      <td>il</td>\n",
       "      <td>missing</td>\n",
       "      <td>d</td>\n",
       "      <td>m</td>\n",
       "      <td>8</td>\n",
       "      <td>h</td>\n",
       "    </tr>\n",
       "    <tr>\n",
       "      <th>43242</th>\n",
       "      <td>city &amp; surrounds</td>\n",
       "      <td>missing</td>\n",
       "      <td>i</td>\n",
       "      <td>pa</td>\n",
       "      <td>missing</td>\n",
       "      <td>missing</td>\n",
       "      <td>s</td>\n",
       "      <td>4</td>\n",
       "      <td>i</td>\n",
       "    </tr>\n",
       "    <tr>\n",
       "      <th>31912</th>\n",
       "      <td>suburbs &amp; towns</td>\n",
       "      <td>07x career oriented</td>\n",
       "      <td>missing</td>\n",
       "      <td>nh</td>\n",
       "      <td>missing</td>\n",
       "      <td>missing</td>\n",
       "      <td>b</td>\n",
       "      <td>missing</td>\n",
       "      <td>h</td>\n",
       "    </tr>\n",
       "  </tbody>\n",
       "</table>\n",
       "</div>"
      ],
      "text/plain": [
       "               urbanity  acxiom_cluster_group  \\\n",
       "72897             rural  08x large households   \n",
       "43242  city & surrounds               missing   \n",
       "31912   suburbs & towns   07x career oriented   \n",
       "\n",
       "      ibe8627_age_input_individual_default_to_1st_individual_premier_flag  \\\n",
       "72897                                                  i                    \n",
       "43242                                                  i                    \n",
       "31912                                            missing                    \n",
       "\n",
       "      cass_state  ibe2360  ibe8531 ibe8609  ibe8637 ibe8642  \n",
       "72897         il  missing        d       m        8       h  \n",
       "43242         pa  missing  missing       s        4       i  \n",
       "31912         nh  missing  missing       b  missing       h  "
      ]
     },
     "execution_count": 660,
     "metadata": {},
     "output_type": "execute_result"
    }
   ],
   "source": [
    "pre_sel_train= binned_train.copy()\n",
    "pre_sel_train.select_dtypes(include= object).sample(3)"
   ]
  },
  {
   "cell_type": "code",
   "execution_count": 661,
   "metadata": {
    "colab": {
     "base_uri": "https://localhost:8080/",
     "height": 170
    },
    "colab_type": "code",
    "executionInfo": {
     "elapsed": 22373,
     "status": "ok",
     "timestamp": 1580692819154,
     "user": {
      "displayName": "Federico Francone",
      "photoUrl": "https://lh3.googleusercontent.com/a-/AAuE7mCvT-5R0e3T46w8v1AsqxSyhT-fEY26ltek6aRh=s64",
      "userId": "16122115063472740860"
     },
     "user_tz": -60
    },
    "id": "EPQPI_VPe7aR",
    "outputId": "32562a92-7cc8-42ea-e582-667649315f72",
    "scrolled": true
   },
   "outputs": [
    {
     "data": {
      "text/plain": [
       "urbanity                                                               0.000064\n",
       "acxiom_cluster_group                                                   0.000242\n",
       "ibe8627_age_input_individual_default_to_1st_individual_premier_flag    0.000038\n",
       "cass_state                                                             0.000663\n",
       "ibe2360                                                                0.002754\n",
       "ibe8531                                                                0.000064\n",
       "ibe8609                                                                0.000064\n",
       "ibe8637                                                                0.000344\n",
       "ibe8642                                                                0.000255\n",
       "dtype: float64"
      ]
     },
     "execution_count": 661,
     "metadata": {},
     "output_type": "execute_result"
    }
   ],
   "source": [
    "degree_id_per_cat.loc[pre_sel_train.select_dtypes(include= object).columns]  #ottimo, objects davvero sono categoriche"
   ]
  },
  {
   "cell_type": "markdown",
   "metadata": {
    "colab_type": "text",
    "id": "LQXlzB3je7aU"
   },
   "source": [
    "### Taking off less correlated with the Target"
   ]
  },
  {
   "cell_type": "code",
   "execution_count": 662,
   "metadata": {
    "colab": {},
    "colab_type": "code",
    "id": "7Aqc6KQCe7aW"
   },
   "outputs": [],
   "source": [
    "corr_with_label_train= {}\n",
    "not_done= []\n",
    "for i, col in enumerate(pre_sel_train.select_dtypes(include= 'number').columns):\n",
    "    try:\n",
    "        corr= np.abs(np.min(np.corrcoef(pre_sel_train[col], target)))\n",
    "        corr_with_label_train[pre_sel_train.columns[i]] = corr\n",
    "    except:\n",
    "        not_done.append(col)\n",
    "        pass"
   ]
  },
  {
   "cell_type": "code",
   "execution_count": 663,
   "metadata": {
    "colab": {
     "base_uri": "https://localhost:8080/",
     "height": 204
    },
    "colab_type": "code",
    "executionInfo": {
     "elapsed": 22635,
     "status": "ok",
     "timestamp": 1580692821129,
     "user": {
      "displayName": "Federico Francone",
      "photoUrl": "https://lh3.googleusercontent.com/a-/AAuE7mCvT-5R0e3T46w8v1AsqxSyhT-fEY26ltek6aRh=s64",
      "userId": "16122115063472740860"
     },
     "user_tz": -60
    },
    "id": "UJMSU-Dme7aZ",
    "outputId": "0801e794-d514-452e-f9e9-1587d063b242"
   },
   "outputs": [
    {
     "data": {
      "text/html": [
       "<div>\n",
       "<style scoped>\n",
       "    .dataframe tbody tr th:only-of-type {\n",
       "        vertical-align: middle;\n",
       "    }\n",
       "\n",
       "    .dataframe tbody tr th {\n",
       "        vertical-align: top;\n",
       "    }\n",
       "\n",
       "    .dataframe thead th {\n",
       "        text-align: right;\n",
       "    }\n",
       "</style>\n",
       "<table border=\"1\" class=\"dataframe\">\n",
       "  <thead>\n",
       "    <tr style=\"text-align: right;\">\n",
       "      <th></th>\n",
       "      <th>Corr Train</th>\n",
       "    </tr>\n",
       "  </thead>\n",
       "  <tbody>\n",
       "    <tr>\n",
       "      <th>target</th>\n",
       "      <td>1.000000</td>\n",
       "    </tr>\n",
       "    <tr>\n",
       "      <th>automotive_brand_propensities_country_of_origin_luxury_variables</th>\n",
       "      <td>0.127684</td>\n",
       "    </tr>\n",
       "    <tr>\n",
       "      <th>credit_card_product_propensities_usage_variables</th>\n",
       "      <td>0.109913</td>\n",
       "    </tr>\n",
       "    <tr>\n",
       "      <th>financial_services_asset_propensities_home_property_variables</th>\n",
       "      <td>0.107371</td>\n",
       "    </tr>\n",
       "    <tr>\n",
       "      <th>political_attitude_and_behavior_propensities_public_or_civic_activity_variables</th>\n",
       "      <td>0.105537</td>\n",
       "    </tr>\n",
       "  </tbody>\n",
       "</table>\n",
       "</div>"
      ],
      "text/plain": [
       "                                                    Corr Train\n",
       "target                                                1.000000\n",
       "automotive_brand_propensities_country_of_origin...    0.127684\n",
       "credit_card_product_propensities_usage_variables      0.109913\n",
       "financial_services_asset_propensities_home_prop...    0.107371\n",
       "political_attitude_and_behavior_propensities_pu...    0.105537"
      ]
     },
     "execution_count": 663,
     "metadata": {},
     "output_type": "execute_result"
    }
   ],
   "source": [
    "corr_with_label_train = pd.DataFrame(pd.Series(corr_with_label_train)).sort_values(by = [0], ascending= False)\n",
    "corr_with_label_train.columns= ['Corr Train']\n",
    "\n",
    "corr_with_label_train.head()"
   ]
  },
  {
   "cell_type": "code",
   "execution_count": 664,
   "metadata": {
    "colab": {
     "base_uri": "https://localhost:8080/",
     "height": 51
    },
    "colab_type": "code",
    "executionInfo": {
     "elapsed": 21864,
     "status": "ok",
     "timestamp": 1580692821131,
     "user": {
      "displayName": "Federico Francone",
      "photoUrl": "https://lh3.googleusercontent.com/a-/AAuE7mCvT-5R0e3T46w8v1AsqxSyhT-fEY26ltek6aRh=s64",
      "userId": "16122115063472740860"
     },
     "user_tz": -60
    },
    "id": "G1bFjIgRe7ac",
    "outputId": "c94c4fbb-962a-4d9a-e8d1-89a3c26819df"
   },
   "outputs": [
    {
     "data": {
      "text/plain": [
       "Corr Train    0\n",
       "dtype: int64"
      ]
     },
     "execution_count": 664,
     "metadata": {},
     "output_type": "execute_result"
    }
   ],
   "source": [
    "corr_with_label_train.isna().sum()"
   ]
  },
  {
   "cell_type": "code",
   "execution_count": 665,
   "metadata": {
    "colab": {
     "base_uri": "https://localhost:8080/",
     "height": 359
    },
    "colab_type": "code",
    "executionInfo": {
     "elapsed": 21463,
     "status": "ok",
     "timestamp": 1580692821132,
     "user": {
      "displayName": "Federico Francone",
      "photoUrl": "https://lh3.googleusercontent.com/a-/AAuE7mCvT-5R0e3T46w8v1AsqxSyhT-fEY26ltek6aRh=s64",
      "userId": "16122115063472740860"
     },
     "user_tz": -60
    },
    "id": "KMw9ixfhe7ae",
    "outputId": "c201f07e-51a3-4792-dab3-2a67b3f2c86b"
   },
   "outputs": [
    {
     "data": {
      "text/html": [
       "<div>\n",
       "<style scoped>\n",
       "    .dataframe tbody tr th:only-of-type {\n",
       "        vertical-align: middle;\n",
       "    }\n",
       "\n",
       "    .dataframe tbody tr th {\n",
       "        vertical-align: top;\n",
       "    }\n",
       "\n",
       "    .dataframe thead th {\n",
       "        text-align: right;\n",
       "    }\n",
       "</style>\n",
       "<table border=\"1\" class=\"dataframe\">\n",
       "  <thead>\n",
       "    <tr style=\"text-align: right;\">\n",
       "      <th></th>\n",
       "      <th>Corr Train</th>\n",
       "    </tr>\n",
       "  </thead>\n",
       "  <tbody>\n",
       "    <tr>\n",
       "      <th>count</th>\n",
       "      <td>329.000000</td>\n",
       "    </tr>\n",
       "    <tr>\n",
       "      <th>mean</th>\n",
       "      <td>0.034962</td>\n",
       "    </tr>\n",
       "    <tr>\n",
       "      <th>std</th>\n",
       "      <td>0.059953</td>\n",
       "    </tr>\n",
       "    <tr>\n",
       "      <th>min</th>\n",
       "      <td>0.000051</td>\n",
       "    </tr>\n",
       "    <tr>\n",
       "      <th>20%</th>\n",
       "      <td>0.008049</td>\n",
       "    </tr>\n",
       "    <tr>\n",
       "      <th>40%</th>\n",
       "      <td>0.016352</td>\n",
       "    </tr>\n",
       "    <tr>\n",
       "      <th>50%</th>\n",
       "      <td>0.022025</td>\n",
       "    </tr>\n",
       "    <tr>\n",
       "      <th>60%</th>\n",
       "      <td>0.031283</td>\n",
       "    </tr>\n",
       "    <tr>\n",
       "      <th>80%</th>\n",
       "      <td>0.056712</td>\n",
       "    </tr>\n",
       "    <tr>\n",
       "      <th>max</th>\n",
       "      <td>1.000000</td>\n",
       "    </tr>\n",
       "  </tbody>\n",
       "</table>\n",
       "</div>"
      ],
      "text/plain": [
       "       Corr Train\n",
       "count  329.000000\n",
       "mean     0.034962\n",
       "std      0.059953\n",
       "min      0.000051\n",
       "20%      0.008049\n",
       "40%      0.016352\n",
       "50%      0.022025\n",
       "60%      0.031283\n",
       "80%      0.056712\n",
       "max      1.000000"
      ]
     },
     "execution_count": 665,
     "metadata": {},
     "output_type": "execute_result"
    }
   ],
   "source": [
    "describe_corr= corr_with_label_train.describe(percentiles= [0.2, 0.4, 0.5, 0.6, 0.8])\n",
    "describe_corr"
   ]
  },
  {
   "cell_type": "code",
   "execution_count": 666,
   "metadata": {
    "colab": {
     "base_uri": "https://localhost:8080/",
     "height": 34
    },
    "colab_type": "code",
    "executionInfo": {
     "elapsed": 21119,
     "status": "ok",
     "timestamp": 1580692821133,
     "user": {
      "displayName": "Federico Francone",
      "photoUrl": "https://lh3.googleusercontent.com/a-/AAuE7mCvT-5R0e3T46w8v1AsqxSyhT-fEY26ltek6aRh=s64",
      "userId": "16122115063472740860"
     },
     "user_tz": -60
    },
    "id": "3KG-1pHLe7ai",
    "outputId": "f72becb6-fb35-4d70-bf3c-6bc67023e30e"
   },
   "outputs": [
    {
     "data": {
      "text/plain": [
       "0.008049232868209329"
      ]
     },
     "execution_count": 666,
     "metadata": {},
     "output_type": "execute_result"
    }
   ],
   "source": [
    "describe_corr.loc['20%'][0]"
   ]
  },
  {
   "cell_type": "code",
   "execution_count": 667,
   "metadata": {
    "colab": {
     "base_uri": "https://localhost:8080/",
     "height": 102
    },
    "colab_type": "code",
    "executionInfo": {
     "elapsed": 20566,
     "status": "ok",
     "timestamp": 1580692821134,
     "user": {
      "displayName": "Federico Francone",
      "photoUrl": "https://lh3.googleusercontent.com/a-/AAuE7mCvT-5R0e3T46w8v1AsqxSyhT-fEY26ltek6aRh=s64",
      "userId": "16122115063472740860"
     },
     "user_tz": -60
    },
    "id": "YqS8Ug99e7am",
    "outputId": "5caeaae9-1fb3-47d8-8055-80bb68490d5c"
   },
   "outputs": [
    {
     "name": "stdout",
     "output_type": "stream",
     "text": [
      "<class 'pandas.core.frame.DataFrame'>\n",
      "RangeIndex: 78436 entries, 0 to 78435\n",
      "Columns: 338 entries, target to z421\n",
      "dtypes: float64(243), int64(86), object(9)\n",
      "memory usage: 202.3+ MB\n"
     ]
    }
   ],
   "source": [
    "### NOT DONE THIS STEP: ALL ARE BAD CORRELATED WITH TARGET\n",
    "## taking off very bad correlated variables, less than 25th percentile\n",
    "\n",
    "to_drop= list(corr_with_label_train[abs(corr_with_label_train['Corr Train'])< describe_corr.loc['20%'][0] ].index)\n",
    "\n",
    "#pre_sel_train= pre_sel_train.drop(to_drop, axis=1)\n",
    "pre_sel_train.info()"
   ]
  },
  {
   "cell_type": "markdown",
   "metadata": {
    "colab_type": "text",
    "id": "q9aonD0Se7aq"
   },
   "source": [
    "#### Preliminary Selection of same columns for Test Set ############################"
   ]
  },
  {
   "cell_type": "code",
   "execution_count": 668,
   "metadata": {},
   "outputs": [],
   "source": [
    "pre_sel_train['target']= target\n",
    "\n",
    "pre_sel_test = binned_test[pre_sel_train.columns]\n",
    "pre_sel_test['target']= target_test"
   ]
  },
  {
   "cell_type": "code",
   "execution_count": 669,
   "metadata": {
    "colab": {
     "base_uri": "https://localhost:8080/",
     "height": 102
    },
    "colab_type": "code",
    "executionInfo": {
     "elapsed": 19331,
     "status": "ok",
     "timestamp": 1580692821136,
     "user": {
      "displayName": "Federico Francone",
      "photoUrl": "https://lh3.googleusercontent.com/a-/AAuE7mCvT-5R0e3T46w8v1AsqxSyhT-fEY26ltek6aRh=s64",
      "userId": "16122115063472740860"
     },
     "user_tz": -60
    },
    "id": "uXdnqDNze7ar",
    "outputId": "08283c87-af02-47fb-8b1b-bb2c470dac95"
   },
   "outputs": [
    {
     "name": "stdout",
     "output_type": "stream",
     "text": [
      "<class 'pandas.core.frame.DataFrame'>\n",
      "RangeIndex: 33613 entries, 0 to 33612\n",
      "Columns: 338 entries, target to z421\n",
      "dtypes: float64(243), int64(86), object(9)\n",
      "memory usage: 86.7+ MB\n"
     ]
    }
   ],
   "source": [
    "target_test= pre_sel_test['target']\n",
    "\n",
    "pre_sel_test.info()"
   ]
  },
  {
   "cell_type": "code",
   "execution_count": 670,
   "metadata": {
    "colab": {
     "base_uri": "https://localhost:8080/",
     "height": 34
    },
    "colab_type": "code",
    "executionInfo": {
     "elapsed": 19126,
     "status": "ok",
     "timestamp": 1580692821526,
     "user": {
      "displayName": "Federico Francone",
      "photoUrl": "https://lh3.googleusercontent.com/a-/AAuE7mCvT-5R0e3T46w8v1AsqxSyhT-fEY26ltek6aRh=s64",
      "userId": "16122115063472740860"
     },
     "user_tz": -60
    },
    "id": "yaB0-LoNl5o_",
    "outputId": "d1e2fb12-2c6b-4e07-8627-30eeaca22302"
   },
   "outputs": [
    {
     "data": {
      "text/plain": [
       "223086"
      ]
     },
     "execution_count": 670,
     "metadata": {},
     "output_type": "execute_result"
    }
   ],
   "source": [
    "pre_sel_test.isna().sum().sum()"
   ]
  },
  {
   "cell_type": "code",
   "execution_count": 671,
   "metadata": {
    "colab": {},
    "colab_type": "code",
    "id": "z7XWqtWMe7at"
   },
   "outputs": [],
   "source": [
    "#### Lowering categories and filling nan with 'missing' ####\n",
    "for col in pre_sel_test.select_dtypes(include= object).columns:\n",
    "    pre_sel_test[col]= pre_sel_test[col].apply(lambda x: x.lower() if type(x)== str else x)\n",
    "    pre_sel_test[col]= pre_sel_test[col].fillna('missing')\n",
    "\n",
    "###### filling with Train mean numerical cols#####\n",
    "for col in pre_sel_test.select_dtypes(exclude= object).columns:\n",
    "    pre_sel_test[col]= pre_sel_test[col].apply(lambda x: np.nan if x== 'missing' else x)\n",
    "    try: \n",
    "        pre_sel_test[col]= pre_sel_test[col].fillna(pre_sel_train[col].mean())  #valuta se aggiungere un po di noise\n",
    "    except:\n",
    "        print(col)\n",
    "        pass"
   ]
  },
  {
   "cell_type": "code",
   "execution_count": 672,
   "metadata": {
    "colab": {
     "base_uri": "https://localhost:8080/",
     "height": 34
    },
    "colab_type": "code",
    "executionInfo": {
     "elapsed": 26876,
     "status": "ok",
     "timestamp": 1580692829997,
     "user": {
      "displayName": "Federico Francone",
      "photoUrl": "https://lh3.googleusercontent.com/a-/AAuE7mCvT-5R0e3T46w8v1AsqxSyhT-fEY26ltek6aRh=s64",
      "userId": "16122115063472740860"
     },
     "user_tz": -60
    },
    "id": "vth-G4e8e7ax",
    "outputId": "c8274e83-ee60-4659-fcd8-98bc74dd4913"
   },
   "outputs": [
    {
     "data": {
      "text/plain": [
       "0"
      ]
     },
     "execution_count": 672,
     "metadata": {},
     "output_type": "execute_result"
    }
   ],
   "source": [
    "pre_sel_test.isna().sum().sum() #check ok"
   ]
  },
  {
   "cell_type": "code",
   "execution_count": 673,
   "metadata": {
    "colab": {
     "base_uri": "https://localhost:8080/",
     "height": 191
    },
    "colab_type": "code",
    "executionInfo": {
     "elapsed": 26427,
     "status": "ok",
     "timestamp": 1580692829999,
     "user": {
      "displayName": "Federico Francone",
      "photoUrl": "https://lh3.googleusercontent.com/a-/AAuE7mCvT-5R0e3T46w8v1AsqxSyhT-fEY26ltek6aRh=s64",
      "userId": "16122115063472740860"
     },
     "user_tz": -60
    },
    "id": "vDVdKa-Me7av",
    "outputId": "6ab9b1ad-69c1-4a20-9230-62f96a465935"
   },
   "outputs": [
    {
     "data": {
      "text/html": [
       "<div>\n",
       "<style scoped>\n",
       "    .dataframe tbody tr th:only-of-type {\n",
       "        vertical-align: middle;\n",
       "    }\n",
       "\n",
       "    .dataframe tbody tr th {\n",
       "        vertical-align: top;\n",
       "    }\n",
       "\n",
       "    .dataframe thead th {\n",
       "        text-align: right;\n",
       "    }\n",
       "</style>\n",
       "<table border=\"1\" class=\"dataframe\">\n",
       "  <thead>\n",
       "    <tr style=\"text-align: right;\">\n",
       "      <th></th>\n",
       "      <th>target</th>\n",
       "      <th>urbanity</th>\n",
       "      <th>acxiom_cluster_group</th>\n",
       "      <th>ibe8627_age_input_individual_default_to_1st_individual_premier_flag</th>\n",
       "      <th>cass_state</th>\n",
       "      <th>ibe2802_ita_score_zip_plus4_aggregate_ita_score</th>\n",
       "      <th>ibe2076_ibe_premier_socialconcerncausessupportedfinancially_charitable</th>\n",
       "      <th>ibe2076_ibe_premier_socialconcerncausessupportedfinancially_animal_welfare</th>\n",
       "      <th>ibe2076_ibe_premier_socialconcerncausessupportedfinancially_childrens</th>\n",
       "      <th>ibe2076_ibe_premier_socialconcerncausessupportedfinancially_environment_or_wildlife</th>\n",
       "      <th>ibe2076_ibe_premier_socialconcerncausessupportedfinancially_health</th>\n",
       "      <th>ibe2076_ibe_premier_socialconcerncausessupportedfinancially_political</th>\n",
       "      <th>...</th>\n",
       "      <th>z426</th>\n",
       "      <th>z184</th>\n",
       "      <th>z435</th>\n",
       "      <th>z329</th>\n",
       "      <th>z396</th>\n",
       "      <th>z153</th>\n",
       "      <th>z321</th>\n",
       "      <th>z126</th>\n",
       "      <th>z397</th>\n",
       "      <th>z419</th>\n",
       "      <th>z98</th>\n",
       "      <th>z421</th>\n",
       "    </tr>\n",
       "  </thead>\n",
       "  <tbody>\n",
       "    <tr>\n",
       "      <th>0</th>\n",
       "      <td>0</td>\n",
       "      <td>suburbs &amp; towns</td>\n",
       "      <td>20s community minded</td>\n",
       "      <td>i</td>\n",
       "      <td>pa</td>\n",
       "      <td>775.000000</td>\n",
       "      <td>1</td>\n",
       "      <td>0</td>\n",
       "      <td>0</td>\n",
       "      <td>0</td>\n",
       "      <td>0</td>\n",
       "      <td>0</td>\n",
       "      <td>...</td>\n",
       "      <td>0.0</td>\n",
       "      <td>0.0</td>\n",
       "      <td>0.0</td>\n",
       "      <td>0.0</td>\n",
       "      <td>0.0</td>\n",
       "      <td>0.0</td>\n",
       "      <td>0.0</td>\n",
       "      <td>0.0</td>\n",
       "      <td>0.0</td>\n",
       "      <td>0.0</td>\n",
       "      <td>0.0</td>\n",
       "      <td>0.0</td>\n",
       "    </tr>\n",
       "    <tr>\n",
       "      <th>1</th>\n",
       "      <td>1</td>\n",
       "      <td>rural</td>\n",
       "      <td>10b rural-metro mix</td>\n",
       "      <td>i</td>\n",
       "      <td>tx</td>\n",
       "      <td>558.000000</td>\n",
       "      <td>0</td>\n",
       "      <td>0</td>\n",
       "      <td>0</td>\n",
       "      <td>0</td>\n",
       "      <td>0</td>\n",
       "      <td>0</td>\n",
       "      <td>...</td>\n",
       "      <td>0.0</td>\n",
       "      <td>0.0</td>\n",
       "      <td>0.0</td>\n",
       "      <td>0.0</td>\n",
       "      <td>0.0</td>\n",
       "      <td>0.0</td>\n",
       "      <td>0.0</td>\n",
       "      <td>0.0</td>\n",
       "      <td>0.0</td>\n",
       "      <td>0.0</td>\n",
       "      <td>0.0</td>\n",
       "      <td>0.0</td>\n",
       "    </tr>\n",
       "    <tr>\n",
       "      <th>2</th>\n",
       "      <td>0</td>\n",
       "      <td>missing</td>\n",
       "      <td>missing</td>\n",
       "      <td>i</td>\n",
       "      <td>missing</td>\n",
       "      <td>694.575973</td>\n",
       "      <td>0</td>\n",
       "      <td>0</td>\n",
       "      <td>0</td>\n",
       "      <td>0</td>\n",
       "      <td>0</td>\n",
       "      <td>0</td>\n",
       "      <td>...</td>\n",
       "      <td>0.0</td>\n",
       "      <td>0.0</td>\n",
       "      <td>0.0</td>\n",
       "      <td>0.0</td>\n",
       "      <td>0.0</td>\n",
       "      <td>0.0</td>\n",
       "      <td>0.0</td>\n",
       "      <td>0.0</td>\n",
       "      <td>0.0</td>\n",
       "      <td>0.0</td>\n",
       "      <td>0.0</td>\n",
       "      <td>0.0</td>\n",
       "    </tr>\n",
       "  </tbody>\n",
       "</table>\n",
       "<p>3 rows × 338 columns</p>\n",
       "</div>"
      ],
      "text/plain": [
       "   target         urbanity  acxiom_cluster_group  \\\n",
       "0       0  suburbs & towns  20s community minded   \n",
       "1       1            rural   10b rural-metro mix   \n",
       "2       0          missing               missing   \n",
       "\n",
       "  ibe8627_age_input_individual_default_to_1st_individual_premier_flag  \\\n",
       "0                                                  i                    \n",
       "1                                                  i                    \n",
       "2                                                  i                    \n",
       "\n",
       "  cass_state  ibe2802_ita_score_zip_plus4_aggregate_ita_score  \\\n",
       "0         pa                                       775.000000   \n",
       "1         tx                                       558.000000   \n",
       "2    missing                                       694.575973   \n",
       "\n",
       "   ibe2076_ibe_premier_socialconcerncausessupportedfinancially_charitable  \\\n",
       "0                                                  1                        \n",
       "1                                                  0                        \n",
       "2                                                  0                        \n",
       "\n",
       "   ibe2076_ibe_premier_socialconcerncausessupportedfinancially_animal_welfare  \\\n",
       "0                                                  0                            \n",
       "1                                                  0                            \n",
       "2                                                  0                            \n",
       "\n",
       "   ibe2076_ibe_premier_socialconcerncausessupportedfinancially_childrens  \\\n",
       "0                                                  0                       \n",
       "1                                                  0                       \n",
       "2                                                  0                       \n",
       "\n",
       "   ibe2076_ibe_premier_socialconcerncausessupportedfinancially_environment_or_wildlife  \\\n",
       "0                                                  0                                     \n",
       "1                                                  0                                     \n",
       "2                                                  0                                     \n",
       "\n",
       "   ibe2076_ibe_premier_socialconcerncausessupportedfinancially_health  \\\n",
       "0                                                  0                    \n",
       "1                                                  0                    \n",
       "2                                                  0                    \n",
       "\n",
       "   ibe2076_ibe_premier_socialconcerncausessupportedfinancially_political  ...  \\\n",
       "0                                                  0                      ...   \n",
       "1                                                  0                      ...   \n",
       "2                                                  0                      ...   \n",
       "\n",
       "   z426  z184  z435  z329 z396  z153  z321  z126  z397  z419  z98  z421  \n",
       "0   0.0   0.0   0.0   0.0  0.0   0.0   0.0   0.0   0.0   0.0  0.0   0.0  \n",
       "1   0.0   0.0   0.0   0.0  0.0   0.0   0.0   0.0   0.0   0.0  0.0   0.0  \n",
       "2   0.0   0.0   0.0   0.0  0.0   0.0   0.0   0.0   0.0   0.0  0.0   0.0  \n",
       "\n",
       "[3 rows x 338 columns]"
      ]
     },
     "execution_count": 673,
     "metadata": {},
     "output_type": "execute_result"
    }
   ],
   "source": [
    "pre_sel_test.head(3)"
   ]
  },
  {
   "cell_type": "code",
   "execution_count": 674,
   "metadata": {},
   "outputs": [
    {
     "data": {
      "text/plain": [
       "target                                                                     0\n",
       "urbanity                                                                5401\n",
       "acxiom_cluster_group                                                   11158\n",
       "ibe8627_age_input_individual_default_to_1st_individual_premier_flag     5406\n",
       "cass_state                                                              5268\n",
       "                                                                       ...  \n",
       "z126                                                                       0\n",
       "z397                                                                       0\n",
       "z419                                                                       0\n",
       "z98                                                                        0\n",
       "z421                                                                       0\n",
       "Length: 338, dtype: int64"
      ]
     },
     "execution_count": 674,
     "metadata": {},
     "output_type": "execute_result"
    }
   ],
   "source": [
    "(pre_sel_test== 'missing').sum()"
   ]
  },
  {
   "cell_type": "markdown",
   "metadata": {
    "colab_type": "text",
    "id": "t_GYhAN7e7a0"
   },
   "source": [
    "###### Adding Target to both to do Target Encoding"
   ]
  },
  {
   "cell_type": "code",
   "execution_count": 675,
   "metadata": {
    "colab": {},
    "colab_type": "code",
    "id": "Og9k7amWe7a1"
   },
   "outputs": [],
   "source": [
    "if 'target' not in pre_sel_train.columns:\n",
    "    pre_sel_train['target']= target\n",
    "\n",
    "if 'target' not in pre_sel_test.columns:\n",
    "    pre_sel_test['target']= target_test"
   ]
  },
  {
   "cell_type": "code",
   "execution_count": 676,
   "metadata": {
    "colab": {
     "base_uri": "https://localhost:8080/",
     "height": 102
    },
    "colab_type": "code",
    "executionInfo": {
     "elapsed": 25124,
     "status": "ok",
     "timestamp": 1580692830001,
     "user": {
      "displayName": "Federico Francone",
      "photoUrl": "https://lh3.googleusercontent.com/a-/AAuE7mCvT-5R0e3T46w8v1AsqxSyhT-fEY26ltek6aRh=s64",
      "userId": "16122115063472740860"
     },
     "user_tz": -60
    },
    "id": "hnL4Jqu3l5pK",
    "outputId": "9024956c-9321-4ae8-b25e-c8c23e898429"
   },
   "outputs": [
    {
     "name": "stdout",
     "output_type": "stream",
     "text": [
      "<class 'pandas.core.frame.DataFrame'>\n",
      "RangeIndex: 78436 entries, 0 to 78435\n",
      "Columns: 338 entries, target to z421\n",
      "dtypes: float64(243), int64(86), object(9)\n",
      "memory usage: 202.3+ MB\n"
     ]
    }
   ],
   "source": [
    "pre_sel_train.info(verbose= False)"
   ]
  },
  {
   "cell_type": "markdown",
   "metadata": {},
   "source": [
    "### Converting Binary Features into 0-1"
   ]
  },
  {
   "cell_type": "code",
   "execution_count": 677,
   "metadata": {},
   "outputs": [
    {
     "data": {
      "text/plain": [
       "86"
      ]
     },
     "execution_count": 677,
     "metadata": {},
     "output_type": "execute_result"
    }
   ],
   "source": [
    "binary_feats= []\n",
    "for col in pre_sel_train.columns:\n",
    "    if pre_sel_train[col].nunique()== 2:\n",
    "        binary_feats.append(col)\n",
    "\n",
    "len(binary_feats)"
   ]
  },
  {
   "cell_type": "code",
   "execution_count": 678,
   "metadata": {},
   "outputs": [
    {
     "data": {
      "text/html": [
       "<div>\n",
       "<style scoped>\n",
       "    .dataframe tbody tr th:only-of-type {\n",
       "        vertical-align: middle;\n",
       "    }\n",
       "\n",
       "    .dataframe tbody tr th {\n",
       "        vertical-align: top;\n",
       "    }\n",
       "\n",
       "    .dataframe thead th {\n",
       "        text-align: right;\n",
       "    }\n",
       "</style>\n",
       "<table border=\"1\" class=\"dataframe\">\n",
       "  <thead>\n",
       "    <tr style=\"text-align: right;\">\n",
       "      <th></th>\n",
       "      <th>target</th>\n",
       "      <th>ibe2076_ibe_premier_socialconcerncausessupportedfinancially_charitable</th>\n",
       "      <th>ibe2076_ibe_premier_socialconcerncausessupportedfinancially_animal_welfare</th>\n",
       "      <th>ibe2076_ibe_premier_socialconcerncausessupportedfinancially_childrens</th>\n",
       "      <th>ibe2076_ibe_premier_socialconcerncausessupportedfinancially_environment_or_wildlife</th>\n",
       "      <th>ibe2076_ibe_premier_socialconcerncausessupportedfinancially_health</th>\n",
       "      <th>ibe2076_ibe_premier_socialconcerncausessupportedfinancially_political</th>\n",
       "      <th>ibe2076_ibe_premier_socialconcerncausessupportedfinancially_religious</th>\n",
       "      <th>ibe2076_ibe_premier_socialconcerncausessupportedfinancially_veterans</th>\n",
       "      <th>ibe2076_ibe_premier_socialconcerncausessupportedfinancially_other</th>\n",
       "      <th>ibe2356</th>\n",
       "      <th>ibe2776</th>\n",
       "      <th>...</th>\n",
       "      <th>ibe7851</th>\n",
       "      <th>ibe8165_ibe_premier_truckmotorcyclerv_truck_owner</th>\n",
       "      <th>ibe8165_ibe_premier_truckmotorcyclerv_motorcycle_owner</th>\n",
       "      <th>ibe8165_ibe_premier_truckmotorcyclerv_rv_owner</th>\n",
       "      <th>ibe8257</th>\n",
       "      <th>ibe8621_ibe_premier_creditcardindicatoronezero_bank_card_holder</th>\n",
       "      <th>ibe8621_ibe_premier_creditcardindicatoronezero_gas_department_retail_card_holder</th>\n",
       "      <th>ibe8621_ibe_premier_creditcardindicatoronezero_travel_and_entertainment_card_holder</th>\n",
       "      <th>ibe8621_ibe_premier_creditcardindicatoronezero_credit_card_holder_unknown_type</th>\n",
       "      <th>ibe8621_ibe_premier_creditcardindicatoronezero_premium_card_holder</th>\n",
       "      <th>ibe8621_ibe_premier_creditcardindicatoronezero_upscale_department_store_card_holder</th>\n",
       "      <th>ibe8639</th>\n",
       "    </tr>\n",
       "  </thead>\n",
       "  <tbody>\n",
       "    <tr>\n",
       "      <th>0</th>\n",
       "      <td>0</td>\n",
       "      <td>0</td>\n",
       "      <td>0</td>\n",
       "      <td>0</td>\n",
       "      <td>0</td>\n",
       "      <td>0</td>\n",
       "      <td>0</td>\n",
       "      <td>0</td>\n",
       "      <td>0</td>\n",
       "      <td>0</td>\n",
       "      <td>0</td>\n",
       "      <td>0</td>\n",
       "      <td>...</td>\n",
       "      <td>0</td>\n",
       "      <td>0</td>\n",
       "      <td>0</td>\n",
       "      <td>0</td>\n",
       "      <td>0</td>\n",
       "      <td>0</td>\n",
       "      <td>0</td>\n",
       "      <td>0</td>\n",
       "      <td>0</td>\n",
       "      <td>0</td>\n",
       "      <td>0</td>\n",
       "      <td>0</td>\n",
       "    </tr>\n",
       "    <tr>\n",
       "      <th>1</th>\n",
       "      <td>0</td>\n",
       "      <td>0</td>\n",
       "      <td>0</td>\n",
       "      <td>0</td>\n",
       "      <td>0</td>\n",
       "      <td>0</td>\n",
       "      <td>0</td>\n",
       "      <td>0</td>\n",
       "      <td>0</td>\n",
       "      <td>0</td>\n",
       "      <td>0</td>\n",
       "      <td>1</td>\n",
       "      <td>...</td>\n",
       "      <td>1</td>\n",
       "      <td>0</td>\n",
       "      <td>0</td>\n",
       "      <td>0</td>\n",
       "      <td>0</td>\n",
       "      <td>0</td>\n",
       "      <td>0</td>\n",
       "      <td>0</td>\n",
       "      <td>1</td>\n",
       "      <td>0</td>\n",
       "      <td>0</td>\n",
       "      <td>0</td>\n",
       "    </tr>\n",
       "    <tr>\n",
       "      <th>2</th>\n",
       "      <td>0</td>\n",
       "      <td>1</td>\n",
       "      <td>0</td>\n",
       "      <td>0</td>\n",
       "      <td>0</td>\n",
       "      <td>1</td>\n",
       "      <td>1</td>\n",
       "      <td>0</td>\n",
       "      <td>0</td>\n",
       "      <td>0</td>\n",
       "      <td>0</td>\n",
       "      <td>1</td>\n",
       "      <td>...</td>\n",
       "      <td>1</td>\n",
       "      <td>0</td>\n",
       "      <td>0</td>\n",
       "      <td>0</td>\n",
       "      <td>0</td>\n",
       "      <td>1</td>\n",
       "      <td>1</td>\n",
       "      <td>0</td>\n",
       "      <td>0</td>\n",
       "      <td>1</td>\n",
       "      <td>1</td>\n",
       "      <td>0</td>\n",
       "    </tr>\n",
       "  </tbody>\n",
       "</table>\n",
       "<p>3 rows × 86 columns</p>\n",
       "</div>"
      ],
      "text/plain": [
       "   target  \\\n",
       "0       0   \n",
       "1       0   \n",
       "2       0   \n",
       "\n",
       "   ibe2076_ibe_premier_socialconcerncausessupportedfinancially_charitable  \\\n",
       "0                                                  0                        \n",
       "1                                                  0                        \n",
       "2                                                  1                        \n",
       "\n",
       "   ibe2076_ibe_premier_socialconcerncausessupportedfinancially_animal_welfare  \\\n",
       "0                                                  0                            \n",
       "1                                                  0                            \n",
       "2                                                  0                            \n",
       "\n",
       "   ibe2076_ibe_premier_socialconcerncausessupportedfinancially_childrens  \\\n",
       "0                                                  0                       \n",
       "1                                                  0                       \n",
       "2                                                  0                       \n",
       "\n",
       "   ibe2076_ibe_premier_socialconcerncausessupportedfinancially_environment_or_wildlife  \\\n",
       "0                                                  0                                     \n",
       "1                                                  0                                     \n",
       "2                                                  0                                     \n",
       "\n",
       "   ibe2076_ibe_premier_socialconcerncausessupportedfinancially_health  \\\n",
       "0                                                  0                    \n",
       "1                                                  0                    \n",
       "2                                                  1                    \n",
       "\n",
       "   ibe2076_ibe_premier_socialconcerncausessupportedfinancially_political  \\\n",
       "0                                                  0                       \n",
       "1                                                  0                       \n",
       "2                                                  1                       \n",
       "\n",
       "   ibe2076_ibe_premier_socialconcerncausessupportedfinancially_religious  \\\n",
       "0                                                  0                       \n",
       "1                                                  0                       \n",
       "2                                                  0                       \n",
       "\n",
       "   ibe2076_ibe_premier_socialconcerncausessupportedfinancially_veterans  \\\n",
       "0                                                  0                      \n",
       "1                                                  0                      \n",
       "2                                                  0                      \n",
       "\n",
       "   ibe2076_ibe_premier_socialconcerncausessupportedfinancially_other  ibe2356  \\\n",
       "0                                                  0                        0   \n",
       "1                                                  0                        0   \n",
       "2                                                  0                        0   \n",
       "\n",
       "   ibe2776  ...  ibe7851  ibe8165_ibe_premier_truckmotorcyclerv_truck_owner  \\\n",
       "0        0  ...        0                                                  0   \n",
       "1        1  ...        1                                                  0   \n",
       "2        1  ...        1                                                  0   \n",
       "\n",
       "   ibe8165_ibe_premier_truckmotorcyclerv_motorcycle_owner  \\\n",
       "0                                                  0        \n",
       "1                                                  0        \n",
       "2                                                  0        \n",
       "\n",
       "   ibe8165_ibe_premier_truckmotorcyclerv_rv_owner  ibe8257  \\\n",
       "0                                               0        0   \n",
       "1                                               0        0   \n",
       "2                                               0        0   \n",
       "\n",
       "   ibe8621_ibe_premier_creditcardindicatoronezero_bank_card_holder  \\\n",
       "0                                                  0                 \n",
       "1                                                  0                 \n",
       "2                                                  1                 \n",
       "\n",
       "   ibe8621_ibe_premier_creditcardindicatoronezero_gas_department_retail_card_holder  \\\n",
       "0                                                  0                                  \n",
       "1                                                  0                                  \n",
       "2                                                  1                                  \n",
       "\n",
       "   ibe8621_ibe_premier_creditcardindicatoronezero_travel_and_entertainment_card_holder  \\\n",
       "0                                                  0                                     \n",
       "1                                                  0                                     \n",
       "2                                                  0                                     \n",
       "\n",
       "   ibe8621_ibe_premier_creditcardindicatoronezero_credit_card_holder_unknown_type  \\\n",
       "0                                                  0                                \n",
       "1                                                  1                                \n",
       "2                                                  0                                \n",
       "\n",
       "   ibe8621_ibe_premier_creditcardindicatoronezero_premium_card_holder  \\\n",
       "0                                                  0                    \n",
       "1                                                  0                    \n",
       "2                                                  1                    \n",
       "\n",
       "   ibe8621_ibe_premier_creditcardindicatoronezero_upscale_department_store_card_holder  \\\n",
       "0                                                  0                                     \n",
       "1                                                  0                                     \n",
       "2                                                  1                                     \n",
       "\n",
       "   ibe8639  \n",
       "0        0  \n",
       "1        0  \n",
       "2        0  \n",
       "\n",
       "[3 rows x 86 columns]"
      ]
     },
     "execution_count": 678,
     "metadata": {},
     "output_type": "execute_result"
    }
   ],
   "source": [
    "binary_conv_dict= {}\n",
    "test_non_truly_binary= []\n",
    "\n",
    "for col in binary_feats:\n",
    "    unique_values= pre_sel_train[col].unique()\n",
    "    \n",
    "    binary_conv_dict[col]= {unique_values[0]: 0, unique_values[1]: 1}\n",
    "    \n",
    "    pre_sel_train[col]= pre_sel_train[col].map(binary_conv_dict[col])\n",
    "    pre_sel_test[col]= pre_sel_test[col].map(binary_conv_dict[col])\n",
    "    \n",
    "    if pre_sel_test[col].nunique()!= 2:\n",
    "        print(col, pre_sel_test[col].nunique())\n",
    "        test_non_truly_binary.append(col)\n",
    "\n",
    "pre_sel_train[binary_feats].head(3)"
   ]
  },
  {
   "cell_type": "code",
   "execution_count": 679,
   "metadata": {},
   "outputs": [
    {
     "data": {
      "text/plain": [
       "[]"
      ]
     },
     "execution_count": 679,
     "metadata": {},
     "output_type": "execute_result"
    }
   ],
   "source": [
    "test_non_truly_binary"
   ]
  },
  {
   "cell_type": "code",
   "execution_count": 680,
   "metadata": {},
   "outputs": [
    {
     "data": {
      "text/plain": [
       "Series([], dtype: int64)"
      ]
     },
     "execution_count": 680,
     "metadata": {},
     "output_type": "execute_result"
    }
   ],
   "source": [
    "pre_sel_test.isna().sum()[pre_sel_test.isna().sum()>0]"
   ]
  },
  {
   "cell_type": "code",
   "execution_count": 681,
   "metadata": {},
   "outputs": [
    {
     "data": {
      "text/plain": [
       "0                   rural\n",
       "1          downtown metro\n",
       "2        city & surrounds\n",
       "3                   rural\n",
       "4        city & surrounds\n",
       "               ...       \n",
       "78431             missing\n",
       "78432             missing\n",
       "78433    city & surrounds\n",
       "78434    city & surrounds\n",
       "78435               rural\n",
       "Name: urbanity, Length: 78436, dtype: object"
      ]
     },
     "execution_count": 681,
     "metadata": {},
     "output_type": "execute_result"
    }
   ],
   "source": [
    "pre_sel_train['urbanity']"
   ]
  },
  {
   "cell_type": "markdown",
   "metadata": {
    "colab_type": "text",
    "id": "14ZkfOrGl8Wb"
   },
   "source": [
    "### <font color= 'green'> <center> K-Fold Target Encoding with Noise"
   ]
  },
  {
   "cell_type": "markdown",
   "metadata": {
    "hide_input": true
   },
   "source": [
    "### Macro Explanation  <a id='kfold_targ_enc'> <a href='#Menu'>   Menu <br>\n",
    "1. First, read this article to understand why and how a K-Fold approach is preferred to a basic target encoding (where each category is replaced with the related target mean of the training set) https://medium.com/@pouryaayria/k-fold-target-encoding-dfe9a594874b . It must be clear that this way overfitting is strongly reduced, since the same category will not be converted always with the same value, but a different one for each fold.\n",
    "2. In past projects, I improved this approach, basically by adding:\n",
    "    1. **Noise** to each value, which is proportional to the std deviation of the target of a given category     (considered in the K-1 folds..). Reason: suppose that category A has got values 0.3, 0.6 and 0.9, with mean= 0.6. Category B has 0.55, 0.60 and 0.65, with mean 0.6 again. It is obvious that the second one has got a much stronger dependency with the target, in respect to the first. This information is captured by the std dev: category A will be replaced in each row with 0.6 plus a noise which will be proportional to the standard deviation (my default multiplying factor is 0.1* std deviation). \n",
    "The conclusion is that the same category will have different values in each row, rather than in each fold: that's great to avoid overfitting!\n",
    "    2. **Threshold**: suppose that in the training data you have 1000 observations of category A and only 5 observations having category B. Clearly, the target related to the latter is much more uncertain: actually we don't want any model to learn the relationship between category B and the target: if it does, it would be likely to overfit. Thus, the K-Fold targ. encoding approach is applied only for those categories having a number of samples (in the K-1 folds) higher than a chosen threshold. If this condition is not satisfied, they are replaced with the mean/median of the whole feature in the training data (similar to a binning approach: by filling all the low frequency category with the mean, you are actually grouping them into a common cluster..) <br>    \n",
    "3. In the test set, each category is replaced with its corresponding mean in the train. There is no need to add noise here, since it has already been added in the train. If there is a new category - unseen in the train data - it is filled with the training mean of the whole feature (similar to a missing values imputation..)\n",
    "    \n",
    "4. <font color ='green'> I will provide a jupyter notebook (I have to clean the current one I have) with a step by step grapchical explanation of the whole process. I also have to clean the function and comments, translating to english italian comments"
   ]
  },
  {
   "cell_type": "markdown",
   "metadata": {},
   "source": [
    "<b> Referring to the previous description, the main parameters of the function belowe are: </b>\n",
    "1. **n_folds**: is the number of Folds it is wanted to use. Very simply, a higher number prevents even more overfitting, but it is computationally more expensive. I usually use 100 folds, but I don't advice to consider this as an hyperparameter of the model.\n",
    "2. **prop_std_per_noise**: it is the mupltiplying factor of the std deviation, it has to be a low number, otherwise you are adding to much noise to the data and you lose too much information. Typically, I choose values lower than 0.1. Play with the parameter in the cell below to have an idea of the impact this multiplying factor has.\n",
    "3. **threshold**: see cell above.\n",
    "4. **cols_to_encode**: by default the function performs this encoding for all the categorical features (that is, being 'object' type). But if you want to apply only for some specific columns, you can pass them as a list. <br>\n",
    "Less Relevant:\n",
    "5. *target*: is simply the target name\n",
    "6. *minimum_std*: for some categories it can happen that the std deviation is 0. To reduce the power of this (and overfitting..), we set a minimum amount of std dev, without which there would not be any noise added. Thus, set this value low, I usually use smth like 0.05"
   ]
  },
  {
   "cell_type": "markdown",
   "metadata": {},
   "source": [
    "<b> CAREFUL: np.random.seed(42) has to be in the same cell code of the function below (hidden)"
   ]
  },
  {
   "cell_type": "code",
   "execution_count": 682,
   "metadata": {
    "colab": {},
    "colab_type": "code",
    "hide_input": false,
    "id": "yZxALEmNl8Wc",
    "run_control": {
     "marked": false
    }
   },
   "outputs": [],
   "source": [
    "class KFoldTargetEncoderTrain_std(base.BaseEstimator, base.TransformerMixin):\n",
    "    def __init__(self, colnames,targetName, n_fold=10, verbosity=True, \n",
    "                 discardOriginal_col=False, threshold= 1, showPrint= False):\n",
    "\n",
    "        self.colnames = colnames\n",
    "        self.targetName = targetName\n",
    "        self.n_fold = n_fold\n",
    "        self.verbosity = verbosity\n",
    "        self.discardOriginal_col = discardOriginal_col\n",
    "        self.threshold= threshold\n",
    "        self.showPrint= showPrint\n",
    "\n",
    "    def fit(self, X, y=None):\n",
    "        return self\n",
    "\n",
    "    def transform(self,X):\n",
    "\n",
    "        assert(type(self.targetName) == str)\n",
    "        assert(type(self.colnames) == str)\n",
    "        assert(self.colnames in X.columns)\n",
    "        assert(self.targetName in X.columns)\n",
    "        assert(type(self.threshold) == int)\n",
    "       \n",
    "        kf = KFold(n_splits = self.n_fold, shuffle = False, random_state=2019)\n",
    "        #kf = StratifiedKFold(n_splits = self.n_fold, shuffle = False, random_state=2019)\n",
    "\n",
    "        col_mean_name = self.colnames + '_' + 'enc_mean'\n",
    "        col_std_name= self.colnames + '_' + 'enc_std'\n",
    "        \n",
    "        #Le inizializzo con tutti NaN\n",
    "        X[col_mean_name] = np.nan\n",
    "        X[col_std_name] = np.nan\n",
    "        \n",
    "        #A ogni giro (per ogni K-Fold) fillo valori della Test Fold con la media delle Train Fold.\n",
    "        for tr_ind, val_ind in kf.split(X):\n",
    "            if self.showPrint is True:\n",
    "                print('Indici delle Train-Folds: {},\\033[1mTest Fold da fillare: {}\\033[0m \\n'.format(tr_ind, val_ind))  #sono gli indici delle folds\n",
    "\n",
    "            X_tr, X_val = X.iloc[tr_ind], X.iloc[val_ind]\n",
    "\n",
    "            diz_mean= X_tr.groupby(self.colnames)[self.targetName].mean().to_dict()\n",
    "            diz_std= X_tr.groupby(self.colnames)[self.targetName].std().to_dict()\n",
    "\n",
    "            #### Tratto come Nan chi non supera la threshold, agli altri assegno media e std sulle altre folds\n",
    "            frequenze= X_tr.groupby(self.colnames).size()\n",
    "            cat_oltre_threshold= frequenze[frequenze >= self.threshold].index\n",
    "            \n",
    "            if self.showPrint == True:\n",
    "                print('cat_oltre_threshold', cat_oltre_threshold)\n",
    "\n",
    "            X.loc[X.index[val_ind], col_mean_name] = X_val[self.colnames].apply(lambda x: diz_mean[x] if x in cat_oltre_threshold else np.nan )\n",
    "            X.loc[X.index[val_ind], col_std_name] = X_val[self.colnames].apply(lambda x: diz_std[x] if x in cat_oltre_threshold else np.nan)\n",
    "\n",
    "            mean_of_target = X_tr[self.targetName].mean()  #media di tutto il target sul KFold Train, not grouped\n",
    "            std_of_target= X_tr[self.targetName].std()    # # std di tutto il target sul KFold Train, not grouped\n",
    "\n",
    "            X[col_mean_name].fillna(mean_of_target, inplace = True) #ai NaN metto la media del KFold Train Target\n",
    "            X[col_std_name].fillna(std_of_target, inplace = True)   # ai NaN metto la std dev media del Kfold Train Target\n",
    "\n",
    "        if self.verbosity:\n",
    "\n",
    "            encoded_feature = X[col_mean_name].values\n",
    "            print('Correlation between the new feature, {} and, {} is {}.'.format(col_mean_name,\n",
    "                                    self.targetName,np.corrcoef(X[self.targetName].values, encoded_feature)[0][1]))\n",
    "            \n",
    "        if self.discardOriginal_col:\n",
    "            if self.showPrint == True:\n",
    "                print('columns: ', X.columns)\n",
    "            X = X.drop(self.colnames, axis=1)\n",
    "        return X\n",
    "    \n",
    "    \n",
    "class KFoldTargetEncoderTest_std(base.BaseEstimator, base.TransformerMixin):\n",
    "    \n",
    "    def __init__(self,train,colNames,Train_encoded_mean, Train_encoded_std, showPrint= False):\n",
    "        \n",
    "        self.train = train\n",
    "        self.colNames = colNames\n",
    "        self.Train_encoded_mean = Train_encoded_mean\n",
    "        self.Train_encoded_std = Train_encoded_std\n",
    "        self.showPrint= showPrint\n",
    "        \n",
    "    def fit(self, X, y=None):\n",
    "        return self\n",
    "\n",
    "    def transform(self,X):\n",
    "\n",
    "        ### Media e std del Target grouped per categoria su tutto il Train\n",
    "        category_mean_tr = self.train[[self.colNames,self.Train_encoded_mean]].groupby(self.colNames).mean() #.reset_index() \n",
    "        category_std_tr= self.train[[self.colNames,self.Train_encoded_std]].groupby(self.colNames).mean() #.reset_index() \n",
    "        \n",
    "        ### Media dell'Encoding basato su mean e std sul Train (non grouped per categoria)\n",
    "        population_mean_tr= self.train[self.Train_encoded_mean].mean()\n",
    "        population_std_tr= self.train[self.Train_encoded_std].mean()\n",
    "        \n",
    "        ### Metto nel Test i valori medi della mean e std del Train per quella categoria\n",
    "        X[self.Train_encoded_mean]= X[self.colNames].map(category_mean_tr.squeeze().to_dict())\n",
    "        X[self.Train_encoded_std]= X[self.colNames].map(category_std_tr.squeeze().to_dict())\n",
    "        \n",
    "        ### Fillo i Missing Values (Categorie Nuove) con i valori medi di mean e std (encodate) di tutte la variabile nel Train\n",
    "        if self.showPrint== True:\n",
    "            print('Filled {} Missing Values with Average mean and std equals to {}, {}'.format(\n",
    "                                                        np.sum(np.sum(X.isna())), population_mean_tr , population_std_tr))\n",
    "        \n",
    "        X[self.Train_encoded_mean].fillna(population_mean_tr, inplace = True) #fillo con media di enc_mean sul Train\n",
    "        X[self.Train_encoded_std].fillna(population_std_tr, inplace = True)   #fillo con media di enc_std sul Train\n",
    "        \n",
    "        return X"
   ]
  },
  {
   "cell_type": "code",
   "execution_count": 683,
   "metadata": {
    "colab": {},
    "colab_type": "code",
    "hide_input": false,
    "id": "sTFfGjjpl8Wh"
   },
   "outputs": [],
   "source": [
    "def encoding_cat_noise(xtrain_orig, xtest_orig, target= 'target', verbose= False, minimum_std= 1, n_folds= 10, \n",
    "                              prop_std_per_noise= 0.05, threshold= 10, showPrint= False, cols_to_encode= None):\n",
    "    \n",
    "    \"\"\"return diz= with 'X_train', 'X_test', 'ytrain', 'ytest' \"\"\"\n",
    "    \n",
    "    np.random.seed(42)\n",
    "    label= target  #naming convention\n",
    "    \n",
    "    xtrain= xtrain_orig.copy()\n",
    "    xtest= xtest_orig.copy()\n",
    "    ytrain= xtrain[label]  \n",
    "    ytest=  xtest[label]   \n",
    "    \n",
    "    print('Train and Test initial shapes (including target): ', xtrain.shape, xtest.shape)\n",
    "    print('Threshold is: ', threshold)\n",
    "    #purch_doc_train= xtrain['Purchase document']\n",
    "    #purch_doc_test= xtest['Purchase document']\n",
    "    #xtrain= xtrain.drop('Purchase document', axis=1)\n",
    "    #xtest= xtest.drop('Purchase document', axis=1)\n",
    "    \n",
    "    \n",
    "    #Faccio Encoding di tutte quelle di tipo Oggetto, cioè stringe\n",
    "    cardinalita_Xtrain={}\n",
    "    for col in xtrain.select_dtypes(include=[object]).columns:\n",
    "        cardinalita_Xtrain[col]= xtrain[col].nunique()\n",
    "    cardinalita_Xtrain= pd.Series(cardinalita_Xtrain)\n",
    "    cardinalita_Xtrain= cardinalita_Xtrain.sort_values(ascending=False)\n",
    "    cardinalita_Xtrain= pd.DataFrame(cardinalita_Xtrain, columns= ['cardinalità_classe'])\n",
    "    cardinalita_Xtrain\n",
    "\n",
    "\n",
    "    columns_to_encode= list(cardinalita_Xtrain.index)\n",
    "    if cols_to_encode is not None:  #le cambio solo se glielo specifico, sennò lo faccio per tutti i dtypes= object\n",
    "        columns_to_encode= cols_to_encode\n",
    "    \n",
    "    print('...Performing Encoding...')\n",
    "    time_init= time.time()\n",
    "    for col in columns_to_encode:\n",
    "        if showPrint== True:\n",
    "            print('\\n COLUMN NAME: ', col)  \n",
    "        targetc = KFoldTargetEncoderTrain_std(col, label ,n_fold= n_folds, verbosity= verbose,threshold = threshold, showPrint= False)\n",
    "        xtrain = targetc.fit_transform(xtrain)\n",
    "        #print(xtrain.iloc[:2, 17:], '\\n')\n",
    "\n",
    "        test_targetc = KFoldTargetEncoderTest_std(xtrain,col, col+ '_enc_mean', col+ '_enc_std')\n",
    "        xtest= test_targetc.fit_transform(xtest)\n",
    "        \n",
    "        xtrain= xtrain.drop(col, axis=1)\n",
    "        xtest= xtest.drop(col, axis=1)\n",
    "    print('...Encoding Terminated...')\n",
    "    print('execution time (minutes) for encoding=', round((time.time()-time_init)/60, 1))\n",
    "        \n",
    "    xtrain= xtrain.drop( [label], axis=1)\n",
    "    xtest= xtest.drop([label], axis=1)\n",
    "             \n",
    "    #### Metto minimum_std dev a chi ha 0, così poi ci sarà un po' di Noise pure in corrispondenza di quei samples\n",
    "    cols_std= [col for col in xtrain.columns if col.split('_')[-1]== 'std']\n",
    "    \n",
    "    for col in cols_std:\n",
    "        xtrain[col]= xtrain[col].apply(lambda x: minimum_std if x==0 else x)\n",
    "        xtest[col]= xtest[col].apply(lambda x: minimum_std if x==0 else x)\n",
    "        \n",
    "    #for col in cols_std:\n",
    "        #print('Ci sono {} std = 0 per colonna {}'.format(xtrain[col][xtrain[col]== 0].sum(), col))\n",
    "    \n",
    "    ###### Final Encoding con Noise #########\n",
    "    cols_mean= [col for col in xtrain.columns if col.split('_')[-1]== 'mean']\n",
    "    diz_mean_std= dict(zip(cols_mean, [col[: len(col)- len('mean')] +'std' for col in cols_mean] ))\n",
    "    \n",
    "    for key in diz_mean_std.keys():  #key è la colonna con la media\n",
    "        #if showPrint== True:\n",
    "            #print(' key and value are: ', key, diz_mean_std[key] ) \n",
    "        for X in [xtrain, xtest]:   # Creo colonna con encoding finale e droppo le due di mean e std encoding\n",
    "            ### Metto Noise sono nel Training. Nel test solo medie.\n",
    "            if X is xtrain:   \n",
    "                X[key[: - len('_enc_mean')] + '_FINAL_ENC' ] = np.random.normal(X[key], prop_std_per_noise* X[diz_mean_std[key]], len(X))\n",
    "            elif X is xtest:\n",
    "                X[key[: - len('_enc_mean')] + '_FINAL_ENC' ]= X[key]  #key è la colonna con la media\n",
    "            X.drop([key, diz_mean_std[key]], axis=1, inplace= True)\n",
    "                \n",
    "    ##### Faccio dei Check #####\n",
    "    if len(xtrain.select_dtypes(include=object).columns) ==0 and len(xtest.select_dtypes(include=object).columns) ==0:\n",
    "        print('\\n \\033[1mCORRETTO: Tutte colonne sono numeriche\\033[0m')\n",
    "    else:\n",
    "        print('\\n \\033[1mSBAGLIATO: n° colonne non numeriche non è 0, ma ', max(len(xtrain.select_dtypes(include=object).columns),  \n",
    "                                                                                   len(xtest.select_dtypes(include=object).columns)))\n",
    "        \n",
    "        \n",
    "    ### Ultimo check: colonne Train e Test devono essere uguali\n",
    "    if list(xtrain.columns) != list(xtest.columns): \n",
    "        print('ERRORE: COLONNE IN TRAIN E TEST SONO DIVERSE')\n",
    "        \n",
    "    #Gli rimetto Purchase Document, solo per andare in Join dopo\n",
    "    #xtrain.insert (0, \"Purchase document\", purch_doc_train)\n",
    "    #xtest.insert(0, \"Purchase document\", purch_doc_test)\n",
    "    \n",
    "    #numerics = ['int16', 'int32', 'int64', 'float16', 'float32', 'float64']\n",
    "    \n",
    "    for x in [xtrain, xtest]:\n",
    "        for col in x.select_dtypes(include= 'float64'):  #include='numerics'\n",
    "            x[col]= x[col].apply(lambda x: round(x, 3))\n",
    "        \n",
    "    print('\\n Train and Test final shapes: ', xtrain.shape, xtest.shape)\n",
    "        \n",
    "    return {'X_train': xtrain, 'X_test': xtest, 'ytrain': ytrain, 'ytest': ytest}"
   ]
  },
  {
   "cell_type": "code",
   "execution_count": 685,
   "metadata": {
    "colab": {
     "base_uri": "https://localhost:8080/",
     "height": 442
    },
    "colab_type": "code",
    "executionInfo": {
     "elapsed": 90491,
     "status": "ok",
     "timestamp": 1580693083790,
     "user": {
      "displayName": "Federico Francone",
      "photoUrl": "https://lh3.googleusercontent.com/a-/AAuE7mCvT-5R0e3T46w8v1AsqxSyhT-fEY26ltek6aRh=s64",
      "userId": "16122115063472740860"
     },
     "user_tz": -60
    },
    "id": "dTjKI8val8Wl",
    "outputId": "10150df8-a0ed-493c-c80f-897d7c1fd983",
    "scrolled": true
   },
   "outputs": [
    {
     "name": "stdout",
     "output_type": "stream",
     "text": [
      "Train and Test initial shapes (including target):  (78436, 338) (33613, 338)\n",
      "Threshold is:  5\n",
      "...Performing Encoding...\n",
      "\n",
      " COLUMN NAME:  ibe2360\n",
      "\n",
      " COLUMN NAME:  cass_state\n",
      "\n",
      " COLUMN NAME:  ibe8637\n",
      "\n",
      " COLUMN NAME:  ibe8642\n",
      "\n",
      " COLUMN NAME:  acxiom_cluster_group\n",
      "\n",
      " COLUMN NAME:  ibe8609\n",
      "\n",
      " COLUMN NAME:  ibe8531\n",
      "\n",
      " COLUMN NAME:  urbanity\n",
      "\n",
      " COLUMN NAME:  ibe8627_age_input_individual_default_to_1st_individual_premier_flag\n",
      "...Encoding Terminated...\n",
      "execution time (minutes) for encoding= 0.3\n",
      "\n",
      " \u001b[1mCORRETTO: Tutte colonne sono numeriche\u001b[0m\n",
      "\n",
      " Train and Test final shapes:  (78436, 337) (33613, 337)\n"
     ]
    }
   ],
   "source": [
    "encoded_train_test = encoding_cat_noise(pre_sel_train, pre_sel_test, target= 'target', verbose= False, minimum_std= 0.05, n_folds= 10, \n",
    "                              prop_std_per_noise= 0.001, threshold= 5, showPrint= True, cols_to_encode= None)"
   ]
  },
  {
   "cell_type": "code",
   "execution_count": 686,
   "metadata": {
    "colab": {
     "base_uri": "https://localhost:8080/",
     "height": 34
    },
    "colab_type": "code",
    "executionInfo": {
     "elapsed": 79432,
     "status": "ok",
     "timestamp": 1580693083793,
     "user": {
      "displayName": "Federico Francone",
      "photoUrl": "https://lh3.googleusercontent.com/a-/AAuE7mCvT-5R0e3T46w8v1AsqxSyhT-fEY26ltek6aRh=s64",
      "userId": "16122115063472740860"
     },
     "user_tz": -60
    },
    "id": "HXeiSBcFl8Wp",
    "outputId": "90e7181b-84c7-43f9-cb5f-dd2034c467ab"
   },
   "outputs": [
    {
     "data": {
      "text/plain": [
       "((78436, 337), (33613, 337))"
      ]
     },
     "execution_count": 686,
     "metadata": {},
     "output_type": "execute_result"
    }
   ],
   "source": [
    "train= encoded_train_test['X_train']\n",
    "test= encoded_train_test['X_test']\n",
    "\n",
    "train.shape, test.shape"
   ]
  },
  {
   "cell_type": "code",
   "execution_count": 687,
   "metadata": {},
   "outputs": [
    {
     "data": {
      "text/html": [
       "<div>\n",
       "<style scoped>\n",
       "    .dataframe tbody tr th:only-of-type {\n",
       "        vertical-align: middle;\n",
       "    }\n",
       "\n",
       "    .dataframe tbody tr th {\n",
       "        vertical-align: top;\n",
       "    }\n",
       "\n",
       "    .dataframe thead th {\n",
       "        text-align: right;\n",
       "    }\n",
       "</style>\n",
       "<table border=\"1\" class=\"dataframe\">\n",
       "  <thead>\n",
       "    <tr style=\"text-align: right;\">\n",
       "      <th></th>\n",
       "      <th>cass_state_FINAL_ENC</th>\n",
       "      <th>ibe4158</th>\n",
       "      <th>ibe9514</th>\n",
       "    </tr>\n",
       "  </thead>\n",
       "  <tbody>\n",
       "    <tr>\n",
       "      <th>count</th>\n",
       "      <td>78436.000000</td>\n",
       "      <td>78436.000000</td>\n",
       "      <td>78436.000000</td>\n",
       "    </tr>\n",
       "    <tr>\n",
       "      <th>mean</th>\n",
       "      <td>0.173128</td>\n",
       "      <td>11.913815</td>\n",
       "      <td>1.415052</td>\n",
       "    </tr>\n",
       "    <tr>\n",
       "      <th>std</th>\n",
       "      <td>0.056745</td>\n",
       "      <td>1.273306</td>\n",
       "      <td>0.676076</td>\n",
       "    </tr>\n",
       "    <tr>\n",
       "      <th>min</th>\n",
       "      <td>0.023000</td>\n",
       "      <td>0.000000</td>\n",
       "      <td>1.000000</td>\n",
       "    </tr>\n",
       "    <tr>\n",
       "      <th>25%</th>\n",
       "      <td>0.132000</td>\n",
       "      <td>12.000000</td>\n",
       "      <td>1.000000</td>\n",
       "    </tr>\n",
       "    <tr>\n",
       "      <th>50%</th>\n",
       "      <td>0.185000</td>\n",
       "      <td>12.000000</td>\n",
       "      <td>1.000000</td>\n",
       "    </tr>\n",
       "    <tr>\n",
       "      <th>75%</th>\n",
       "      <td>0.219000</td>\n",
       "      <td>12.000000</td>\n",
       "      <td>2.000000</td>\n",
       "    </tr>\n",
       "    <tr>\n",
       "      <th>max</th>\n",
       "      <td>0.303000</td>\n",
       "      <td>15.000000</td>\n",
       "      <td>4.000000</td>\n",
       "    </tr>\n",
       "  </tbody>\n",
       "</table>\n",
       "</div>"
      ],
      "text/plain": [
       "       cass_state_FINAL_ENC       ibe4158       ibe9514\n",
       "count          78436.000000  78436.000000  78436.000000\n",
       "mean               0.173128     11.913815      1.415052\n",
       "std                0.056745      1.273306      0.676076\n",
       "min                0.023000      0.000000      1.000000\n",
       "25%                0.132000     12.000000      1.000000\n",
       "50%                0.185000     12.000000      1.000000\n",
       "75%                0.219000     12.000000      2.000000\n",
       "max                0.303000     15.000000      4.000000"
      ]
     },
     "execution_count": 687,
     "metadata": {},
     "output_type": "execute_result"
    }
   ],
   "source": [
    "train[['cass_state_FINAL_ENC', 'ibe4158', 'ibe9514']].describe()"
   ]
  },
  {
   "cell_type": "code",
   "execution_count": 688,
   "metadata": {},
   "outputs": [
    {
     "data": {
      "text/html": [
       "<div>\n",
       "<style scoped>\n",
       "    .dataframe tbody tr th:only-of-type {\n",
       "        vertical-align: middle;\n",
       "    }\n",
       "\n",
       "    .dataframe tbody tr th {\n",
       "        vertical-align: top;\n",
       "    }\n",
       "\n",
       "    .dataframe thead th {\n",
       "        text-align: right;\n",
       "    }\n",
       "</style>\n",
       "<table border=\"1\" class=\"dataframe\">\n",
       "  <thead>\n",
       "    <tr style=\"text-align: right;\">\n",
       "      <th></th>\n",
       "      <th>ibe2802_ita_score_zip_plus4_aggregate_ita_score</th>\n",
       "      <th>ibe2076_ibe_premier_socialconcerncausessupportedfinancially_charitable</th>\n",
       "      <th>ibe2076_ibe_premier_socialconcerncausessupportedfinancially_animal_welfare</th>\n",
       "      <th>ibe2076_ibe_premier_socialconcerncausessupportedfinancially_childrens</th>\n",
       "      <th>ibe2076_ibe_premier_socialconcerncausessupportedfinancially_environment_or_wildlife</th>\n",
       "      <th>ibe2076_ibe_premier_socialconcerncausessupportedfinancially_health</th>\n",
       "      <th>ibe2076_ibe_premier_socialconcerncausessupportedfinancially_political</th>\n",
       "      <th>ibe2076_ibe_premier_socialconcerncausessupportedfinancially_religious</th>\n",
       "      <th>ibe2076_ibe_premier_socialconcerncausessupportedfinancially_veterans</th>\n",
       "      <th>ibe2076_ibe_premier_socialconcerncausessupportedfinancially_other</th>\n",
       "      <th>ibe2356</th>\n",
       "      <th>ibe2776</th>\n",
       "      <th>...</th>\n",
       "      <th>z419</th>\n",
       "      <th>z98</th>\n",
       "      <th>z421</th>\n",
       "      <th>ibe2360_FINAL_ENC</th>\n",
       "      <th>cass_state_FINAL_ENC</th>\n",
       "      <th>ibe8637_FINAL_ENC</th>\n",
       "      <th>ibe8642_FINAL_ENC</th>\n",
       "      <th>acxiom_cluster_group_FINAL_ENC</th>\n",
       "      <th>ibe8609_FINAL_ENC</th>\n",
       "      <th>ibe8531_FINAL_ENC</th>\n",
       "      <th>urbanity_FINAL_ENC</th>\n",
       "      <th>ibe8627_age_input_individual_default_to_1st_individual_premier_flag_FINAL_ENC</th>\n",
       "    </tr>\n",
       "  </thead>\n",
       "  <tbody>\n",
       "    <tr>\n",
       "      <th>0</th>\n",
       "      <td>613.0</td>\n",
       "      <td>0</td>\n",
       "      <td>0</td>\n",
       "      <td>0</td>\n",
       "      <td>0</td>\n",
       "      <td>0</td>\n",
       "      <td>0</td>\n",
       "      <td>0</td>\n",
       "      <td>0</td>\n",
       "      <td>0</td>\n",
       "      <td>0</td>\n",
       "      <td>0</td>\n",
       "      <td>...</td>\n",
       "      <td>0.0</td>\n",
       "      <td>0.0</td>\n",
       "      <td>0.0</td>\n",
       "      <td>0.171</td>\n",
       "      <td>0.167</td>\n",
       "      <td>0.180</td>\n",
       "      <td>0.172</td>\n",
       "      <td>0.176</td>\n",
       "      <td>0.191</td>\n",
       "      <td>0.193</td>\n",
       "      <td>0.140</td>\n",
       "      <td>0.185</td>\n",
       "    </tr>\n",
       "    <tr>\n",
       "      <th>1</th>\n",
       "      <td>740.0</td>\n",
       "      <td>0</td>\n",
       "      <td>0</td>\n",
       "      <td>0</td>\n",
       "      <td>0</td>\n",
       "      <td>0</td>\n",
       "      <td>0</td>\n",
       "      <td>0</td>\n",
       "      <td>0</td>\n",
       "      <td>0</td>\n",
       "      <td>0</td>\n",
       "      <td>1</td>\n",
       "      <td>...</td>\n",
       "      <td>0.0</td>\n",
       "      <td>0.0</td>\n",
       "      <td>0.0</td>\n",
       "      <td>0.171</td>\n",
       "      <td>0.197</td>\n",
       "      <td>0.164</td>\n",
       "      <td>0.220</td>\n",
       "      <td>0.144</td>\n",
       "      <td>0.202</td>\n",
       "      <td>0.151</td>\n",
       "      <td>0.172</td>\n",
       "      <td>0.185</td>\n",
       "    </tr>\n",
       "  </tbody>\n",
       "</table>\n",
       "<p>2 rows × 337 columns</p>\n",
       "</div>"
      ],
      "text/plain": [
       "   ibe2802_ita_score_zip_plus4_aggregate_ita_score  \\\n",
       "0                                            613.0   \n",
       "1                                            740.0   \n",
       "\n",
       "   ibe2076_ibe_premier_socialconcerncausessupportedfinancially_charitable  \\\n",
       "0                                                  0                        \n",
       "1                                                  0                        \n",
       "\n",
       "   ibe2076_ibe_premier_socialconcerncausessupportedfinancially_animal_welfare  \\\n",
       "0                                                  0                            \n",
       "1                                                  0                            \n",
       "\n",
       "   ibe2076_ibe_premier_socialconcerncausessupportedfinancially_childrens  \\\n",
       "0                                                  0                       \n",
       "1                                                  0                       \n",
       "\n",
       "   ibe2076_ibe_premier_socialconcerncausessupportedfinancially_environment_or_wildlife  \\\n",
       "0                                                  0                                     \n",
       "1                                                  0                                     \n",
       "\n",
       "   ibe2076_ibe_premier_socialconcerncausessupportedfinancially_health  \\\n",
       "0                                                  0                    \n",
       "1                                                  0                    \n",
       "\n",
       "   ibe2076_ibe_premier_socialconcerncausessupportedfinancially_political  \\\n",
       "0                                                  0                       \n",
       "1                                                  0                       \n",
       "\n",
       "   ibe2076_ibe_premier_socialconcerncausessupportedfinancially_religious  \\\n",
       "0                                                  0                       \n",
       "1                                                  0                       \n",
       "\n",
       "   ibe2076_ibe_premier_socialconcerncausessupportedfinancially_veterans  \\\n",
       "0                                                  0                      \n",
       "1                                                  0                      \n",
       "\n",
       "   ibe2076_ibe_premier_socialconcerncausessupportedfinancially_other  ibe2356  \\\n",
       "0                                                  0                        0   \n",
       "1                                                  0                        0   \n",
       "\n",
       "   ibe2776  ...  z419  z98  z421  ibe2360_FINAL_ENC  cass_state_FINAL_ENC  \\\n",
       "0        0  ...   0.0  0.0   0.0              0.171                 0.167   \n",
       "1        1  ...   0.0  0.0   0.0              0.171                 0.197   \n",
       "\n",
       "   ibe8637_FINAL_ENC  ibe8642_FINAL_ENC  acxiom_cluster_group_FINAL_ENC  \\\n",
       "0              0.180              0.172                           0.176   \n",
       "1              0.164              0.220                           0.144   \n",
       "\n",
       "   ibe8609_FINAL_ENC  ibe8531_FINAL_ENC  urbanity_FINAL_ENC  \\\n",
       "0              0.191              0.193               0.140   \n",
       "1              0.202              0.151               0.172   \n",
       "\n",
       "   ibe8627_age_input_individual_default_to_1st_individual_premier_flag_FINAL_ENC  \n",
       "0                                              0.185                              \n",
       "1                                              0.185                              \n",
       "\n",
       "[2 rows x 337 columns]"
      ]
     },
     "execution_count": 688,
     "metadata": {},
     "output_type": "execute_result"
    }
   ],
   "source": [
    "train.head(2)"
   ]
  },
  {
   "cell_type": "code",
   "execution_count": 689,
   "metadata": {},
   "outputs": [],
   "source": [
    "nans= test.isna().sum()[test.isna().sum()>0].index.tolist()\n",
    "\n",
    "for col in nans:\n",
    "    test[col].fillna(train[col].mean(), inplace= True)"
   ]
  },
  {
   "cell_type": "code",
   "execution_count": 690,
   "metadata": {},
   "outputs": [
    {
     "data": {
      "text/plain": [
       "(0, 0)"
      ]
     },
     "execution_count": 690,
     "metadata": {},
     "output_type": "execute_result"
    }
   ],
   "source": [
    "train.isna().sum().sum(), test.isna().sum().sum()"
   ]
  },
  {
   "cell_type": "markdown",
   "metadata": {
    "colab_type": "text",
    "id": "hYC3ArSHl8Wt"
   },
   "source": [
    "### Scaling Features "
   ]
  },
  {
   "cell_type": "code",
   "execution_count": 691,
   "metadata": {
    "colab": {},
    "colab_type": "code",
    "id": "8AuODC92l8Wu"
   },
   "outputs": [],
   "source": [
    "scaler = RobustScaler(with_centering=True, with_scaling=True, quantile_range=(25.0, 75.0))\n",
    "scaled_train = pd.DataFrame(scaler.fit_transform(train), columns= train.columns, index= train.index )\n",
    "scaled_test= pd.DataFrame(scaler.transform(test), columns= test.columns, index= test.index)"
   ]
  },
  {
   "cell_type": "code",
   "execution_count": 692,
   "metadata": {},
   "outputs": [
    {
     "data": {
      "text/html": [
       "<div>\n",
       "<style scoped>\n",
       "    .dataframe tbody tr th:only-of-type {\n",
       "        vertical-align: middle;\n",
       "    }\n",
       "\n",
       "    .dataframe tbody tr th {\n",
       "        vertical-align: top;\n",
       "    }\n",
       "\n",
       "    .dataframe thead th {\n",
       "        text-align: right;\n",
       "    }\n",
       "</style>\n",
       "<table border=\"1\" class=\"dataframe\">\n",
       "  <thead>\n",
       "    <tr style=\"text-align: right;\">\n",
       "      <th></th>\n",
       "      <th>ibe2802_ita_score_zip_plus4_aggregate_ita_score</th>\n",
       "      <th>ibe2076_ibe_premier_socialconcerncausessupportedfinancially_charitable</th>\n",
       "      <th>ibe2076_ibe_premier_socialconcerncausessupportedfinancially_animal_welfare</th>\n",
       "      <th>ibe2076_ibe_premier_socialconcerncausessupportedfinancially_childrens</th>\n",
       "      <th>ibe2076_ibe_premier_socialconcerncausessupportedfinancially_environment_or_wildlife</th>\n",
       "      <th>ibe2076_ibe_premier_socialconcerncausessupportedfinancially_health</th>\n",
       "      <th>ibe2076_ibe_premier_socialconcerncausessupportedfinancially_political</th>\n",
       "      <th>ibe2076_ibe_premier_socialconcerncausessupportedfinancially_religious</th>\n",
       "      <th>ibe2076_ibe_premier_socialconcerncausessupportedfinancially_veterans</th>\n",
       "      <th>ibe2076_ibe_premier_socialconcerncausessupportedfinancially_other</th>\n",
       "      <th>ibe2356</th>\n",
       "      <th>ibe2776</th>\n",
       "      <th>...</th>\n",
       "      <th>z419</th>\n",
       "      <th>z98</th>\n",
       "      <th>z421</th>\n",
       "      <th>ibe2360_FINAL_ENC</th>\n",
       "      <th>cass_state_FINAL_ENC</th>\n",
       "      <th>ibe8637_FINAL_ENC</th>\n",
       "      <th>ibe8642_FINAL_ENC</th>\n",
       "      <th>acxiom_cluster_group_FINAL_ENC</th>\n",
       "      <th>ibe8609_FINAL_ENC</th>\n",
       "      <th>ibe8531_FINAL_ENC</th>\n",
       "      <th>urbanity_FINAL_ENC</th>\n",
       "      <th>ibe8627_age_input_individual_default_to_1st_individual_premier_flag_FINAL_ENC</th>\n",
       "    </tr>\n",
       "  </thead>\n",
       "  <tbody>\n",
       "    <tr>\n",
       "      <th>0</th>\n",
       "      <td>-0.833333</td>\n",
       "      <td>0.0</td>\n",
       "      <td>0.0</td>\n",
       "      <td>0.0</td>\n",
       "      <td>0.0</td>\n",
       "      <td>0.0</td>\n",
       "      <td>0.0</td>\n",
       "      <td>0.0</td>\n",
       "      <td>0.0</td>\n",
       "      <td>0.0</td>\n",
       "      <td>0.0</td>\n",
       "      <td>-1.0</td>\n",
       "      <td>...</td>\n",
       "      <td>0.0</td>\n",
       "      <td>0.0</td>\n",
       "      <td>0.0</td>\n",
       "      <td>0.0</td>\n",
       "      <td>-0.206897</td>\n",
       "      <td>0.789474</td>\n",
       "      <td>-0.130435</td>\n",
       "      <td>0.833333</td>\n",
       "      <td>0.012987</td>\n",
       "      <td>0.175</td>\n",
       "      <td>-0.983051</td>\n",
       "      <td>0.0</td>\n",
       "    </tr>\n",
       "    <tr>\n",
       "      <th>1</th>\n",
       "      <td>0.342593</td>\n",
       "      <td>0.0</td>\n",
       "      <td>0.0</td>\n",
       "      <td>0.0</td>\n",
       "      <td>0.0</td>\n",
       "      <td>0.0</td>\n",
       "      <td>0.0</td>\n",
       "      <td>0.0</td>\n",
       "      <td>0.0</td>\n",
       "      <td>0.0</td>\n",
       "      <td>0.0</td>\n",
       "      <td>0.0</td>\n",
       "      <td>...</td>\n",
       "      <td>0.0</td>\n",
       "      <td>0.0</td>\n",
       "      <td>0.0</td>\n",
       "      <td>0.0</td>\n",
       "      <td>0.137931</td>\n",
       "      <td>-0.052632</td>\n",
       "      <td>0.913043</td>\n",
       "      <td>-1.833333</td>\n",
       "      <td>0.155844</td>\n",
       "      <td>-0.875</td>\n",
       "      <td>-0.440678</td>\n",
       "      <td>0.0</td>\n",
       "    </tr>\n",
       "    <tr>\n",
       "      <th>2</th>\n",
       "      <td>0.851852</td>\n",
       "      <td>1.0</td>\n",
       "      <td>0.0</td>\n",
       "      <td>0.0</td>\n",
       "      <td>0.0</td>\n",
       "      <td>1.0</td>\n",
       "      <td>1.0</td>\n",
       "      <td>0.0</td>\n",
       "      <td>0.0</td>\n",
       "      <td>0.0</td>\n",
       "      <td>0.0</td>\n",
       "      <td>0.0</td>\n",
       "      <td>...</td>\n",
       "      <td>0.0</td>\n",
       "      <td>0.0</td>\n",
       "      <td>0.0</td>\n",
       "      <td>-17.0</td>\n",
       "      <td>-0.390805</td>\n",
       "      <td>0.842105</td>\n",
       "      <td>0.521739</td>\n",
       "      <td>0.083333</td>\n",
       "      <td>0.142857</td>\n",
       "      <td>0.025</td>\n",
       "      <td>-0.016949</td>\n",
       "      <td>1.0</td>\n",
       "    </tr>\n",
       "    <tr>\n",
       "      <th>3</th>\n",
       "      <td>0.601852</td>\n",
       "      <td>0.0</td>\n",
       "      <td>0.0</td>\n",
       "      <td>0.0</td>\n",
       "      <td>0.0</td>\n",
       "      <td>0.0</td>\n",
       "      <td>0.0</td>\n",
       "      <td>0.0</td>\n",
       "      <td>0.0</td>\n",
       "      <td>0.0</td>\n",
       "      <td>0.0</td>\n",
       "      <td>0.0</td>\n",
       "      <td>...</td>\n",
       "      <td>0.0</td>\n",
       "      <td>0.0</td>\n",
       "      <td>0.0</td>\n",
       "      <td>-17.0</td>\n",
       "      <td>0.103448</td>\n",
       "      <td>0.842105</td>\n",
       "      <td>-0.173913</td>\n",
       "      <td>-1.916667</td>\n",
       "      <td>0.129870</td>\n",
       "      <td>0.175</td>\n",
       "      <td>-0.983051</td>\n",
       "      <td>-76.0</td>\n",
       "    </tr>\n",
       "    <tr>\n",
       "      <th>4</th>\n",
       "      <td>0.342593</td>\n",
       "      <td>1.0</td>\n",
       "      <td>0.0</td>\n",
       "      <td>0.0</td>\n",
       "      <td>0.0</td>\n",
       "      <td>0.0</td>\n",
       "      <td>1.0</td>\n",
       "      <td>0.0</td>\n",
       "      <td>0.0</td>\n",
       "      <td>0.0</td>\n",
       "      <td>0.0</td>\n",
       "      <td>0.0</td>\n",
       "      <td>...</td>\n",
       "      <td>0.0</td>\n",
       "      <td>0.0</td>\n",
       "      <td>0.0</td>\n",
       "      <td>0.0</td>\n",
       "      <td>0.390805</td>\n",
       "      <td>2.263158</td>\n",
       "      <td>0.195652</td>\n",
       "      <td>0.000000</td>\n",
       "      <td>0.000000</td>\n",
       "      <td>0.175</td>\n",
       "      <td>-0.016949</td>\n",
       "      <td>0.0</td>\n",
       "    </tr>\n",
       "  </tbody>\n",
       "</table>\n",
       "<p>5 rows × 337 columns</p>\n",
       "</div>"
      ],
      "text/plain": [
       "   ibe2802_ita_score_zip_plus4_aggregate_ita_score  \\\n",
       "0                                        -0.833333   \n",
       "1                                         0.342593   \n",
       "2                                         0.851852   \n",
       "3                                         0.601852   \n",
       "4                                         0.342593   \n",
       "\n",
       "   ibe2076_ibe_premier_socialconcerncausessupportedfinancially_charitable  \\\n",
       "0                                                0.0                        \n",
       "1                                                0.0                        \n",
       "2                                                1.0                        \n",
       "3                                                0.0                        \n",
       "4                                                1.0                        \n",
       "\n",
       "   ibe2076_ibe_premier_socialconcerncausessupportedfinancially_animal_welfare  \\\n",
       "0                                                0.0                            \n",
       "1                                                0.0                            \n",
       "2                                                0.0                            \n",
       "3                                                0.0                            \n",
       "4                                                0.0                            \n",
       "\n",
       "   ibe2076_ibe_premier_socialconcerncausessupportedfinancially_childrens  \\\n",
       "0                                                0.0                       \n",
       "1                                                0.0                       \n",
       "2                                                0.0                       \n",
       "3                                                0.0                       \n",
       "4                                                0.0                       \n",
       "\n",
       "   ibe2076_ibe_premier_socialconcerncausessupportedfinancially_environment_or_wildlife  \\\n",
       "0                                                0.0                                     \n",
       "1                                                0.0                                     \n",
       "2                                                0.0                                     \n",
       "3                                                0.0                                     \n",
       "4                                                0.0                                     \n",
       "\n",
       "   ibe2076_ibe_premier_socialconcerncausessupportedfinancially_health  \\\n",
       "0                                                0.0                    \n",
       "1                                                0.0                    \n",
       "2                                                1.0                    \n",
       "3                                                0.0                    \n",
       "4                                                0.0                    \n",
       "\n",
       "   ibe2076_ibe_premier_socialconcerncausessupportedfinancially_political  \\\n",
       "0                                                0.0                       \n",
       "1                                                0.0                       \n",
       "2                                                1.0                       \n",
       "3                                                0.0                       \n",
       "4                                                1.0                       \n",
       "\n",
       "   ibe2076_ibe_premier_socialconcerncausessupportedfinancially_religious  \\\n",
       "0                                                0.0                       \n",
       "1                                                0.0                       \n",
       "2                                                0.0                       \n",
       "3                                                0.0                       \n",
       "4                                                0.0                       \n",
       "\n",
       "   ibe2076_ibe_premier_socialconcerncausessupportedfinancially_veterans  \\\n",
       "0                                                0.0                      \n",
       "1                                                0.0                      \n",
       "2                                                0.0                      \n",
       "3                                                0.0                      \n",
       "4                                                0.0                      \n",
       "\n",
       "   ibe2076_ibe_premier_socialconcerncausessupportedfinancially_other  ibe2356  \\\n",
       "0                                                0.0                      0.0   \n",
       "1                                                0.0                      0.0   \n",
       "2                                                0.0                      0.0   \n",
       "3                                                0.0                      0.0   \n",
       "4                                                0.0                      0.0   \n",
       "\n",
       "   ibe2776  ...  z419  z98  z421  ibe2360_FINAL_ENC  cass_state_FINAL_ENC  \\\n",
       "0     -1.0  ...   0.0  0.0   0.0                0.0             -0.206897   \n",
       "1      0.0  ...   0.0  0.0   0.0                0.0              0.137931   \n",
       "2      0.0  ...   0.0  0.0   0.0              -17.0             -0.390805   \n",
       "3      0.0  ...   0.0  0.0   0.0              -17.0              0.103448   \n",
       "4      0.0  ...   0.0  0.0   0.0                0.0              0.390805   \n",
       "\n",
       "   ibe8637_FINAL_ENC  ibe8642_FINAL_ENC  acxiom_cluster_group_FINAL_ENC  \\\n",
       "0           0.789474          -0.130435                        0.833333   \n",
       "1          -0.052632           0.913043                       -1.833333   \n",
       "2           0.842105           0.521739                        0.083333   \n",
       "3           0.842105          -0.173913                       -1.916667   \n",
       "4           2.263158           0.195652                        0.000000   \n",
       "\n",
       "   ibe8609_FINAL_ENC  ibe8531_FINAL_ENC  urbanity_FINAL_ENC  \\\n",
       "0           0.012987              0.175           -0.983051   \n",
       "1           0.155844             -0.875           -0.440678   \n",
       "2           0.142857              0.025           -0.016949   \n",
       "3           0.129870              0.175           -0.983051   \n",
       "4           0.000000              0.175           -0.016949   \n",
       "\n",
       "   ibe8627_age_input_individual_default_to_1st_individual_premier_flag_FINAL_ENC  \n",
       "0                                                0.0                              \n",
       "1                                                0.0                              \n",
       "2                                                1.0                              \n",
       "3                                              -76.0                              \n",
       "4                                                0.0                              \n",
       "\n",
       "[5 rows x 337 columns]"
      ]
     },
     "execution_count": 692,
     "metadata": {},
     "output_type": "execute_result"
    }
   ],
   "source": [
    "scaled_train.head()"
   ]
  },
  {
   "cell_type": "code",
   "execution_count": 693,
   "metadata": {
    "colab": {
     "base_uri": "https://localhost:8080/",
     "height": 122
    },
    "colab_type": "code",
    "executionInfo": {
     "elapsed": 79083,
     "status": "ok",
     "timestamp": 1580693086417,
     "user": {
      "displayName": "Federico Francone",
      "photoUrl": "https://lh3.googleusercontent.com/a-/AAuE7mCvT-5R0e3T46w8v1AsqxSyhT-fEY26ltek6aRh=s64",
      "userId": "16122115063472740860"
     },
     "user_tz": -60
    },
    "id": "1TnTwuMVl8Wy",
    "outputId": "8980db17-a465-4978-d669-72d52598fc01"
   },
   "outputs": [
    {
     "name": "stdout",
     "output_type": "stream",
     "text": [
      "<class 'pandas.core.frame.DataFrame'>\n",
      "RangeIndex: 78436 entries, 0 to 78435\n",
      "Columns: 337 entries, ibe2802_ita_score_zip_plus4_aggregate_ita_score to ibe8627_age_input_individual_default_to_1st_individual_premier_flag_FINAL_ENC\n",
      "dtypes: float64(337)\n",
      "memory usage: 201.7 MB\n"
     ]
    }
   ],
   "source": [
    "scaled_train.info()"
   ]
  },
  {
   "cell_type": "markdown",
   "metadata": {},
   "source": [
    "### Taking off correlated features and Exporting"
   ]
  },
  {
   "cell_type": "code",
   "execution_count": null,
   "metadata": {},
   "outputs": [],
   "source": [
    "### Getting an overview of the amount of multicollinearity (displaying only those above threhsold)\n",
    "# correlation_threshold = 0.6\n",
    "\n",
    "# title_ticks_ecc('Correlation Train Features > {}'.format(correlation_threshold), '', '', figsize=(12, 8))\n",
    "# sns.heatmap(scaled_train.corr()[abs(scaled_train.corr())> correlation_threshold ], cmap= 'coolwarm', annot= True)"
   ]
  },
  {
   "cell_type": "code",
   "execution_count": 697,
   "metadata": {},
   "outputs": [
    {
     "data": {
      "text/plain": [
       "((78436, 232), (33613, 232))"
      ]
     },
     "execution_count": 697,
     "metadata": {},
     "output_type": "execute_result"
    }
   ],
   "source": [
    "DROP_CORRELATED = False\n",
    "to_drop=[]\n",
    "\n",
    "### I drop the correlated features above a threshold if and only if DROP_CORRELATED = True\n",
    "if DROP_CORRELATED== True:\n",
    "\n",
    "    correlation_threshold= 0.7\n",
    "\n",
    "    # Create correlation matrix\n",
    "    corr_matrix = scaled_train.corr().abs()\n",
    "\n",
    "    # Select upper triangle of correlation matrix\n",
    "    upper = corr_matrix.where(np.triu(np.ones(corr_matrix.shape), k=1).astype(np.bool))\n",
    "\n",
    "    # Find index of feature columns with correlation greater than 0.95\n",
    "    to_drop = [column for column in upper.columns if any(upper[column] > correlation_threshold)]\n",
    "    print('Number of correlated features above {} is {}'.format(correlation_threshold, len(to_drop)))\n",
    "    \n",
    "    \n",
    "### Dropping them ####\n",
    "preliminary_train = scaled_train.drop(to_drop, axis=1, errors= 'ignore')\n",
    "preliminary_test= scaled_test[preliminary_train.columns]\n",
    "    \n",
    "\n",
    "preliminary_train.shape, preliminary_test.shape"
   ]
  },
  {
   "cell_type": "markdown",
   "metadata": {
    "colab_type": "text",
    "id": "7G32BWVWl8WW"
   },
   "source": [
    "## <font color= 'orange'> <center> Selecting top 100 variables with Random Forest"
   ]
  },
  {
   "cell_type": "code",
   "execution_count": 5,
   "metadata": {
    "colab": {},
    "colab_type": "code",
    "id": "flSyUb7cl5rY"
   },
   "outputs": [],
   "source": [
    "def plot_feat_imp_adj(best_est, X_train, X_test, is_grid= False,\n",
    "                  n_feat_to_plot=10, color='r', figsize=True, show=True):\n",
    "        \"\"\"RETURN DF WITH SORTED FEATURE IMPORTANCES, based on the average Gini Index/ Entropy of each variable across the multiple trees...\n",
    "\n",
    "\n",
    "        INPUT PARAMETERS:\n",
    "        best_est: grid search object (of a RandomForestClassifier ) already fitted on the train\n",
    "        X_train, X_test: train and test data without NA and categorical features\n",
    "\n",
    "        NOTE: if you want to run the same function after a single RF rather than a grid search, replace best_est.best_estimator_.feature_importances_ with best_est.feature_importances_\n",
    "\n",
    "        OUTPUT:\n",
    "        dataframe with sorted features and their related feature importances, plus the plot of most important features\n",
    "\n",
    "        EXAMPLE USAGE:\n",
    "        feats_imp_rf = plot_feat_imp(best_rf_estimator, n_feat_to_plot= 10, color='blue', show= True)  #it is a dataframe\n",
    "\n",
    "\n",
    "        \"\"\"\n",
    "        \n",
    "        if is_grid:\n",
    "            model= best_est.best_estimator_\n",
    "        else:\n",
    "            model= best_est\n",
    "        \n",
    "        feats_imp = pd.DataFrame(pd.Series(dict(zip(X_train.columns, model.feature_importances_))),\n",
    "                                 columns=['importance'])\n",
    "        feats_imp = feats_imp.sort_values(by='importance', ascending=False)\n",
    "\n",
    "        if show == False:\n",
    "                return feats_imp\n",
    "\n",
    "        if figsize == True:\n",
    "                feats_imp.iloc[: n_feat_to_plot]['importance'].plot.barh(color=color, edgecolor='k', figsize=(12, 7),\n",
    "                                                                         linewidth=2)\n",
    "        else:\n",
    "                feats_imp.iloc[: n_feat_to_plot]['importance'].plot.barh(color=color, edgecolor='k', linewidth=2)\n",
    "\n",
    "        # plt.figure(figsize=(26,18))\n",
    "        ax = plt.gca()\n",
    "        ax.invert_yaxis()\n",
    "        plt.xticks(size=20)\n",
    "        plt.yticks(size=18)\n",
    "\n",
    "        plt.title('Most Important Features for Random Forest', size=28);\n",
    "        # plt.savefig('Feature Importance RF2.png', format= 'png')\n",
    "\n",
    "        return feats_imp\n",
    "\n",
    "\n",
    "def plot_cumulative_feat_imp_RF (feats_imp_rf):\n",
    "\n",
    "        \"\"\" Takes in input a dataframe with the sorted feature importances for each feature, and it returns the cumulative plot\n",
    "        useful to understand how many features to cut (when the cumulative plot starts becoming flat..it always has logaritmic-wise shape.\n",
    "\n",
    "        Example usage:\n",
    "        cumulative_importances= plot_cumulative_feat_imp_RF (feats_imp_rf)   # it is a dataframe. the cumulative chart is generated regardless\n",
    "\n",
    "        \"\"\"\n",
    "\n",
    "        cumulative_importances = np.cumsum(feats_imp_rf)\n",
    "        plt.figure(figsize=(12, 5))\n",
    "        plt.plot(list(feats_imp_rf.index), cumulative_importances, 'teal', lw=5.5)\n",
    "        plt.title('Cumulative Feature Importance class', color='red', fontsize=20)\n",
    "        plt.hlines(y=0.8, xmin=0, xmax=len(feats_imp_rf.importance), color='r', linestyles='dashed', lw=3)\n",
    "        # Format x ticks and labels\n",
    "        plt.xticks(np.arange(0, len(feats_imp_rf.importance), 5), np.arange(0, len(feats_imp_rf.importance), 5), fontsize=12)\n",
    "\n",
    "\n",
    "        plt.xlabel('N° Features', c='blue', fontsize=15);\n",
    "        plt.ylabel('Cumulative Importance RF', fontsize=15,\n",
    "                   color='blue');\n",
    "\n",
    "        return cumulative_importances"
   ]
  },
  {
   "cell_type": "code",
   "execution_count": 701,
   "metadata": {
    "colab": {},
    "colab_type": "code",
    "id": "48iVFPdMl8W6"
   },
   "outputs": [],
   "source": [
    "rf= RandomForestClassifier(n_estimators= 1000, criterion= 'gini', random_state=0, class_weight= 'balanced',\n",
    "                           max_features='sqrt', min_impurity_decrease=  1e-04, min_samples_leaf= 70, \n",
    "                           max_depth= 3)"
   ]
  },
  {
   "cell_type": "code",
   "execution_count": 702,
   "metadata": {
    "colab": {},
    "colab_type": "code",
    "id": "p6xwZe83pp8S"
   },
   "outputs": [],
   "source": [
    "ytrain= target\n",
    "ytest= target_test"
   ]
  },
  {
   "cell_type": "code",
   "execution_count": 703,
   "metadata": {
    "colab": {
     "base_uri": "https://localhost:8080/",
     "height": 34
    },
    "colab_type": "code",
    "executionInfo": {
     "elapsed": 77859,
     "status": "ok",
     "timestamp": 1580693198087,
     "user": {
      "displayName": "Federico Francone",
      "photoUrl": "https://lh3.googleusercontent.com/a-/AAuE7mCvT-5R0e3T46w8v1AsqxSyhT-fEY26ltek6aRh=s64",
      "userId": "16122115063472740860"
     },
     "user_tz": -60
    },
    "id": "SeSquDqbl8XZ",
    "outputId": "47bb5840-756d-494b-a741-2a0660279cb7"
   },
   "outputs": [
    {
     "name": "stdout",
     "output_type": "stream",
     "text": [
      "execution time (min)= 1.1  finished at  2020-03-18 18:03:32.101669\n"
     ]
    }
   ],
   "source": [
    "temp = time.time()\n",
    "rf.fit(preliminary_train, ytrain)\n",
    "\n",
    "print('execution time (min)=', round((time.time()-temp)/60, 1), ' finished at ', datetime.today())"
   ]
  },
  {
   "cell_type": "code",
   "execution_count": 289,
   "metadata": {
    "colab": {},
    "colab_type": "code",
    "id": "-bmSf5HMl8Xc"
   },
   "outputs": [],
   "source": [
    "#preds= rf.fit(preliminary_test, ytest)"
   ]
  },
  {
   "cell_type": "code",
   "execution_count": 704,
   "metadata": {
    "colab": {
     "base_uri": "https://localhost:8080/",
     "height": 485
    },
    "colab_type": "code",
    "executionInfo": {
     "elapsed": 107729,
     "status": "ok",
     "timestamp": 1580693234215,
     "user": {
      "displayName": "Federico Francone",
      "photoUrl": "https://lh3.googleusercontent.com/a-/AAuE7mCvT-5R0e3T46w8v1AsqxSyhT-fEY26ltek6aRh=s64",
      "userId": "16122115063472740860"
     },
     "user_tz": -60
    },
    "id": "cxsInTFOl8Xe",
    "outputId": "bc117094-b127-4e90-ac6b-cb2b26a7e00e"
   },
   "outputs": [
    {
     "data": {
      "image/png": "[encoded data removed]",
      "text/plain": [
       "<Figure size 864x504 with 1 Axes>"
      ]
     },
     "metadata": {
      "needs_background": "light"
     },
     "output_type": "display_data"
    }
   ],
   "source": [
    "feats_imp_rf= plot_feat_imp_adj(rf, preliminary_train, preliminary_test,n_feat_to_plot= 15, color='blue', show= True)"
   ]
  },
  {
   "cell_type": "markdown",
   "metadata": {},
   "source": [
    "#### Selecting features by cumulative importance"
   ]
  },
  {
   "cell_type": "code",
   "execution_count": 708,
   "metadata": {
    "colab": {
     "base_uri": "https://localhost:8080/",
     "height": 343
    },
    "colab_type": "code",
    "executionInfo": {
     "elapsed": 681,
     "status": "ok",
     "timestamp": 1580693245130,
     "user": {
      "displayName": "Federico Francone",
      "photoUrl": "https://lh3.googleusercontent.com/a-/AAuE7mCvT-5R0e3T46w8v1AsqxSyhT-fEY26ltek6aRh=s64",
      "userId": "16122115063472740860"
     },
     "user_tz": -60
    },
    "id": "ipfDTaFKl8Xh",
    "outputId": "36426e7d-cb91-40b0-f171-8fa4bc56e0b4"
   },
   "outputs": [
    {
     "data": {
      "image/png": "[encoded data removed]",
      "text/plain": [
       "<Figure size 864x360 with 1 Axes>"
      ]
     },
     "metadata": {
      "needs_background": "light"
     },
     "output_type": "display_data"
    }
   ],
   "source": [
    "cumulative_importances = feats_imp_rf\n",
    "\n",
    "cumulative_importances['cumulative']= np.cumsum(feats_imp_rf )\n",
    "plt.figure(figsize=(12,5))\n",
    "plt.plot(list(feats_imp_rf.index), cumulative_importances['cumulative'],'teal', lw=5.5 )\n",
    "plt.title('Cumulative Feature Importance class', color= 'red', fontsize=20)\n",
    "plt.hlines(y = 0.72, xmin=0, xmax=len(feats_imp_rf.importance), color = 'r', linestyles = 'dashed', lw=3 )\n",
    "# Format x ticks and labels\n",
    "ticks= [0, 10, 20, 30, 50, 100, 150, 200, 230]\n",
    "#plt.xticks(np.arange(0,len(cumulative_importances), 10), np.arange(0,len(cumulative_importances),10) ,fontsize= 12)\n",
    "plt.xticks(ticks, ticks ,fontsize= 12)\n",
    "\n",
    "plt.tick_params(\n",
    "    axis='x',          # changes apply to the x-axis\n",
    "    which='both',      # both major and minor ticks are affected\n",
    "    bottom=True,      # ticks along the bottom edge are off\n",
    "    top=False,         # ticks along the top edge are off\n",
    "    labelbottom=True) \n",
    "\n",
    "        \n",
    "plt.xlabel('N° Features', c= 'blue', fontsize= 15); \n",
    "plt.ylabel('Cumulative Importance RF', fontsize=15, color= 'blue'); #plt.title('CUMULATIVE IMPORTANCES', fontsize=20)\n",
    "plt.savefig('/Users/federicofrancone/Desktop/Cum_Feat_imp_1', format= 'png')"
   ]
  },
  {
   "cell_type": "code",
   "execution_count": 304,
   "metadata": {
    "colab": {
     "base_uri": "https://localhost:8080/",
     "height": 34
    },
    "colab_type": "code",
    "executionInfo": {
     "elapsed": 401,
     "status": "ok",
     "timestamp": 1580693251146,
     "user": {
      "displayName": "Federico Francone",
      "photoUrl": "https://lh3.googleusercontent.com/a-/AAuE7mCvT-5R0e3T46w8v1AsqxSyhT-fEY26ltek6aRh=s64",
      "userId": "16122115063472740860"
     },
     "user_tz": -60
    },
    "id": "forryQJ8l8Xl",
    "outputId": "c8f7fcd9-98de-4a4f-c3ae-ec23e49c9a55"
   },
   "outputs": [
    {
     "data": {
      "text/plain": [
       "24"
      ]
     },
     "execution_count": 304,
     "metadata": {},
     "output_type": "execute_result"
    }
   ],
   "source": [
    "cum_imp = cumulative_importances[cumulative_importances['cumulative']<= 0.72]\n",
    "\n",
    "only_imp_rf = cum_imp.index\n",
    "len(only_imp_rf)"
   ]
  },
  {
   "cell_type": "code",
   "execution_count": null,
   "metadata": {},
   "outputs": [],
   "source": [
    "# cum_imp= pd.read_csv('./adt_charts_variables/RF_cum_feat_imp_25_sel.csv')\n",
    "# cum_imp.columns= ['feature','cumulative', 'importance']\n",
    "# cum_imp.set_index('feature', inplace= True)\n",
    "# cum_imp"
   ]
  },
  {
   "cell_type": "code",
   "execution_count": 628,
   "metadata": {},
   "outputs": [
    {
     "data": {
      "text/html": [
       "<div>\n",
       "<style scoped>\n",
       "    .dataframe tbody tr th:only-of-type {\n",
       "        vertical-align: middle;\n",
       "    }\n",
       "\n",
       "    .dataframe tbody tr th {\n",
       "        vertical-align: top;\n",
       "    }\n",
       "\n",
       "    .dataframe thead th {\n",
       "        text-align: right;\n",
       "    }\n",
       "</style>\n",
       "<table border=\"1\" class=\"dataframe\">\n",
       "  <thead>\n",
       "    <tr style=\"text-align: right;\">\n",
       "      <th></th>\n",
       "      <th>cumulative</th>\n",
       "      <th>importance</th>\n",
       "    </tr>\n",
       "    <tr>\n",
       "      <th>feature</th>\n",
       "      <th></th>\n",
       "      <th></th>\n",
       "    </tr>\n",
       "  </thead>\n",
       "  <tbody>\n",
       "    <tr>\n",
       "      <th>cass_state_FINAL_ENC</th>\n",
       "      <td>0.093435</td>\n",
       "      <td>0.093435</td>\n",
       "    </tr>\n",
       "    <tr>\n",
       "      <th>automotive_product_propensities_vehicle_feature_non_lux_variables</th>\n",
       "      <td>0.054742</td>\n",
       "      <td>0.148177</td>\n",
       "    </tr>\n",
       "    <tr>\n",
       "      <th>automotive_product_propensities_vehicle_segment_transaction_luxury_variables</th>\n",
       "      <td>0.047563</td>\n",
       "      <td>0.195740</td>\n",
       "    </tr>\n",
       "    <tr>\n",
       "      <th>urbanity_FINAL_ENC</th>\n",
       "      <td>0.046999</td>\n",
       "      <td>0.242739</td>\n",
       "    </tr>\n",
       "    <tr>\n",
       "      <th>retail_brand_propensities_accessories_retailer_non_lux_variables</th>\n",
       "      <td>0.043771</td>\n",
       "      <td>0.286510</td>\n",
       "    </tr>\n",
       "    <tr>\n",
       "      <th>retail_brand_propensities_video_games_retailer_type_online_variables</th>\n",
       "      <td>0.040367</td>\n",
       "      <td>0.326876</td>\n",
       "    </tr>\n",
       "    <tr>\n",
       "      <th>automotive_brand_propensities_vehicle_brand_affinity_non_lux_variables</th>\n",
       "      <td>0.040135</td>\n",
       "      <td>0.367012</td>\n",
       "    </tr>\n",
       "    <tr>\n",
       "      <th>retail_channel_propensities_shopped_by_internet_variables</th>\n",
       "      <td>0.037008</td>\n",
       "      <td>0.404020</td>\n",
       "    </tr>\n",
       "    <tr>\n",
       "      <th>communications_brand_propensities_mobile_phone_carrier_att_variables</th>\n",
       "      <td>0.036676</td>\n",
       "      <td>0.440696</td>\n",
       "    </tr>\n",
       "    <tr>\n",
       "      <th>cpg_product_propensities_denture_cleaners_variables</th>\n",
       "      <td>0.030059</td>\n",
       "      <td>0.470756</td>\n",
       "    </tr>\n",
       "    <tr>\n",
       "      <th>cpg_attitude_and_behavior_propensities_pets_luxury_variables</th>\n",
       "      <td>0.025832</td>\n",
       "      <td>0.496588</td>\n",
       "    </tr>\n",
       "    <tr>\n",
       "      <th>retail_channel_propensities_apparel_store_type_luxury_variables</th>\n",
       "      <td>0.025409</td>\n",
       "      <td>0.521997</td>\n",
       "    </tr>\n",
       "    <tr>\n",
       "      <th>retail_channel_propensities_convenience_stores_times_shopped_variables</th>\n",
       "      <td>0.023584</td>\n",
       "      <td>0.545580</td>\n",
       "    </tr>\n",
       "    <tr>\n",
       "      <th>retail_brand_propensities_retailer_luxury_variables</th>\n",
       "      <td>0.021612</td>\n",
       "      <td>0.567192</td>\n",
       "    </tr>\n",
       "    <tr>\n",
       "      <th>retail_channel_propensities_footwear_variables</th>\n",
       "      <td>0.020806</td>\n",
       "      <td>0.587998</td>\n",
       "    </tr>\n",
       "    <tr>\n",
       "      <th>retail_attitude_and_behavior_propensities_footwear_variables</th>\n",
       "      <td>0.018613</td>\n",
       "      <td>0.606611</td>\n",
       "    </tr>\n",
       "    <tr>\n",
       "      <th>cpg_brand_propensities_hair_coloring_products_luxury_variables</th>\n",
       "      <td>0.018133</td>\n",
       "      <td>0.624743</td>\n",
       "    </tr>\n",
       "    <tr>\n",
       "      <th>cpg_product_propensities_eyeglasses_contact_lenses_sunglasses_variables</th>\n",
       "      <td>0.015694</td>\n",
       "      <td>0.640437</td>\n",
       "    </tr>\n",
       "    <tr>\n",
       "      <th>ibe8609_FINAL_ENC</th>\n",
       "      <td>0.015415</td>\n",
       "      <td>0.655852</td>\n",
       "    </tr>\n",
       "    <tr>\n",
       "      <th>insurance_channel_propensities_automotive_insurance_variables</th>\n",
       "      <td>0.015341</td>\n",
       "      <td>0.671193</td>\n",
       "    </tr>\n",
       "    <tr>\n",
       "      <th>cpg_brand_propensities_contact_lens_brands_used_variables</th>\n",
       "      <td>0.013492</td>\n",
       "      <td>0.684685</td>\n",
       "    </tr>\n",
       "    <tr>\n",
       "      <th>cpg_brand_propensities_contact_lens_cleaning_wetting_solutions_non_lux_variables</th>\n",
       "      <td>0.010653</td>\n",
       "      <td>0.695338</td>\n",
       "    </tr>\n",
       "    <tr>\n",
       "      <th>cpg_spending_propensities_alcohol_variables</th>\n",
       "      <td>0.010426</td>\n",
       "      <td>0.705764</td>\n",
       "    </tr>\n",
       "    <tr>\n",
       "      <th>ibe8639</th>\n",
       "      <td>0.009688</td>\n",
       "      <td>0.715452</td>\n",
       "    </tr>\n",
       "    <tr>\n",
       "      <th>ibe8627_age_input_individual_default_to_1st_individual_premier_age</th>\n",
       "      <td>0.003919</td>\n",
       "      <td>0.719371</td>\n",
       "    </tr>\n",
       "  </tbody>\n",
       "</table>\n",
       "</div>"
      ],
      "text/plain": [
       "                                                    cumulative  importance\n",
       "feature                                                                   \n",
       "cass_state_FINAL_ENC                                  0.093435    0.093435\n",
       "automotive_product_propensities_vehicle_feature...    0.054742    0.148177\n",
       "automotive_product_propensities_vehicle_segment...    0.047563    0.195740\n",
       "urbanity_FINAL_ENC                                    0.046999    0.242739\n",
       "retail_brand_propensities_accessories_retailer_...    0.043771    0.286510\n",
       "retail_brand_propensities_video_games_retailer_...    0.040367    0.326876\n",
       "automotive_brand_propensities_vehicle_brand_aff...    0.040135    0.367012\n",
       "retail_channel_propensities_shopped_by_internet...    0.037008    0.404020\n",
       "communications_brand_propensities_mobile_phone_...    0.036676    0.440696\n",
       "cpg_product_propensities_denture_cleaners_varia...    0.030059    0.470756\n",
       "cpg_attitude_and_behavior_propensities_pets_lux...    0.025832    0.496588\n",
       "retail_channel_propensities_apparel_store_type_...    0.025409    0.521997\n",
       "retail_channel_propensities_convenience_stores_...    0.023584    0.545580\n",
       "retail_brand_propensities_retailer_luxury_varia...    0.021612    0.567192\n",
       "retail_channel_propensities_footwear_variables        0.020806    0.587998\n",
       "retail_attitude_and_behavior_propensities_footw...    0.018613    0.606611\n",
       "cpg_brand_propensities_hair_coloring_products_l...    0.018133    0.624743\n",
       "cpg_product_propensities_eyeglasses_contact_len...    0.015694    0.640437\n",
       "ibe8609_FINAL_ENC                                     0.015415    0.655852\n",
       "insurance_channel_propensities_automotive_insur...    0.015341    0.671193\n",
       "cpg_brand_propensities_contact_lens_brands_used...    0.013492    0.684685\n",
       "cpg_brand_propensities_contact_lens_cleaning_we...    0.010653    0.695338\n",
       "cpg_spending_propensities_alcohol_variables           0.010426    0.705764\n",
       "ibe8639                                               0.009688    0.715452\n",
       "ibe8627_age_input_individual_default_to_1st_ind...    0.003919    0.719371"
      ]
     },
     "execution_count": 628,
     "metadata": {},
     "output_type": "execute_result"
    }
   ],
   "source": [
    "cum_imp"
   ]
  },
  {
   "cell_type": "code",
   "execution_count": 380,
   "metadata": {},
   "outputs": [],
   "source": [
    "feats_imp_rf.to_csv('/Users/federicofrancone/Desktop/RF_' + str(len(feats_imp_rf)) + \"_feats_imp.csv\")\n",
    "cum_imp.to_csv('/Users/federicofrancone/Desktop/RF_cum_feat_imp_' + str(len(cum_imp)) + \"_sel.csv\")"
   ]
  },
  {
   "cell_type": "code",
   "execution_count": 383,
   "metadata": {},
   "outputs": [],
   "source": [
    "preliminary_cols= cum_imp.index\n",
    "\n",
    "export_string = './top' + str(len(only_imp_rf)) + '_RF_RD.csv'"
   ]
  },
  {
   "cell_type": "code",
   "execution_count": 384,
   "metadata": {},
   "outputs": [],
   "source": [
    "#preliminary_cols= pd.read_csv(export_string)\n",
    "#preliminary_cols= preliminary_cols['0'].tolist()"
   ]
  },
  {
   "cell_type": "code",
   "execution_count": 385,
   "metadata": {
    "colab": {
     "base_uri": "https://localhost:8080/",
     "height": 34
    },
    "colab_type": "code",
    "executionInfo": {
     "elapsed": 380,
     "status": "ok",
     "timestamp": 1580693258356,
     "user": {
      "displayName": "Federico Francone",
      "photoUrl": "https://lh3.googleusercontent.com/a-/AAuE7mCvT-5R0e3T46w8v1AsqxSyhT-fEY26ltek6aRh=s64",
      "userId": "16122115063472740860"
     },
     "user_tz": -60
    },
    "id": "swkQwveHl8Xo",
    "outputId": "cc849d2d-7a9c-4e39-f97d-e682f5dffc9d"
   },
   "outputs": [
    {
     "data": {
      "text/plain": [
       "((78436, 25), (33613, 25))"
      ]
     },
     "execution_count": 385,
     "metadata": {},
     "output_type": "execute_result"
    }
   ],
   "source": [
    "#preliminary_cols= only_imp_rf\n",
    "\n",
    "train= preliminary_train[preliminary_cols]\n",
    "test= preliminary_test[preliminary_cols]\n",
    "\n",
    "train.shape, test.shape"
   ]
  },
  {
   "cell_type": "code",
   "execution_count": 388,
   "metadata": {},
   "outputs": [
    {
     "data": {
      "text/plain": [
       "(78436, 26)"
      ]
     },
     "execution_count": 388,
     "metadata": {},
     "output_type": "execute_result"
    }
   ],
   "source": [
    "preliminary_train['target']= target\n",
    "preliminary_test['target']= target_test\n",
    "\n",
    "train['target']= target\n",
    "test['target']= target_test\n",
    "\n",
    "\n",
    "### Naming Convention (RUN THIS NEXT LINES ONLY IF YOU ARE NOT GOING TO RUN GBM SELECTION)\n",
    "preliminary_train= train.copy()\n",
    "preliminary_test= test.copy()\n",
    "\n",
    "del train, test\n",
    "\n",
    "preliminary_train.shape"
   ]
  },
  {
   "cell_type": "markdown",
   "metadata": {},
   "source": [
    "### Exporting Semi-Preprocessed Data"
   ]
  },
  {
   "cell_type": "code",
   "execution_count": 389,
   "metadata": {},
   "outputs": [],
   "source": [
    "train.to_pickle('./new_adt_python_no_validation/binning_sunpreet/subdata/preliminary_train.pk1')\n",
    "test.to_pickle('./new_adt_python_no_validation/binning_sunpreet/subdata/preliminary_test.pk1')"
   ]
  },
  {
   "cell_type": "code",
   "execution_count": 711,
   "metadata": {},
   "outputs": [
    {
     "data": {
      "text/plain": [
       "(78436, 26)"
      ]
     },
     "execution_count": 711,
     "metadata": {},
     "output_type": "execute_result"
    }
   ],
   "source": [
    "preliminary_train= pd.read_pickle('./new_adt_python_no_validation/binning_sunpreet/subdata/preliminary_train.pk1')\n",
    "preliminary_test= pd.read_pickle('./new_adt_python_no_validation/binning_sunpreet/subdata/preliminary_test.pk1')\n",
    "\n",
    "preliminary_train.shape"
   ]
  },
  {
   "cell_type": "markdown",
   "metadata": {
    "colab_type": "text",
    "heading_collapsed": true,
    "id": "u6o57E21l8Xt"
   },
   "source": [
    "### Same With Light GBM"
   ]
  },
  {
   "cell_type": "code",
   "execution_count": 328,
   "metadata": {
    "colab": {},
    "colab_type": "code",
    "hidden": true,
    "id": "0GhA-GXMl8Xu"
   },
   "outputs": [],
   "source": [
    "import lightgbm as lgb\n",
    "gbm = lgb.LGBMClassifier(max_depth= 3, eval_metric=\"AUC\", random_seed= 0, random_state=0, \n",
    "                         class_weight= 'balanced', learning_rate= 0.001, n_estimators= 1000)"
   ]
  },
  {
   "cell_type": "code",
   "execution_count": 329,
   "metadata": {
    "colab": {
     "base_uri": "https://localhost:8080/",
     "height": 34
    },
    "colab_type": "code",
    "executionInfo": {
     "elapsed": 23884,
     "status": "ok",
     "timestamp": 1580693316829,
     "user": {
      "displayName": "Federico Francone",
      "photoUrl": "https://lh3.googleusercontent.com/a-/AAuE7mCvT-5R0e3T46w8v1AsqxSyhT-fEY26ltek6aRh=s64",
      "userId": "16122115063472740860"
     },
     "user_tz": -60
    },
    "hidden": true,
    "id": "SKzLwhuAl8Xx",
    "outputId": "ae3fc55b-142c-4585-f597-d483ea5a0a3d"
   },
   "outputs": [
    {
     "name": "stdout",
     "output_type": "stream",
     "text": [
      "execution time (min)= 0.3  finished at  2020-03-11 17:20:02.261382\n"
     ]
    }
   ],
   "source": [
    "temp = time.time()\n",
    "gbm.fit(preliminary_train, ytrain)\n",
    "\n",
    "print('execution time (min)=', round((time.time()-temp)/60, 1), ' finished at ', datetime.today())"
   ]
  },
  {
   "cell_type": "code",
   "execution_count": 330,
   "metadata": {
    "colab": {},
    "colab_type": "code",
    "hidden": true,
    "id": "ezdwr3uJl8X0"
   },
   "outputs": [],
   "source": [
    "preds= gbm.fit(preliminary_test, ytest)"
   ]
  },
  {
   "cell_type": "code",
   "execution_count": 331,
   "metadata": {
    "colab": {
     "base_uri": "https://localhost:8080/",
     "height": 485
    },
    "colab_type": "code",
    "executionInfo": {
     "elapsed": 1086,
     "status": "ok",
     "timestamp": 1580693343209,
     "user": {
      "displayName": "Federico Francone",
      "photoUrl": "https://lh3.googleusercontent.com/a-/AAuE7mCvT-5R0e3T46w8v1AsqxSyhT-fEY26ltek6aRh=s64",
      "userId": "16122115063472740860"
     },
     "user_tz": -60
    },
    "hidden": true,
    "id": "r6sAW_Dil8X2",
    "outputId": "f5b9a224-f1ca-45dd-d92b-5abe8166aff6"
   },
   "outputs": [
    {
     "data": {
      "image/png": "[encoded data removed]",
      "text/plain": [
       "<Figure size 864x504 with 1 Axes>"
      ]
     },
     "metadata": {
      "needs_background": "light"
     },
     "output_type": "display_data"
    }
   ],
   "source": [
    "feats_imp_gbm= plot_feat_imp_adj(gbm, X_train= preliminary_train, X_test= preliminary_test, n_feat_to_plot= 10, color='orange', show= True)"
   ]
  },
  {
   "cell_type": "code",
   "execution_count": 332,
   "metadata": {
    "colab": {
     "base_uri": "https://localhost:8080/",
     "height": 343
    },
    "colab_type": "code",
    "executionInfo": {
     "elapsed": 792,
     "status": "ok",
     "timestamp": 1580693367498,
     "user": {
      "displayName": "Federico Francone",
      "photoUrl": "https://lh3.googleusercontent.com/a-/AAuE7mCvT-5R0e3T46w8v1AsqxSyhT-fEY26ltek6aRh=s64",
      "userId": "16122115063472740860"
     },
     "user_tz": -60
    },
    "hidden": true,
    "id": "X28NxRJSl8X5",
    "outputId": "71c96bd2-2ff4-4b62-dac1-b872c00f69fe"
   },
   "outputs": [
    {
     "data": {
      "image/png": "[encoded data removed]",
      "text/plain": [
       "<Figure size 864x360 with 1 Axes>"
      ]
     },
     "metadata": {
      "needs_background": "light"
     },
     "output_type": "display_data"
    }
   ],
   "source": [
    "cumulative_importances = np.cumsum(feats_imp_gbm )\n",
    "plt.figure(figsize=(12,5))\n",
    "plt.plot(list(feats_imp_gbm.index), cumulative_importances,'teal', lw=5.5 )\n",
    "plt.title('Cumulative Feature Importance class', color= 'red', fontsize=20)\n",
    "plt.hlines(y = 6000, xmin=0, xmax=len(feats_imp_gbm.importance), color = 'r', linestyles = 'dashed', lw=3 )\n",
    "# Format x ticks and labels\n",
    "plt.xticks(np.arange(0,len(cumulative_importances), 20), np.arange(0,len(cumulative_importances)) ,fontsize= 12 )\n",
    "plt.tick_params(\n",
    "    axis='x',          # changes apply to the x-axis\n",
    "    which='both',      # both major and minor ticks are affected\n",
    "    bottom=False,      # ticks along the bottom edge are off\n",
    "    top=False,         # ticks along the top edge are off\n",
    "    labelbottom=False) \n",
    "\n",
    "        \n",
    "plt.xlabel('N° Features', c= 'blue', fontsize= 15); \n",
    "plt.ylabel('Cumulative Importance RF', fontsize=15, color= 'blue'); #plt.title('CUMULATIVE IMPORTANCES', fontsize=20)\n",
    "#plt.savefig('Cumulative Feature importantce Importance', format= 'png')"
   ]
  },
  {
   "cell_type": "code",
   "execution_count": 333,
   "metadata": {
    "colab": {
     "base_uri": "https://localhost:8080/",
     "height": 51
    },
    "colab_type": "code",
    "executionInfo": {
     "elapsed": 465,
     "status": "ok",
     "timestamp": 1580693374330,
     "user": {
      "displayName": "Federico Francone",
      "photoUrl": "https://lh3.googleusercontent.com/a-/AAuE7mCvT-5R0e3T46w8v1AsqxSyhT-fEY26ltek6aRh=s64",
      "userId": "16122115063472740860"
     },
     "user_tz": -60
    },
    "hidden": true,
    "id": "yWaZgwg7l8X7",
    "outputId": "de42460a-4907-4f6b-d08e-2e6ad2e01b85"
   },
   "outputs": [
    {
     "name": "stdout",
     "output_type": "stream",
     "text": [
      "19\n"
     ]
    },
    {
     "data": {
      "text/plain": [
       "((78436, 19), (33613, 19))"
      ]
     },
     "execution_count": 333,
     "metadata": {},
     "output_type": "execute_result"
    }
   ],
   "source": [
    "only_imp_gbm = cumulative_importances[cumulative_importances['importance']<= 6000].index\n",
    "print(len(only_imp_gbm))\n",
    "\n",
    "preliminary_cols_gbm= only_imp_gbm\n",
    "\n",
    "preliminary_train_gbm= preliminary_train[preliminary_cols_gbm]\n",
    "preliminary_test_gbm= preliminary_test[preliminary_cols_gbm]\n",
    "\n",
    "preliminary_train_gbm.shape, preliminary_test_gbm.shape"
   ]
  },
  {
   "cell_type": "code",
   "execution_count": 334,
   "metadata": {
    "colab": {},
    "colab_type": "code",
    "hidden": true,
    "id": "NCbdHtWil8X9"
   },
   "outputs": [],
   "source": [
    "#pd.DataFrame(only_imp_gbm).to_csv('../top46_gbm.csv')"
   ]
  },
  {
   "cell_type": "code",
   "execution_count": 335,
   "metadata": {
    "colab": {
     "base_uri": "https://localhost:8080/",
     "height": 34
    },
    "colab_type": "code",
    "executionInfo": {
     "elapsed": 370,
     "status": "ok",
     "timestamp": 1580693455079,
     "user": {
      "displayName": "Federico Francone",
      "photoUrl": "https://lh3.googleusercontent.com/a-/AAuE7mCvT-5R0e3T46w8v1AsqxSyhT-fEY26ltek6aRh=s64",
      "userId": "16122115063472740860"
     },
     "user_tz": -60
    },
    "hidden": true,
    "id": "dE5BC-1invs3",
    "outputId": "faa87f2d-3959-4ef6-b696-b248f01a6f64"
   },
   "outputs": [
    {
     "data": {
      "text/plain": [
       "19"
      ]
     },
     "execution_count": 335,
     "metadata": {},
     "output_type": "execute_result"
    }
   ],
   "source": [
    "len(set(preliminary_train_gbm.columns).intersection(set(preliminary_train.columns)))"
   ]
  },
  {
   "cell_type": "code",
   "execution_count": 324,
   "metadata": {
    "colab": {},
    "colab_type": "code",
    "hidden": true,
    "id": "DrmQut-71O7N"
   },
   "outputs": [],
   "source": [
    "#pd.DataFrame(preliminary_cols).to_csv(export_string)"
   ]
  },
  {
   "cell_type": "code",
   "execution_count": 183,
   "metadata": {
    "colab": {
     "base_uri": "https://localhost:8080/",
     "height": 34
    },
    "colab_type": "code",
    "executionInfo": {
     "elapsed": 419,
     "status": "ok",
     "timestamp": 1580693262635,
     "user": {
      "displayName": "Federico Francone",
      "photoUrl": "https://lh3.googleusercontent.com/a-/AAuE7mCvT-5R0e3T46w8v1AsqxSyhT-fEY26ltek6aRh=s64",
      "userId": "16122115063472740860"
     },
     "user_tz": -60
    },
    "hidden": true,
    "id": "wc8dNKqvl8Xq",
    "outputId": "d77ccdcc-fcf1-46d7-a4a8-cfdc66216831"
   },
   "outputs": [
    {
     "data": {
      "text/plain": [
       "(78436, 24)"
      ]
     },
     "execution_count": 183,
     "metadata": {},
     "output_type": "execute_result"
    }
   ],
   "source": [
    "### Naming Convention\n",
    "preliminary_train= train.copy()\n",
    "preliminary_test= test.copy()\n",
    "\n",
    "del train, test\n",
    "\n",
    "preliminary_train.shape"
   ]
  },
  {
   "cell_type": "markdown",
   "metadata": {
    "colab_type": "text",
    "id": "SJJ1NeLXe7ci"
   },
   "source": [
    "## <font color= 'orange'> Useful functions to run models"
   ]
  },
  {
   "cell_type": "code",
   "execution_count": 2,
   "metadata": {
    "colab": {},
    "colab_type": "code",
    "hide_input": false,
    "id": "wAkvuvhUe7cj"
   },
   "outputs": [],
   "source": [
    "def summary_classifier(classifier, x_train, y_train, y_test, predictions):\n",
    "        \"\"\" this function takes in input a classifier, train and test dataset and prints out AUC scores, confusion matrix and classification report (precision, recall, F1..) \"\"\"\n",
    "\n",
    "        # posso predire scaled_test, quello con tutte le 369 feauters: lui da solo ne toglierà alcune con lasso, è gia incorporato\n",
    "        # print(\"cross validation accuracy sul train è: \", cross_val_score(estimator = grid_fit.best_estimator_, X = scaled_train, y = Y_train, cv = 10).mean())\n",
    "        print('\\n\\033[1mCLASSIFICATION REPORT\\033[0m: \\n', classification_report(y_test, predictions))\n",
    "        print('\\033[1mCONFUSION MATRIX\\033[0m \\n', confusion_matrix(y_test, predictions))\n",
    "        \"\"\"ROC CURVE SCORES (non esiste per multiclass classification)\"\"\"\n",
    "        print('\\n\\033[1mROC (Area under curve) Train is {a}, for ROC test is {b}\\033[0m'.format(\n",
    "                a=round(roc_auc_score(y_train, classifier.predict_proba(x_train)[:, 1]), 3),\n",
    "                b=round(roc_auc_score(y_test, classifier.predict_proba(x_test)[:, 1]), 3)))\n",
    "        print('\\n\\033[1mF1 train is {a}, F1 test is {b} \\033[0m'.format(\n",
    "                a=round(f1_score(y_train, classifier.predict(x_train),\n",
    "                                 average='weighted'), 3),\n",
    "                b=round(f1_score(y_test, predictions, average='weighted'), 3)))\n",
    "\n",
    "\n",
    "\n",
    "def summary_grid(grid_fit, scaled_train, Y_train, scaled_test, Y_test):\n",
    "        \"\"\" After a grid search, it prints out confusion matrix, classification report and AUC scores\n",
    "\n",
    "        INPUT PARAMETERS:\n",
    "                grid_fit: is a grid search estimator already fitted on the train\n",
    "                rest of parameters: self explanatory\"\"\"\n",
    "\n",
    "        print('best param combination: ', grid_fit.best_params_)  # 'C': 0.357\n",
    "\n",
    "        # print(\"\\033[1mcross validation accuracy sul train è: \", round(cross_val_score(estimator = grid_fit.best_estimator_, X = scaled_train, y = Y_train, cv = 5).mean(),3), '\\033[0m')\n",
    "        print('\\n\\033[1mCLASSIFICATION REPORT\\033[0m: \\n',\n",
    "              classification_report(Y_test, grid_fit.best_estimator_.predict(scaled_test)))\n",
    "        print('\\033[1mCONFUSION MATRIX\\033[0m \\n',\n",
    "              confusion_matrix(Y_test, grid_fit.best_estimator_.predict(scaled_test)))\n",
    "        print('\\n\\033[1mAUC train is {a}, \\n\\033[1mAUC test is {c} \\033[0m'.format(\n",
    "                a=round(roc_auc_score(Y_train, grid_fit.predict_proba(scaled_train)[:, 1]), 3),\n",
    "                c=round(roc_auc_score(Y_test, grid_fit.predict_proba(scaled_test)[:, 1]), 3)))\n",
    "        print('\\n\\033[1mF1 TRAIN: {a}, \\n\\033[1mF1 TEST: {b}\\033[0m'.format(\n",
    "                a=round(f1_score(Y_train, grid_fit.predict(scaled_train), average='weighted'), 3),\n",
    "                b=round(f1_score(Y_test, grid_fit.predict(scaled_test), average='weighted'), 3)))"
   ]
  },
  {
   "cell_type": "code",
   "execution_count": 1,
   "metadata": {
    "colab": {},
    "colab_type": "code",
    "hide_input": false,
    "id": "iqAqRrKKl5q9"
   },
   "outputs": [],
   "source": [
    "\"\"\" MODELING FUNCTION WITHOUT CROSS VALIDATION \"\"\"\n",
    "\n",
    "def run_model_no_val(estimator, X_train, X_test, param_grid= None, \n",
    "                     only_imp= False, print_model= True, catb= False):\n",
    "    \n",
    "    \"\"\"HIGH LEVEL EXPLANATION:\n",
    "        to be stick to US procedure, we have to select parameters this way: for each parameters combination, you see the Train AUC and Test AUC,\n",
    "        then you choose the best model which has a sufficient small gap (like 1% or 2% difference).\n",
    "        The same function with CROSS VALIDATION is given after.\n",
    "\n",
    "        This function allows to just set a parameter grid and the model which is wanted to use and returns Train AUC and Test AUC for each iteration,\n",
    "        specifying the current parameters.\n",
    "\n",
    "        INPUT PARAMETERS:\n",
    "                estimator: classifier which is wanted to use\n",
    "                X_train, X_test: train and test data, without NA values and categorical features and scaled if necessary.\n",
    "                param_grid: dictionary of parameters\n",
    "                print_model: [True, False]. If True, at each iteration, the model is returned. It just helps to verify whether at each iteration the parameters are chaning\n",
    "\n",
    "        OUTPUT:\n",
    "               a dataframe with all the combinations of parameters with respective Train and Test AUC scores, plus the ROC plots\n",
    "               The decision of the \"best\" parameters has to be taken manually looking at the results\n",
    "\n",
    "        EXAMPLE USAGE:\n",
    "                rf= RandomForestClassifier(n_estimators= 10, criterion= 'gini', random_state=0, class_weight= 'balanced')\n",
    "\n",
    "                param_rf= {\n",
    "                    \"criterion\": ['gini'],\n",
    "                    \"n_estimators\" : [300],\n",
    "                    \"min_impurity_decrease\" :  [1e-03, 1e-06],\n",
    "                    \"min_samples_leaf\": [20, 40],\n",
    "                    \"max_depth\": [3, 6] }\n",
    "\n",
    "                best_rf = run_model_no_cv(estimator=rf, X_train= final_train, X_test= final_test, param_grid= param_rf)  #best_rf is a dataframe\n",
    "\n",
    "        \"\"\"\n",
    " \n",
    "    if only_imp== True:\n",
    "        try:\n",
    "            X_train= X_train_imp\n",
    "            X_test= X_test_imp\n",
    "        except:\n",
    "            pass\n",
    "        \n",
    "    \"\"\"if catb== True:\n",
    "        X_train= train_top\n",
    "        X_test= test_top\"\"\"\n",
    "    \n",
    "    print('\\033[1m Initial X_train e X_test shapes are: ', X_train.shape, X_test.shape, '\\033[0m \\n')\n",
    "    temp=time.time()\n",
    "    \n",
    "    \"The “balanced” mode uses the values of y to automatically adjust weights inversely proportional to class frequencies in the input data as n_samples / (n_classes * np.bincount(y))\"\n",
    "    \n",
    "    \n",
    "    \n",
    "    if param_grid is None:\n",
    "        \n",
    "        if catb== True:\n",
    "            estimator.fit(X_train, ytrain, cat_features= X_train.select_dtypes(include= object).columns)\n",
    "        else:\n",
    "            estimator.fit(X_train, ytrain, )\n",
    "            \n",
    "        preds= estimator.predict(X_test)\n",
    "        print('execution time (min)=', round((time.time()-temp)/60, 1), ' finished at ', datetime.today())\n",
    "        summary_classifier(estimator, X_train, ytrain, ytest, preds)\n",
    "        return estimator\n",
    "    \n",
    "    else:\n",
    "        #print(X_train.columns)\n",
    "        models= {}\n",
    "        iteration= 1\n",
    "\n",
    "        for diz_params in list(ParameterGrid(param_grid)):\n",
    "            print('\\n\\t \\033[1mITERATION {}/{} \\033[0m'.format(iteration, len(list(ParameterGrid(param_grid)))))\n",
    "            print('\\t Current Grid of Parameters is {}'.format(diz_params))     \n",
    "            \n",
    "            if catb== True:\n",
    "                est= cb.CatBoostClassifier()\n",
    "                est.set_params(**diz_params)\n",
    "                est.fit(X_train, ytrain, cat_features= X_train.select_dtypes(include= object).columns)\n",
    "            else:\n",
    "                est= estimator.set_params(**diz_params)\n",
    "                est.fit(X_train, ytrain )\n",
    "\n",
    "            pred_train= est.predict_proba(X_train)\n",
    "            pred_test= est.predict_proba(X_test)\n",
    "\n",
    "            roc_train= float(round(roc_auc_score(ytrain, pred_train[:, 1]),4))\n",
    "            roc_test=  float(round(roc_auc_score(ytest, pred_test[:, 1]),4))\n",
    "            print('\\n\\033[1mROC Train is {a}, ROC Test is {b}\\033[0m'.format(a= roc_train, \n",
    "                                                                                b= roc_test))\n",
    "\n",
    "            degree_overfitting = float((roc_train-roc_test)*100)\n",
    "\n",
    "            models[iteration] = {}\n",
    "            \n",
    "            if print_model== True:\n",
    "                print(est)\n",
    "            \n",
    "            models[iteration]['diz_params']= diz_params\n",
    "            models[iteration]['degree_overfitting(%)']= degree_overfitting\n",
    "            models[iteration]['roc_train']= roc_train\n",
    "            models[iteration]['roc_test']= roc_test\n",
    "            #models[iteration]['est']= est\n",
    "            \n",
    "            iteration += 1\n",
    "            del est\n",
    "    \n",
    "    models= pd.DataFrame(models).T\n",
    "    \n",
    "    for col in models.columns:\n",
    "        try:\n",
    "            models[col]=  models[col].astype(float)\n",
    "        except:\n",
    "            pass\n",
    "    \n",
    "    print('execution time (min)=', round((time.time()-temp)/60, 1), ' finished at ', datetime.today())\n",
    "    return models.sort_values(by= 'roc_test', ascending= False)"
   ]
  },
  {
   "cell_type": "code",
   "execution_count": null,
   "metadata": {},
   "outputs": [],
   "source": [
    "\"\"\"  Feature Selection with Random Forest  (It can be easily expanded to any Tree-based method, inclusing XGBoost, GBM...)\"\"\"\n",
    "\n",
    "def rf_feature_selection_CV(estimator, param_grid, X_train, verbose=5, cv=3,\n",
    "                              plot_cumulative_importance = True):\n",
    "        \"\"\"\n",
    "        INPUT PARAMETERS:\n",
    "                estimator= classifier (for now RandomForest, but can be Boosting...)\n",
    "                param_grid: dictionary of parameters to do grid search on\n",
    "                X_train: train data without NA and categorical features. NOTE: feature selection with CV must be done on the Training set\n",
    "                plot_feat_importances: [True, False], whether to return feature importances with related bar plot\n",
    "                plot_cumulative_importance: [True, False], whether to return feature importances with the cumulative chart\n",
    "\n",
    "        \"\"\"\n",
    "\n",
    "        Grid_RF = GridSearchCV(estimator, param_grid, scoring='roc_auc', cv=cv, return_train_score=True,\n",
    "                               n_jobs=n_jobs, verbose=verbose)\n",
    "\n",
    "        Grid_RF.fit(X_train, ytrain)\n",
    "        print('\\n It is not a single model but a Grid Search \\n')\n",
    "        summary_grid(Grid_RF, X_train, ytrain, X_test, ytest)\n",
    "        print('execution time (min)=', round((time.time() - temp) / 60, 1), ' finished at ',\n",
    "              datetime.today())\n",
    "\n",
    "        feature_importances = plot_feat_imp(Grid_RF)\n",
    "\n",
    "        if plot_cumulative_importance == True:\n",
    "            cumulative_importances= plot_cumulative_feat_imp_RF (feature_importances)\n",
    "\n",
    "        return feature_importances\n",
    "\n",
    "\n",
    "\n",
    "\"\"\" MODELLING FUNCTION WITH CROSS VALIDATION \"\"\"\n",
    "\n",
    "\n",
    "def run_model_CV(estimator, param_grid, X_train, X_test, ytrain, ytest,\n",
    "              random=False, verbose=5, cv=3, n_jobs=None, cv_metric= 'roc_auc'):  # param_grid= None\n",
    "        \"\"\" Return Grid Search estimator, which is the classifier (with related parameters) which gave the best average results in the CV.\n",
    "\n",
    "        PARAMETERS\n",
    "                estimator= classifier which is wanted to use\n",
    "                param_grid: dictionary of parameters\n",
    "                X_train, X_test: train and test data, without NA values and categorical features and scaled if necessary.\n",
    "                cv= number of folds for the K-fold cross validation\n",
    "                random= [True, False]. If True, not all the parameters are searched, only a random set of them.\n",
    "\n",
    "        less relevant parameters:\n",
    "                verbose: the higher the value, the more information is printed about each single iteration (including single K-fold results)\n",
    "                n_jobs: how many cores to use. if set to -1, it is going to use all the CPU cores\n",
    "\n",
    "\n",
    "        EXAMPLE USAGE:\n",
    "                rf= RandomForestClassifier(n_estimators= 10, criterion= 'gini', random_state=0, class_weight= 'balanced')\n",
    "\n",
    "                param_rf= {\n",
    "                    \"criterion\": ['gini'],\n",
    "                    \"n_estimators\" : [300],\n",
    "                    \"min_impurity_decrease\" :  [1e-03, 1e-06],\n",
    "                    \"min_samples_leaf\": [20, 40],\n",
    "                    \"max_depth\": [3, 6] }\n",
    "\n",
    "                best_rf = run_model_CV(estimator=rf, X_train= final_train, X_test= final_test, param_grid= param_rf)  #best_rf is the best classifier\n",
    "\n",
    "        \"\"\"\n",
    "\n",
    "\n",
    "        print('\\033[1mInitial shapes of X_train e X_test are: ', X_train.shape, X_test.shape, '\\033[0m \\n')\n",
    "        temp = time.time()\n",
    "\n",
    "        \"The “balanced” mode uses the values of y to automatically adjust weights inversely proportional to class frequencies in the input data as n_samples / (n_classes * np.bincount(y))\"\n",
    "\n",
    "\n",
    "\n",
    "        if random == False:\n",
    "                Grid_RF = GridSearchCV(estimator, param_grid, scoring=cv_metric, cv=cv, return_train_score=True,\n",
    "                                       n_jobs=n_jobs, verbose=verbose)\n",
    "                Grid_RF.fit(X_train, ytrain)\n",
    "                print('\\n It is not a single model but a Grid Search \\n')\n",
    "                summary_grid(Grid_RF, X_train, ytrain, X_test, ytest)\n",
    "                print('execution time (min)=', round((time.time() - temp) / 60, 1), ' finished at ',\n",
    "                      datetime.today())\n",
    "\n",
    "        elif random == True:\n",
    "                Grid_RF = RandomizedSearchCV(estimator, param_distributions=param_grid,\n",
    "                                             scoring= cv_metric, cv=cv, return_train_score=True, verbose=verbose,\n",
    "                                             n_jobs=n_jobs)\n",
    "                Grid_RF.fit(X_train, ytrain)\n",
    "                print('\\n It is not a single model but a (Randomized) Grid Search \\n')\n",
    "                summary_grid(Grid_RF, X_train, ytrain, X_test, ytest)\n",
    "                print('execution time (min)=', round((time.time() - temp) / 60, 1), ' finished at ',\n",
    "                      datetime.today())\n",
    "        return Grid_RF\n",
    "\n",
    "    \n",
    "    \n",
    "def df_cv_results(grid_fit, n_to_show=5, rename=True):\n",
    "        \"\"\" After a Grid Search is performed, it returns a dataframe with Train AUC and Test AUC for each parameters combination.\n",
    "\n",
    "        INPUT PARAMETERS:\n",
    "        grid_fit: grid_search estimator already fitted\n",
    "        n_to_show: number of rows to show in the dataframe returned\n",
    "\n",
    "        EXAMPLE USAGE:\n",
    "        best_rf = run_model_CV(estimator=rf, X_train= final_train, X_test= final_test, param_grid= param_rf)  #best_rf is a classifier\n",
    "        cv_results_rf = df_cv_results(best_rf, n_to_show= 8)\n",
    "\n",
    "        \"\"\"\n",
    "        df = pd.DataFrame(grid_fit.cv_results_)\n",
    "        df = df[[col for col in df.columns if 'param_' in col] + ['mean_train_score', 'mean_test_score']]\n",
    "        df.sort_values(by='mean_test_score', ascending=False, inplace= True)\n",
    "        if rename==True:\n",
    "            df.rename({'mean_test_score': 'CV_Test_AUC', 'mean_train_score': 'CV_Train_AUC'}, axis=1, inplace= True)\n",
    "            \n",
    "        df['degree_overfitting_(%)'] =  100*(df['CV_Train_AUC'] - df['CV_Test_AUC'])\n",
    "\n",
    "        return df.head(n_to_show)\n",
    "\n",
    "\n",
    "def plot_auc(estimator, X_train, X_test, ytrain, ytest, already_fitted= True, \n",
    "             figsize= (10, 6), savefig=True, file_output='path/model_name'):\n",
    "        \"\"\" .... \"\"\"\n",
    "        \n",
    "        if already_fitted is False:\n",
    "            estimator.fit(X_train, ytrain)\n",
    "        pred_train = estimator.predict_proba(X_train)[:, 1]\n",
    "        pred_test = estimator.predict_proba(X_test)[:, 1]\n",
    "\n",
    "        auc_train = float(round(roc_auc_score(ytrain, pred_train), 4))\n",
    "        auc_test = float(round(roc_auc_score(ytest, pred_test), 4))\n",
    "        print('\\n\\033[1mROC Train is {a}, ROC Test is {b}\\033[0m'.format(a=auc_train, b=auc_test))\n",
    "\n",
    "        fpr, tpr, _ = roc_curve(ytest, pred_test)\n",
    "        fpr_tr, tpr_tr, _ = roc_curve(ytrain, pred_train)\n",
    "\n",
    "        title_ticks_ecc('Receiver Operating Characteristic', 'True Positive Rate', 'False Positive Rate',\n",
    "                        figsize= figsize)\n",
    "        plt.plot(fpr, tpr, linewidth=4, label='Test AUC = {0}'.format(round(auc_test, 4)))\n",
    "        plt.plot(fpr_tr, tpr_tr, linewidth=3, label='Train AUC = {0}'.format(round(auc_train, 4)))\n",
    "        plt.legend(loc='lower right', fontsize=12)\n",
    "        plt.plot([0, 1], [0, 1], 'r--')\n",
    "\n",
    "        if savefig:\n",
    "                plt.savefig(file_output, format='PNG')\n",
    "\n",
    "\n",
    "\n",
    "\n",
    "def reduced_models_lasso(values_C, train, ytrain, random_state=42, min_n_feats=12, max_n_feats=70):\n",
    "        \"\"\"\n",
    "        INPUTS:\n",
    "           values_C: list or array of C values to try\n",
    "           train and test: train and test dataset to use, all numerical (cat variables must be encoded)\n",
    "           random_state: initialization for the minimization problem\n",
    "\n",
    "           OUTPUT:\n",
    "           Data frame having for each row the chosen C value, the number of features selected and the list of those\"\"\"\n",
    "\n",
    "        X_train = train\n",
    "        values_C= [round(val, 5) for val in values_C] ## rounding it to 5 decimals\n",
    "        #################################################\n",
    "\n",
    "        reduced_lasso = {}\n",
    "        len_val_C = 0\n",
    "\n",
    "        for c in values_C:\n",
    "                lasso = SelectFromModel(\n",
    "                        LogisticRegression(C=c, penalty='l1', solver='liblinear', random_state=random_state))\n",
    "                lasso.fit(X_train, ytrain)\n",
    "                feats = list(X_train.columns[lasso.get_support()])\n",
    "                reduced_lasso[c] = [sum(lasso.get_support()), feats]\n",
    "\n",
    "                if len(feats) != X_train.shape[1]:\n",
    "                        len_val_C += 1\n",
    "\n",
    "        n_feats = [reduced_lasso[c][0] for c in values_C]\n",
    "        list_feats = [reduced_lasso[c][1] for c in values_C]\n",
    "\n",
    "        reduced_lasso = pd.DataFrame(n_feats, columns=['n_feats_selected'], index=values_C)\n",
    "        reduced_lasso['list_features'] = list_feats\n",
    "        final_index = reduced_lasso[['n_feats_selected']].drop_duplicates(keep='first').index\n",
    "        reduced_lasso = reduced_lasso.loc[final_index]\n",
    "        reduced_lasso = reduced_lasso[reduced_lasso['n_feats_selected'] > 2]\n",
    "\n",
    "        print('Initial features =', X_train.shape[1])\n",
    "\n",
    "        reduced_lasso = reduced_lasso[(reduced_lasso['n_feats_selected'] > min_n_feats) & (\n",
    "                reduced_lasso['n_feats_selected'] < max_n_feats)]\n",
    "\n",
    "        return reduced_lasso\n",
    "\n",
    "\n",
    "def run_lasso_CV(reduced_lasso_final, X_train, X_test):\n",
    "        final_list_C = list(reduced_lasso_final.index)\n",
    "\n",
    "        ### Later on we will put it as an input parameter. For now it takes the C values from the previous function (the index of the df)\n",
    "        param_grid_lasso = [{\n",
    "                'lasso__estimator__C': final_list_C,\n",
    "                'clf__penalty': ['none'],\n",
    "                'clf__solver': ['saga'],\n",
    "                'clf__C': [1]\n",
    "        }]\n",
    "\n",
    "        lasso_lr = Pipeline([\n",
    "                ('lasso', SelectFromModel(\n",
    "                        LogisticRegression(penalty='l1', random_state=0, class_weight='balanced', solver='liblinear'))),\n",
    "                ('clf', LogisticRegression(random_state=0, class_weight='balanced'),)\n",
    "        ])\n",
    "\n",
    "        ### Grid Search with Cross Validation\n",
    "        grid_lasso = run_model_CV(estimator=lasso_lr, X_train=X_train, X_test=X_test, param_grid=param_grid_lasso)\n",
    "        return grid_lasso"
   ]
  },
  {
   "cell_type": "code",
   "execution_count": 621,
   "metadata": {
    "colab": {},
    "colab_type": "code",
    "hide_input": true,
    "id": "opyw1Xqae7ck"
   },
   "outputs": [],
   "source": [
    "def run_model(estimator, param_grid= None, X_train= preliminary_train, X_test= preliminary_test, only_imp= False, random= False, verbose=5, cv=3, n_jobs= None, comparison= False): #param_grid= None\n",
    "    \"\"\"estimator è il modello, task puo essere: ['class', 'reg']. \\n\n",
    "    Return Grid Search estimator. \"\"\"\n",
    "        \n",
    "    if only_imp== True:\n",
    "        try:\n",
    "            X_train= X_train_imp\n",
    "            X_test= X_test_imp\n",
    "        except:\n",
    "            pass\n",
    "    \n",
    "    print('Shape di X_train e X_test sono: ', X_train.shape, X_test.shape)\n",
    "    temp=time.time()\n",
    "    \n",
    "    \"The “balanced” mode uses the values of y to automatically adjust weights inversely proportional to class frequencies in the input data as n_samples / (n_classes * np.bincount(y))\"\n",
    "    \n",
    "    if param_grid is None:\n",
    "        estimator.fit(X_train, ytrain, )\n",
    "        preds= estimator.predict(X_test)\n",
    "        print('execution time (min)=', round((time.time()-temp)/60, 1), ' finished at ', datetime.today())\n",
    "        summary_classifier(estimator, X_train, ytrain, ytest, preds)\n",
    "        return estimator\n",
    "    \n",
    "    else:\n",
    "        if random== False:\n",
    "            Grid_RF = GridSearchCV(estimator, param_grid, scoring='roc_auc', cv=cv, return_train_score=True, \n",
    "                                   n_jobs= n_jobs, verbose= verbose)\n",
    "            Grid_RF.fit(X_train, ytrain)\n",
    "            print('\\n It is not a single model but a Grid Search \\n')\n",
    "            summary_grid(Grid_RF, X_train, ytrain, X_test, ytest)  \n",
    "            print('execution time (min)=', round((time.time()-temp)/60, 1), ' finished at ', datetime.today())\n",
    "        \n",
    "        elif random== True:\n",
    "            Grid_RF = RandomizedSearchCV(estimator, param_distributions=param_grid, \n",
    "                                         scoring='roc_auc', cv=cv, return_train_score=True, verbose= verbose, n_jobs= n_jobs)\n",
    "            Grid_RF.fit(X_train, ytrain)\n",
    "            print('\\n It is not a single model but a (Randomized) Grid Search \\n')\n",
    "            summary_grid(Grid_RF, X_train, ytrain, X_test, ytest)\n",
    "            print('execution time (min)=', round((time.time()-temp)/60, 1), ' finished at ', datetime.today())\n",
    "        return  Grid_RF "
   ]
  },
  {
   "cell_type": "code",
   "execution_count": 622,
   "metadata": {
    "colab": {},
    "colab_type": "code",
    "hide_input": true,
    "id": "h4NNGt5ce7cl"
   },
   "outputs": [],
   "source": [
    "def df_cv_results (grid_fit, n_to_show= 5, rename= True):\n",
    "    \"\"\" MAIN CV RESULTS \"\"\"\n",
    "    df= pd.DataFrame(grid_fit.cv_results_)\n",
    "    df= df[[col for col in df.columns if 'param_' in col]+['mean_test_score', 'mean_train_score']]\n",
    "    if rename:\n",
    "        preliminary_train.rename({'mean_test_score': 'Test_AUC', 'mean_train_score': 'Train_AUC'}, axis=1)\n",
    "        \n",
    "    return df.sort_values(by= 'mean_test_score', ascending= False).head(n_to_show)"
   ]
  },
  {
   "cell_type": "code",
   "execution_count": 623,
   "metadata": {
    "colab": {},
    "colab_type": "code",
    "hide_input": true,
    "id": "ma2nn0VPe7cn"
   },
   "outputs": [],
   "source": [
    "def plot_feat_imp(best_est, X_train= preliminary_train, X_test= preliminary_test, \n",
    "                  n_feat_to_plot= 10, color='r', figsize= True, show= True):\n",
    "    \"\"\"RETURN DF CON FEATURE IMPORTANCES ORDINATE\"\"\"\n",
    "    \n",
    "    feats_imp= pd.DataFrame(pd.Series(dict(zip(X_train.columns, best_est.best_estimator_.feature_importances_))), columns= ['importance'])\n",
    "    feats_imp= feats_imp.sort_values(by= 'importance', ascending=False)\n",
    "    \n",
    "    if show== False:\n",
    "        return feats_imp\n",
    "    \n",
    "    if figsize==True:\n",
    "        feats_imp.iloc[: n_feat_to_plot]['importance'].plot.barh(color= color, edgecolor='k',figsize= (12,7),\n",
    "                                      linewidth=2)\n",
    "    else:\n",
    "        feats_imp.iloc[: n_feat_to_plot]['importance'].plot.barh(color= color, edgecolor='k', linewidth=2)\n",
    "\n",
    "    #plt.figure(figsize=(26,18))\n",
    "    ax = plt.gca()\n",
    "    ax.invert_yaxis()\n",
    "    plt.xticks(size=20) \n",
    "    plt.yticks(size=18)\n",
    "\n",
    "    plt.title('Most Important Features for Random Forest', size=28);\n",
    "    #plt.savefig('Feature Importance RF2.png', format= 'png')\n",
    "    \n",
    "    return feats_imp"
   ]
  },
  {
   "cell_type": "markdown",
   "metadata": {
    "colab_type": "text",
    "id": "XFJ1BUdde7cp"
   },
   "source": [
    "# <font color= 'red'> Regularized Logistic Regression"
   ]
  },
  {
   "cell_type": "markdown",
   "metadata": {
    "colab_type": "text",
    "id": "HsF1tqSNe7cq"
   },
   "source": [
    "<b> Here C is the inverse of classularization strength. Più valore è basso, pià forte penalità, quindi meno features selezionate e meno overfitting"
   ]
  },
  {
   "cell_type": "code",
   "execution_count": 712,
   "metadata": {
    "colab": {
     "base_uri": "https://localhost:8080/",
     "height": 102
    },
    "colab_type": "code",
    "executionInfo": {
     "elapsed": 1082,
     "status": "ok",
     "timestamp": 1580693938721,
     "user": {
      "displayName": "Federico Francone",
      "photoUrl": "https://lh3.googleusercontent.com/a-/AAuE7mCvT-5R0e3T46w8v1AsqxSyhT-fEY26ltek6aRh=s64",
      "userId": "16122115063472740860"
     },
     "user_tz": -60
    },
    "id": "KWSLfLCtl5rD",
    "outputId": "d66c9886-b9ed-4721-f410-92100d66d040"
   },
   "outputs": [
    {
     "name": "stdout",
     "output_type": "stream",
     "text": [
      "<class 'pandas.core.frame.DataFrame'>\n",
      "RangeIndex: 78436 entries, 0 to 78435\n",
      "Columns: 25 entries, cass_state_FINAL_ENC to ibe8627_age_input_individual_default_to_1st_individual_premier_age\n",
      "dtypes: float64(25)\n",
      "memory usage: 15.0 MB\n"
     ]
    }
   ],
   "source": [
    "preliminary_train.drop(['target'], axis=1, inplace=True, errors= 'ignore')\n",
    "preliminary_test.drop(['target'], axis=1, inplace=True, errors= 'ignore')\n",
    "\n",
    "preliminary_train.info(verbose= False)"
   ]
  },
  {
   "cell_type": "code",
   "execution_count": 713,
   "metadata": {},
   "outputs": [
    {
     "data": {
      "text/plain": [
       "(0    0.826891\n",
       " 1    0.173109\n",
       " Name: target, dtype: float64,\n",
       " 0    0.826912\n",
       " 1    0.173088\n",
       " Name: target, dtype: float64)"
      ]
     },
     "execution_count": 713,
     "metadata": {},
     "output_type": "execute_result"
    }
   ],
   "source": [
    "ytrain.value_counts(normalize = True), ytest.value_counts(normalize = True)"
   ]
  },
  {
   "cell_type": "code",
   "execution_count": 354,
   "metadata": {
    "colab": {},
    "colab_type": "code",
    "hide_input": false,
    "id": "FZ9ag6bje7cr"
   },
   "outputs": [],
   "source": [
    "lasso= SelectFromModel(estimator= LogisticRegression(C= 0.00550 ,penalty='l1', solver= 'saga', random_state=0) ).fit(\n",
    "                                                                        preliminary_train, ytrain)"
   ]
  },
  {
   "cell_type": "code",
   "execution_count": 355,
   "metadata": {
    "colab": {
     "base_uri": "https://localhost:8080/",
     "height": 51
    },
    "colab_type": "code",
    "executionInfo": {
     "elapsed": 1053,
     "status": "ok",
     "timestamp": 1580693947411,
     "user": {
      "displayName": "Federico Francone",
      "photoUrl": "https://lh3.googleusercontent.com/a-/AAuE7mCvT-5R0e3T46w8v1AsqxSyhT-fEY26ltek6aRh=s64",
      "userId": "16122115063472740860"
     },
     "user_tz": -60
    },
    "hide_input": false,
    "id": "47CxOUmpe7cs",
    "outputId": "66f2a541-5b2f-46cf-9dcf-16d294fae753"
   },
   "outputs": [
    {
     "name": "stdout",
     "output_type": "stream",
     "text": [
      "Initial features = 25\n",
      "Selected features lasso = 16\n"
     ]
    }
   ],
   "source": [
    "print('Initial features =', preliminary_train.shape[1])\n",
    "print('Selected features lasso =', sum(lasso.get_support()))\n",
    "#print('Selected featureslasso4 =',sum(lasso4.get_support()))\n",
    "#print('features with coefficients shrank to zero in lasso(non sempre esatto) =', np.sum(l == 0))\n",
    "#pd.Series(l).describe().loc[['mean', 'max']]"
   ]
  },
  {
   "cell_type": "code",
   "execution_count": 356,
   "metadata": {},
   "outputs": [
    {
     "data": {
      "text/plain": [
       "Index(['cass_state_FINAL_ENC', 'automotive_product_propensities_vehicle_feature_non_lux_variables'], dtype='object')"
      ]
     },
     "execution_count": 356,
     "metadata": {},
     "output_type": "execute_result"
    }
   ],
   "source": [
    "sel_columns_lasso= preliminary_train.columns[lasso.get_support()]\n",
    "sel_columns_lasso[:2]"
   ]
  },
  {
   "cell_type": "code",
   "execution_count": 357,
   "metadata": {
    "colab": {},
    "colab_type": "code",
    "hide_input": true,
    "id": "aiQ5vIoXe7cu"
   },
   "outputs": [],
   "source": [
    "def reduced_models(valori_C, train= preliminary_train, test= preliminary_test):\n",
    "\n",
    "    X_train= train\n",
    "    X_test= test\n",
    "    #################################################  \n",
    "    \n",
    "    reduced_lasso = {}\n",
    "    len_val_C= 0\n",
    "    \n",
    "    for c in valori_C:\n",
    "        lasso= SelectFromModel(LogisticRegression(C=c ,penalty='l1', solver= 'saga', random_state=0))\n",
    "        lasso.fit(X_train, ytrain)\n",
    "        reduced_lasso[c]= [sum(lasso.get_support()), lasso.get_support()]\n",
    "        feats= X_train.columns[lasso.get_support()]\n",
    "        \n",
    "        if len(feats)!= X_train.shape[1]:\n",
    "            len_val_C +=1\n",
    "        \n",
    "    n_feats= [reduced_lasso[c][0] for c in valori_C]\n",
    "\n",
    "    reduced_lasso= pd.DataFrame(n_feats, columns= ['n_feats_selected'], index= valori_C)\n",
    "    reduced_lasso=reduced_lasso.drop_duplicates(keep='first')\n",
    "    reduced_lasso= reduced_lasso[reduced_lasso['n_feats_selected']>2]\n",
    "\n",
    "    print('Initial features =', X_train.shape[1]) \n",
    "    \n",
    "    return reduced_lasso"
   ]
  },
  {
   "cell_type": "code",
   "execution_count": 358,
   "metadata": {
    "colab": {
     "base_uri": "https://localhost:8080/",
     "height": 190
    },
    "colab_type": "code",
    "executionInfo": {
     "elapsed": 10306,
     "status": "ok",
     "timestamp": 1580694043847,
     "user": {
      "displayName": "Federico Francone",
      "photoUrl": "https://lh3.googleusercontent.com/a-/AAuE7mCvT-5R0e3T46w8v1AsqxSyhT-fEY26ltek6aRh=s64",
      "userId": "16122115063472740860"
     },
     "user_tz": -60
    },
    "id": "n7A2QdBUe7cv",
    "outputId": "2db633fc-dbac-4251-989d-54d48d4a3b9d"
   },
   "outputs": [
    {
     "name": "stdout",
     "output_type": "stream",
     "text": [
      "Initial features = 25\n"
     ]
    },
    {
     "data": {
      "text/html": [
       "<div>\n",
       "<style scoped>\n",
       "    .dataframe tbody tr th:only-of-type {\n",
       "        vertical-align: middle;\n",
       "    }\n",
       "\n",
       "    .dataframe tbody tr th {\n",
       "        vertical-align: top;\n",
       "    }\n",
       "\n",
       "    .dataframe thead th {\n",
       "        text-align: right;\n",
       "    }\n",
       "</style>\n",
       "<table border=\"1\" class=\"dataframe\">\n",
       "  <thead>\n",
       "    <tr style=\"text-align: right;\">\n",
       "      <th></th>\n",
       "      <th>n_feats_selected</th>\n",
       "    </tr>\n",
       "  </thead>\n",
       "  <tbody>\n",
       "    <tr>\n",
       "      <th>1</th>\n",
       "      <td>25</td>\n",
       "    </tr>\n",
       "  </tbody>\n",
       "</table>\n",
       "</div>"
      ],
      "text/plain": [
       "   n_feats_selected\n",
       "1                25"
      ]
     },
     "execution_count": 358,
     "metadata": {},
     "output_type": "execute_result"
    }
   ],
   "source": [
    "reduced_lasso= reduced_models([0.1, 0.1])    #list(np.linspace(0.001, 0.01, 5))\n",
    "reduced_lasso"
   ]
  },
  {
   "cell_type": "code",
   "execution_count": 359,
   "metadata": {
    "colab": {
     "base_uri": "https://localhost:8080/",
     "height": 111
    },
    "colab_type": "code",
    "executionInfo": {
     "elapsed": 468,
     "status": "ok",
     "timestamp": 1580694051153,
     "user": {
      "displayName": "Federico Francone",
      "photoUrl": "https://lh3.googleusercontent.com/a-/AAuE7mCvT-5R0e3T46w8v1AsqxSyhT-fEY26ltek6aRh=s64",
      "userId": "16122115063472740860"
     },
     "user_tz": -60
    },
    "id": "_W45_QxNl5rN",
    "outputId": "2268b1e2-ca5a-43fe-a119-08fcf7dad02e"
   },
   "outputs": [
    {
     "data": {
      "text/html": [
       "<div>\n",
       "<style scoped>\n",
       "    .dataframe tbody tr th:only-of-type {\n",
       "        vertical-align: middle;\n",
       "    }\n",
       "\n",
       "    .dataframe tbody tr th {\n",
       "        vertical-align: top;\n",
       "    }\n",
       "\n",
       "    .dataframe thead th {\n",
       "        text-align: right;\n",
       "    }\n",
       "</style>\n",
       "<table border=\"1\" class=\"dataframe\">\n",
       "  <thead>\n",
       "    <tr style=\"text-align: right;\">\n",
       "      <th></th>\n",
       "      <th>n_feats_selected</th>\n",
       "    </tr>\n",
       "  </thead>\n",
       "  <tbody>\n",
       "    <tr>\n",
       "      <th>1</th>\n",
       "      <td>25</td>\n",
       "    </tr>\n",
       "  </tbody>\n",
       "</table>\n",
       "</div>"
      ],
      "text/plain": [
       "   n_feats_selected\n",
       "1                25"
      ]
     },
     "execution_count": 359,
     "metadata": {},
     "output_type": "execute_result"
    }
   ],
   "source": [
    "reduced_lasso_f= reduced_lasso.iloc[[0]]\n",
    "reduced_lasso_f"
   ]
  },
  {
   "cell_type": "code",
   "execution_count": 360,
   "metadata": {},
   "outputs": [],
   "source": [
    "from notebook.services.config import ConfigManager\n",
    "cm = ConfigManager().update('notebook', {'limit_output': 100000000})"
   ]
  },
  {
   "cell_type": "code",
   "execution_count": 361,
   "metadata": {
    "colab": {
     "base_uri": "https://localhost:8080/",
     "height": 1000
    },
    "colab_type": "code",
    "executionInfo": {
     "elapsed": 73347,
     "status": "ok",
     "timestamp": 1580694128749,
     "user": {
      "displayName": "Federico Francone",
      "photoUrl": "https://lh3.googleusercontent.com/a-/AAuE7mCvT-5R0e3T46w8v1AsqxSyhT-fEY26ltek6aRh=s64",
      "userId": "16122115063472740860"
     },
     "user_tz": -60
    },
    "id": "EcFSTCQ1l5rP",
    "outputId": "db0743e2-767a-4850-8147-bb0500a3e907",
    "scrolled": true
   },
   "outputs": [
    {
     "name": "stdout",
     "output_type": "stream",
     "text": [
      "Shape di X_train e X_test sono:  (78436, 25) (33613, 25)\n",
      "\n",
      "\t \u001b[1mITERATION 1/8 \u001b[0m\n",
      "\t Current Grid of Parameters is {'clf__C': 0.001, 'clf__penalty': 'none', 'clf__solver': 'saga', 'lasso__estimator__C': 1}\n",
      "\n",
      "\u001b[1mROC Train is 0.6692, ROC Test is 0.6706\u001b[0m\n",
      "Pipeline(memory=None,\n",
      "         steps=[('lasso',\n",
      "                 SelectFromModel(estimator=LogisticRegression(C=1,\n",
      "                                                              class_weight='balanced',\n",
      "                                                              dual=False,\n",
      "                                                              fit_intercept=True,\n",
      "                                                              intercept_scaling=1,\n",
      "                                                              l1_ratio=None,\n",
      "                                                              max_iter=100,\n",
      "                                                              multi_class='auto',\n",
      "                                                              n_jobs=None,\n",
      "                                                              penalty='l1',\n",
      "                                                              random_state=0,\n",
      "                                                              solver='saga',\n",
      "                                                              tol=0.0001,\n",
      "                                                              verbose=0,\n",
      "                                                              warm_start=False),\n",
      "                                 max_features=None, norm_order=1, prefit=False,\n",
      "                                 threshold=None)),\n",
      "                ('clf',\n",
      "                 LogisticRegression(C=0.001, class_weight='balanced',\n",
      "                                    dual=False, fit_intercept=True,\n",
      "                                    intercept_scaling=1, l1_ratio=None,\n",
      "                                    max_iter=100, multi_class='auto',\n",
      "                                    n_jobs=None, penalty='none', random_state=0,\n",
      "                                    solver='saga', tol=0.0001, verbose=0,\n",
      "                                    warm_start=False))],\n",
      "         verbose=False)\n",
      "\n",
      "\t \u001b[1mITERATION 2/8 \u001b[0m\n",
      "\t Current Grid of Parameters is {'clf__C': 0.001, 'clf__penalty': 'none', 'clf__solver': 'saga', 'lasso__estimator__C': 1}\n",
      "\n",
      "\u001b[1mROC Train is 0.6692, ROC Test is 0.6706\u001b[0m\n",
      "Pipeline(memory=None,\n",
      "         steps=[('lasso',\n",
      "                 SelectFromModel(estimator=LogisticRegression(C=1,\n",
      "                                                              class_weight='balanced',\n",
      "                                                              dual=False,\n",
      "                                                              fit_intercept=True,\n",
      "                                                              intercept_scaling=1,\n",
      "                                                              l1_ratio=None,\n",
      "                                                              max_iter=100,\n",
      "                                                              multi_class='auto',\n",
      "                                                              n_jobs=None,\n",
      "                                                              penalty='l1',\n",
      "                                                              random_state=0,\n",
      "                                                              solver='saga',\n",
      "                                                              tol=0.0001,\n",
      "                                                              verbose=0,\n",
      "                                                              warm_start=False),\n",
      "                                 max_features=None, norm_order=1, prefit=False,\n",
      "                                 threshold=None)),\n",
      "                ('clf',\n",
      "                 LogisticRegression(C=0.001, class_weight='balanced',\n",
      "                                    dual=False, fit_intercept=True,\n",
      "                                    intercept_scaling=1, l1_ratio=None,\n",
      "                                    max_iter=100, multi_class='auto',\n",
      "                                    n_jobs=None, penalty='none', random_state=0,\n",
      "                                    solver='saga', tol=0.0001, verbose=0,\n",
      "                                    warm_start=False))],\n",
      "         verbose=False)\n",
      "\n",
      "\t \u001b[1mITERATION 3/8 \u001b[0m\n",
      "\t Current Grid of Parameters is {'clf__C': 0.001, 'clf__penalty': 'l1', 'clf__solver': 'saga', 'lasso__estimator__C': 1}\n",
      "\n",
      "\u001b[1mROC Train is 0.6637, ROC Test is 0.6648\u001b[0m\n",
      "Pipeline(memory=None,\n",
      "         steps=[('lasso',\n",
      "                 SelectFromModel(estimator=LogisticRegression(C=1,\n",
      "                                                              class_weight='balanced',\n",
      "                                                              dual=False,\n",
      "                                                              fit_intercept=True,\n",
      "                                                              intercept_scaling=1,\n",
      "                                                              l1_ratio=None,\n",
      "                                                              max_iter=100,\n",
      "                                                              multi_class='auto',\n",
      "                                                              n_jobs=None,\n",
      "                                                              penalty='l1',\n",
      "                                                              random_state=0,\n",
      "                                                              solver='saga',\n",
      "                                                              tol=0.0001,\n",
      "                                                              verbose=0,\n",
      "                                                              warm_start=False),\n",
      "                                 max_features=None, norm_order=1, prefit=False,\n",
      "                                 threshold=None)),\n",
      "                ('clf',\n",
      "                 LogisticRegression(C=0.001, class_weight='balanced',\n",
      "                                    dual=False, fit_intercept=True,\n",
      "                                    intercept_scaling=1, l1_ratio=None,\n",
      "                                    max_iter=100, multi_class='auto',\n",
      "                                    n_jobs=None, penalty='l1', random_state=0,\n",
      "                                    solver='saga', tol=0.0001, verbose=0,\n",
      "                                    warm_start=False))],\n",
      "         verbose=False)\n",
      "\n",
      "\t \u001b[1mITERATION 4/8 \u001b[0m\n",
      "\t Current Grid of Parameters is {'clf__C': 0.001, 'clf__penalty': 'l1', 'clf__solver': 'saga', 'lasso__estimator__C': 1}\n",
      "\n",
      "\u001b[1mROC Train is 0.6637, ROC Test is 0.6648\u001b[0m\n",
      "Pipeline(memory=None,\n",
      "         steps=[('lasso',\n",
      "                 SelectFromModel(estimator=LogisticRegression(C=1,\n",
      "                                                              class_weight='balanced',\n",
      "                                                              dual=False,\n",
      "                                                              fit_intercept=True,\n",
      "                                                              intercept_scaling=1,\n",
      "                                                              l1_ratio=None,\n",
      "                                                              max_iter=100,\n",
      "                                                              multi_class='auto',\n",
      "                                                              n_jobs=None,\n",
      "                                                              penalty='l1',\n",
      "                                                              random_state=0,\n",
      "                                                              solver='saga',\n",
      "                                                              tol=0.0001,\n",
      "                                                              verbose=0,\n",
      "                                                              warm_start=False),\n",
      "                                 max_features=None, norm_order=1, prefit=False,\n",
      "                                 threshold=None)),\n",
      "                ('clf',\n",
      "                 LogisticRegression(C=0.001, class_weight='balanced',\n",
      "                                    dual=False, fit_intercept=True,\n",
      "                                    intercept_scaling=1, l1_ratio=None,\n",
      "                                    max_iter=100, multi_class='auto',\n",
      "                                    n_jobs=None, penalty='l1', random_state=0,\n",
      "                                    solver='saga', tol=0.0001, verbose=0,\n",
      "                                    warm_start=False))],\n",
      "         verbose=False)\n",
      "\n",
      "\t \u001b[1mITERATION 5/8 \u001b[0m\n",
      "\t Current Grid of Parameters is {'clf__C': 0.001, 'clf__penalty': 'l1', 'clf__solver': 'liblinear', 'lasso__estimator__C': 1}\n"
     ]
    },
    {
     "name": "stdout",
     "output_type": "stream",
     "text": [
      "\n",
      "\u001b[1mROC Train is 0.6637, ROC Test is 0.6647\u001b[0m\n",
      "Pipeline(memory=None,\n",
      "         steps=[('lasso',\n",
      "                 SelectFromModel(estimator=LogisticRegression(C=1,\n",
      "                                                              class_weight='balanced',\n",
      "                                                              dual=False,\n",
      "                                                              fit_intercept=True,\n",
      "                                                              intercept_scaling=1,\n",
      "                                                              l1_ratio=None,\n",
      "                                                              max_iter=100,\n",
      "                                                              multi_class='auto',\n",
      "                                                              n_jobs=None,\n",
      "                                                              penalty='l1',\n",
      "                                                              random_state=0,\n",
      "                                                              solver='saga',\n",
      "                                                              tol=0.0001,\n",
      "                                                              verbose=0,\n",
      "                                                              warm_start=False),\n",
      "                                 max_features=None, norm_order=1, prefit=False,\n",
      "                                 threshold=None)),\n",
      "                ('clf',\n",
      "                 LogisticRegression(C=0.001, class_weight='balanced',\n",
      "                                    dual=False, fit_intercept=True,\n",
      "                                    intercept_scaling=1, l1_ratio=None,\n",
      "                                    max_iter=100, multi_class='auto',\n",
      "                                    n_jobs=None, penalty='l1', random_state=0,\n",
      "                                    solver='liblinear', tol=0.0001, verbose=0,\n",
      "                                    warm_start=False))],\n",
      "         verbose=False)\n",
      "\n",
      "\t \u001b[1mITERATION 6/8 \u001b[0m\n",
      "\t Current Grid of Parameters is {'clf__C': 0.001, 'clf__penalty': 'l1', 'clf__solver': 'liblinear', 'lasso__estimator__C': 1}\n",
      "\n",
      "\u001b[1mROC Train is 0.6637, ROC Test is 0.6647\u001b[0m\n",
      "Pipeline(memory=None,\n",
      "         steps=[('lasso',\n",
      "                 SelectFromModel(estimator=LogisticRegression(C=1,\n",
      "                                                              class_weight='balanced',\n",
      "                                                              dual=False,\n",
      "                                                              fit_intercept=True,\n",
      "                                                              intercept_scaling=1,\n",
      "                                                              l1_ratio=None,\n",
      "                                                              max_iter=100,\n",
      "                                                              multi_class='auto',\n",
      "                                                              n_jobs=None,\n",
      "                                                              penalty='l1',\n",
      "                                                              random_state=0,\n",
      "                                                              solver='saga',\n",
      "                                                              tol=0.0001,\n",
      "                                                              verbose=0,\n",
      "                                                              warm_start=False),\n",
      "                                 max_features=None, norm_order=1, prefit=False,\n",
      "                                 threshold=None)),\n",
      "                ('clf',\n",
      "                 LogisticRegression(C=0.001, class_weight='balanced',\n",
      "                                    dual=False, fit_intercept=True,\n",
      "                                    intercept_scaling=1, l1_ratio=None,\n",
      "                                    max_iter=100, multi_class='auto',\n",
      "                                    n_jobs=None, penalty='l1', random_state=0,\n",
      "                                    solver='liblinear', tol=0.0001, verbose=0,\n",
      "                                    warm_start=False))],\n",
      "         verbose=False)\n",
      "\n",
      "\t \u001b[1mITERATION 7/8 \u001b[0m\n",
      "\t Current Grid of Parameters is {'clf__C': 0.001, 'clf__penalty': 'l2', 'clf__solver': 'liblinear', 'lasso__estimator__C': 1}\n",
      "\n",
      "\u001b[1mROC Train is 0.6687, ROC Test is 0.6703\u001b[0m\n",
      "Pipeline(memory=None,\n",
      "         steps=[('lasso',\n",
      "                 SelectFromModel(estimator=LogisticRegression(C=1,\n",
      "                                                              class_weight='balanced',\n",
      "                                                              dual=False,\n",
      "                                                              fit_intercept=True,\n",
      "                                                              intercept_scaling=1,\n",
      "                                                              l1_ratio=None,\n",
      "                                                              max_iter=100,\n",
      "                                                              multi_class='auto',\n",
      "                                                              n_jobs=None,\n",
      "                                                              penalty='l1',\n",
      "                                                              random_state=0,\n",
      "                                                              solver='saga',\n",
      "                                                              tol=0.0001,\n",
      "                                                              verbose=0,\n",
      "                                                              warm_start=False),\n",
      "                                 max_features=None, norm_order=1, prefit=False,\n",
      "                                 threshold=None)),\n",
      "                ('clf',\n",
      "                 LogisticRegression(C=0.001, class_weight='balanced',\n",
      "                                    dual=False, fit_intercept=True,\n",
      "                                    intercept_scaling=1, l1_ratio=None,\n",
      "                                    max_iter=100, multi_class='auto',\n",
      "                                    n_jobs=None, penalty='l2', random_state=0,\n",
      "                                    solver='liblinear', tol=0.0001, verbose=0,\n",
      "                                    warm_start=False))],\n",
      "         verbose=False)\n",
      "\n",
      "\t \u001b[1mITERATION 8/8 \u001b[0m\n",
      "\t Current Grid of Parameters is {'clf__C': 0.001, 'clf__penalty': 'l2', 'clf__solver': 'liblinear', 'lasso__estimator__C': 1}\n",
      "\n",
      "\u001b[1mROC Train is 0.6687, ROC Test is 0.6703\u001b[0m\n",
      "Pipeline(memory=None,\n",
      "         steps=[('lasso',\n",
      "                 SelectFromModel(estimator=LogisticRegression(C=1,\n",
      "                                                              class_weight='balanced',\n",
      "                                                              dual=False,\n",
      "                                                              fit_intercept=True,\n",
      "                                                              intercept_scaling=1,\n",
      "                                                              l1_ratio=None,\n",
      "                                                              max_iter=100,\n",
      "                                                              multi_class='auto',\n",
      "                                                              n_jobs=None,\n",
      "                                                              penalty='l1',\n",
      "                                                              random_state=0,\n",
      "                                                              solver='saga',\n",
      "                                                              tol=0.0001,\n",
      "                                                              verbose=0,\n",
      "                                                              warm_start=False),\n",
      "                                 max_features=None, norm_order=1, prefit=False,\n",
      "                                 threshold=None)),\n",
      "                ('clf',\n",
      "                 LogisticRegression(C=0.001, class_weight='balanced',\n",
      "                                    dual=False, fit_intercept=True,\n",
      "                                    intercept_scaling=1, l1_ratio=None,\n",
      "                                    max_iter=100, multi_class='auto',\n",
      "                                    n_jobs=None, penalty='l2', random_state=0,\n",
      "                                    solver='liblinear', tol=0.0001, verbose=0,\n",
      "                                    warm_start=False))],\n",
      "         verbose=False)\n",
      "execution time (min)= 0.2  finished at  2020-03-18 12:07:32.113359\n"
     ]
    },
    {
     "data": {
      "text/html": [
       "<div>\n",
       "<style scoped>\n",
       "    .dataframe tbody tr th:only-of-type {\n",
       "        vertical-align: middle;\n",
       "    }\n",
       "\n",
       "    .dataframe tbody tr th {\n",
       "        vertical-align: top;\n",
       "    }\n",
       "\n",
       "    .dataframe thead th {\n",
       "        text-align: right;\n",
       "    }\n",
       "</style>\n",
       "<table border=\"1\" class=\"dataframe\">\n",
       "  <thead>\n",
       "    <tr style=\"text-align: right;\">\n",
       "      <th></th>\n",
       "      <th>diz_params</th>\n",
       "      <th>degree_overfitting(%)</th>\n",
       "      <th>roc_train</th>\n",
       "      <th>roc_test</th>\n",
       "    </tr>\n",
       "  </thead>\n",
       "  <tbody>\n",
       "    <tr>\n",
       "      <th>1</th>\n",
       "      <td>{'clf__C': 0.001, 'clf__penalty': 'none', 'clf...</td>\n",
       "      <td>-0.14</td>\n",
       "      <td>0.6692</td>\n",
       "      <td>0.6706</td>\n",
       "    </tr>\n",
       "    <tr>\n",
       "      <th>2</th>\n",
       "      <td>{'clf__C': 0.001, 'clf__penalty': 'none', 'clf...</td>\n",
       "      <td>-0.14</td>\n",
       "      <td>0.6692</td>\n",
       "      <td>0.6706</td>\n",
       "    </tr>\n",
       "    <tr>\n",
       "      <th>7</th>\n",
       "      <td>{'clf__C': 0.001, 'clf__penalty': 'l2', 'clf__...</td>\n",
       "      <td>-0.16</td>\n",
       "      <td>0.6687</td>\n",
       "      <td>0.6703</td>\n",
       "    </tr>\n",
       "    <tr>\n",
       "      <th>8</th>\n",
       "      <td>{'clf__C': 0.001, 'clf__penalty': 'l2', 'clf__...</td>\n",
       "      <td>-0.16</td>\n",
       "      <td>0.6687</td>\n",
       "      <td>0.6703</td>\n",
       "    </tr>\n",
       "    <tr>\n",
       "      <th>3</th>\n",
       "      <td>{'clf__C': 0.001, 'clf__penalty': 'l1', 'clf__...</td>\n",
       "      <td>-0.11</td>\n",
       "      <td>0.6637</td>\n",
       "      <td>0.6648</td>\n",
       "    </tr>\n",
       "    <tr>\n",
       "      <th>4</th>\n",
       "      <td>{'clf__C': 0.001, 'clf__penalty': 'l1', 'clf__...</td>\n",
       "      <td>-0.11</td>\n",
       "      <td>0.6637</td>\n",
       "      <td>0.6648</td>\n",
       "    </tr>\n",
       "    <tr>\n",
       "      <th>5</th>\n",
       "      <td>{'clf__C': 0.001, 'clf__penalty': 'l1', 'clf__...</td>\n",
       "      <td>-0.10</td>\n",
       "      <td>0.6637</td>\n",
       "      <td>0.6647</td>\n",
       "    </tr>\n",
       "    <tr>\n",
       "      <th>6</th>\n",
       "      <td>{'clf__C': 0.001, 'clf__penalty': 'l1', 'clf__...</td>\n",
       "      <td>-0.10</td>\n",
       "      <td>0.6637</td>\n",
       "      <td>0.6647</td>\n",
       "    </tr>\n",
       "  </tbody>\n",
       "</table>\n",
       "</div>"
      ],
      "text/plain": [
       "                                          diz_params  degree_overfitting(%)  \\\n",
       "1  {'clf__C': 0.001, 'clf__penalty': 'none', 'clf...                  -0.14   \n",
       "2  {'clf__C': 0.001, 'clf__penalty': 'none', 'clf...                  -0.14   \n",
       "7  {'clf__C': 0.001, 'clf__penalty': 'l2', 'clf__...                  -0.16   \n",
       "8  {'clf__C': 0.001, 'clf__penalty': 'l2', 'clf__...                  -0.16   \n",
       "3  {'clf__C': 0.001, 'clf__penalty': 'l1', 'clf__...                  -0.11   \n",
       "4  {'clf__C': 0.001, 'clf__penalty': 'l1', 'clf__...                  -0.11   \n",
       "5  {'clf__C': 0.001, 'clf__penalty': 'l1', 'clf__...                  -0.10   \n",
       "6  {'clf__C': 0.001, 'clf__penalty': 'l1', 'clf__...                  -0.10   \n",
       "\n",
       "   roc_train  roc_test  \n",
       "1     0.6692    0.6706  \n",
       "2     0.6692    0.6706  \n",
       "7     0.6687    0.6703  \n",
       "8     0.6687    0.6703  \n",
       "3     0.6637    0.6648  \n",
       "4     0.6637    0.6648  \n",
       "5     0.6637    0.6647  \n",
       "6     0.6637    0.6647  "
      ]
     },
     "execution_count": 361,
     "metadata": {},
     "output_type": "execute_result"
    }
   ],
   "source": [
    "#logi= LogisticRegression(class_weight= 'balanced', random_state=0)\n",
    "\n",
    "logi= Pipeline([\n",
    "      ('lasso', SelectFromModel(LogisticRegression(penalty='l1' ,random_state=0, class_weight='balanced', solver= 'saga' ) )), \n",
    "      ('clf', LogisticRegression(random_state=0, class_weight='balanced' ), )   \n",
    "                        ])\n",
    "\n",
    "\n",
    "param_grid_lasso = [    {\n",
    "                'lasso__estimator__C': list(reduced_lasso_f.index) + [1], \n",
    "                 'clf__penalty': ['none', 'l1'], \n",
    "                'clf__solver': ['saga'],\n",
    "                'clf__C': [0.001]\n",
    "                    },  \n",
    "    \n",
    "                { 'lasso__estimator__C': list(reduced_lasso_f.index) + [1], \n",
    "                 'clf__penalty': ['l1', 'l2'], \n",
    "                    'clf__solver': ['liblinear'],\n",
    "                     'clf__C': [0.001]\n",
    "                    }  ]\n",
    "\n",
    "\n",
    "grid_logistic = run_model_no_val(estimator=logi, X_train= preliminary_train, X_test= preliminary_test, param_grid= param_grid_lasso)\n",
    "grid_logistic"
   ]
  },
  {
   "cell_type": "code",
   "execution_count": 368,
   "metadata": {},
   "outputs": [],
   "source": [
    "# grid_logistic_pca = run_model_no_val(estimator=logi, X_train= pca_train, X_test= pca_test, param_grid= param_grid_lasso)\n",
    "# grid_logistic_pca"
   ]
  },
  {
   "cell_type": "markdown",
   "metadata": {
    "colab_type": "text",
    "id": "l5L4O6Vte7c0"
   },
   "source": [
    "#### Elastic Net #######"
   ]
  },
  {
   "cell_type": "code",
   "execution_count": 369,
   "metadata": {
    "colab": {
     "base_uri": "https://localhost:8080/",
     "height": 1000
    },
    "colab_type": "code",
    "executionInfo": {
     "elapsed": 59703,
     "status": "ok",
     "timestamp": 1580694188500,
     "user": {
      "displayName": "Federico Francone",
      "photoUrl": "https://lh3.googleusercontent.com/a-/AAuE7mCvT-5R0e3T46w8v1AsqxSyhT-fEY26ltek6aRh=s64",
      "userId": "16122115063472740860"
     },
     "user_tz": -60
    },
    "id": "UN_yDn1Al5rR",
    "outputId": "35f4131d-32aa-4cd0-fbac-a01fa55006a1",
    "scrolled": true
   },
   "outputs": [
    {
     "name": "stdout",
     "output_type": "stream",
     "text": [
      "Shape di X_train e X_test sono:  (78436, 25) (33613, 25)\n",
      "\n",
      "\t \u001b[1mITERATION 1/6 \u001b[0m\n",
      "\t Current Grid of Parameters is {'C': 1, 'l1_ratio': 0.5, 'penalty': 'elasticnet'}\n",
      "\n",
      "\u001b[1mROC Train is 0.6692, ROC Test is 0.6706\u001b[0m\n",
      "LogisticRegression(C=1, class_weight='balanced', dual=False, fit_intercept=True,\n",
      "                   intercept_scaling=1, l1_ratio=0.5, max_iter=100,\n",
      "                   multi_class='auto', n_jobs=None, penalty='elasticnet',\n",
      "                   random_state=0, solver='saga', tol=0.0001, verbose=0,\n",
      "                   warm_start=False)\n",
      "\n",
      "\t \u001b[1mITERATION 2/6 \u001b[0m\n",
      "\t Current Grid of Parameters is {'C': 1, 'l1_ratio': 0.7, 'penalty': 'elasticnet'}\n",
      "\n",
      "\u001b[1mROC Train is 0.6692, ROC Test is 0.6706\u001b[0m\n",
      "LogisticRegression(C=1, class_weight='balanced', dual=False, fit_intercept=True,\n",
      "                   intercept_scaling=1, l1_ratio=0.7, max_iter=100,\n",
      "                   multi_class='auto', n_jobs=None, penalty='elasticnet',\n",
      "                   random_state=0, solver='saga', tol=0.0001, verbose=0,\n",
      "                   warm_start=False)\n",
      "\n",
      "\t \u001b[1mITERATION 3/6 \u001b[0m\n",
      "\t Current Grid of Parameters is {'C': 1, 'l1_ratio': 0.09, 'penalty': 'elasticnet'}\n",
      "\n",
      "\u001b[1mROC Train is 0.6692, ROC Test is 0.6706\u001b[0m\n",
      "LogisticRegression(C=1, class_weight='balanced', dual=False, fit_intercept=True,\n",
      "                   intercept_scaling=1, l1_ratio=0.09, max_iter=100,\n",
      "                   multi_class='auto', n_jobs=None, penalty='elasticnet',\n",
      "                   random_state=0, solver='saga', tol=0.0001, verbose=0,\n",
      "                   warm_start=False)\n",
      "\n",
      "\t \u001b[1mITERATION 4/6 \u001b[0m\n",
      "\t Current Grid of Parameters is {'C': 1, 'l1_ratio': 0.5, 'penalty': 'elasticnet'}\n",
      "\n",
      "\u001b[1mROC Train is 0.6692, ROC Test is 0.6706\u001b[0m\n",
      "LogisticRegression(C=1, class_weight='balanced', dual=False, fit_intercept=True,\n",
      "                   intercept_scaling=1, l1_ratio=0.5, max_iter=100,\n",
      "                   multi_class='auto', n_jobs=None, penalty='elasticnet',\n",
      "                   random_state=0, solver='saga', tol=0.0001, verbose=0,\n",
      "                   warm_start=False)\n",
      "\n",
      "\t \u001b[1mITERATION 5/6 \u001b[0m\n",
      "\t Current Grid of Parameters is {'C': 1, 'l1_ratio': 0.7, 'penalty': 'elasticnet'}\n",
      "\n",
      "\u001b[1mROC Train is 0.6692, ROC Test is 0.6706\u001b[0m\n",
      "LogisticRegression(C=1, class_weight='balanced', dual=False, fit_intercept=True,\n",
      "                   intercept_scaling=1, l1_ratio=0.7, max_iter=100,\n",
      "                   multi_class='auto', n_jobs=None, penalty='elasticnet',\n",
      "                   random_state=0, solver='saga', tol=0.0001, verbose=0,\n",
      "                   warm_start=False)\n",
      "\n",
      "\t \u001b[1mITERATION 6/6 \u001b[0m\n",
      "\t Current Grid of Parameters is {'C': 1, 'l1_ratio': 0.09, 'penalty': 'elasticnet'}\n",
      "\n",
      "\u001b[1mROC Train is 0.6692, ROC Test is 0.6706\u001b[0m\n",
      "LogisticRegression(C=1, class_weight='balanced', dual=False, fit_intercept=True,\n",
      "                   intercept_scaling=1, l1_ratio=0.09, max_iter=100,\n",
      "                   multi_class='auto', n_jobs=None, penalty='elasticnet',\n",
      "                   random_state=0, solver='saga', tol=0.0001, verbose=0,\n",
      "                   warm_start=False)\n",
      "execution time (min)= 0.1  finished at  2020-03-18 12:18:47.242540\n"
     ]
    },
    {
     "data": {
      "text/html": [
       "<div>\n",
       "<style scoped>\n",
       "    .dataframe tbody tr th:only-of-type {\n",
       "        vertical-align: middle;\n",
       "    }\n",
       "\n",
       "    .dataframe tbody tr th {\n",
       "        vertical-align: top;\n",
       "    }\n",
       "\n",
       "    .dataframe thead th {\n",
       "        text-align: right;\n",
       "    }\n",
       "</style>\n",
       "<table border=\"1\" class=\"dataframe\">\n",
       "  <thead>\n",
       "    <tr style=\"text-align: right;\">\n",
       "      <th></th>\n",
       "      <th>diz_params</th>\n",
       "      <th>degree_overfitting(%)</th>\n",
       "      <th>roc_train</th>\n",
       "      <th>roc_test</th>\n",
       "    </tr>\n",
       "  </thead>\n",
       "  <tbody>\n",
       "    <tr>\n",
       "      <th>1</th>\n",
       "      <td>{'C': 1, 'l1_ratio': 0.5, 'penalty': 'elasticn...</td>\n",
       "      <td>-0.14</td>\n",
       "      <td>0.6692</td>\n",
       "      <td>0.6706</td>\n",
       "    </tr>\n",
       "    <tr>\n",
       "      <th>2</th>\n",
       "      <td>{'C': 1, 'l1_ratio': 0.7, 'penalty': 'elasticn...</td>\n",
       "      <td>-0.14</td>\n",
       "      <td>0.6692</td>\n",
       "      <td>0.6706</td>\n",
       "    </tr>\n",
       "    <tr>\n",
       "      <th>3</th>\n",
       "      <td>{'C': 1, 'l1_ratio': 0.09, 'penalty': 'elastic...</td>\n",
       "      <td>-0.14</td>\n",
       "      <td>0.6692</td>\n",
       "      <td>0.6706</td>\n",
       "    </tr>\n",
       "    <tr>\n",
       "      <th>4</th>\n",
       "      <td>{'C': 1, 'l1_ratio': 0.5, 'penalty': 'elasticn...</td>\n",
       "      <td>-0.14</td>\n",
       "      <td>0.6692</td>\n",
       "      <td>0.6706</td>\n",
       "    </tr>\n",
       "    <tr>\n",
       "      <th>5</th>\n",
       "      <td>{'C': 1, 'l1_ratio': 0.7, 'penalty': 'elasticn...</td>\n",
       "      <td>-0.14</td>\n",
       "      <td>0.6692</td>\n",
       "      <td>0.6706</td>\n",
       "    </tr>\n",
       "    <tr>\n",
       "      <th>6</th>\n",
       "      <td>{'C': 1, 'l1_ratio': 0.09, 'penalty': 'elastic...</td>\n",
       "      <td>-0.14</td>\n",
       "      <td>0.6692</td>\n",
       "      <td>0.6706</td>\n",
       "    </tr>\n",
       "  </tbody>\n",
       "</table>\n",
       "</div>"
      ],
      "text/plain": [
       "                                          diz_params  degree_overfitting(%)  \\\n",
       "1  {'C': 1, 'l1_ratio': 0.5, 'penalty': 'elasticn...                  -0.14   \n",
       "2  {'C': 1, 'l1_ratio': 0.7, 'penalty': 'elasticn...                  -0.14   \n",
       "3  {'C': 1, 'l1_ratio': 0.09, 'penalty': 'elastic...                  -0.14   \n",
       "4  {'C': 1, 'l1_ratio': 0.5, 'penalty': 'elasticn...                  -0.14   \n",
       "5  {'C': 1, 'l1_ratio': 0.7, 'penalty': 'elasticn...                  -0.14   \n",
       "6  {'C': 1, 'l1_ratio': 0.09, 'penalty': 'elastic...                  -0.14   \n",
       "\n",
       "   roc_train  roc_test  \n",
       "1     0.6692    0.6706  \n",
       "2     0.6692    0.6706  \n",
       "3     0.6692    0.6706  \n",
       "4     0.6692    0.6706  \n",
       "5     0.6692    0.6706  \n",
       "6     0.6692    0.6706  "
      ]
     },
     "execution_count": 369,
     "metadata": {},
     "output_type": "execute_result"
    }
   ],
   "source": [
    "logistic= LogisticRegression(random_state=0, solver= 'saga',  class_weight='balanced') # fit_intercept= True di deafult, quindi apposto V\n",
    "\n",
    "param_grid_enet  = {\"penalty\": ['elasticnet'],  \n",
    "            \"C\" : list(reduced_lasso.index) + [1],\n",
    "            'l1_ratio': [0.5, 0.7, .09]}\n",
    "\n",
    "\n",
    "grid_ridge_elastic = run_model_no_val(estimator=logistic, X_train= preliminary_train, X_test= preliminary_test, param_grid= param_grid_enet )\n",
    "\n",
    "grid_ridge_elastic"
   ]
  },
  {
   "cell_type": "code",
   "execution_count": 363,
   "metadata": {},
   "outputs": [
    {
     "data": {
      "text/plain": [
       "\"# load the model from disk \\nprova = pickle.load(open(filename, 'rb'))\\nprova \""
      ]
     },
     "execution_count": 363,
     "metadata": {},
     "output_type": "execute_result"
    }
   ],
   "source": [
    "# save the model to disk\n",
    "import pickle\n",
    "\n",
    "#filename = '/Users/federicofrancone/Desktop/lasso_Model_D_0_' + str(len(sel_columns_lasso)) + '.sav'\n",
    "#pickle.dump(logistic, open(filename, 'wb'))\n",
    "\n",
    "\"\"\"# load the model from disk \n",
    "prova = pickle.load(open(filename, 'rb'))\n",
    "prova \"\"\""
   ]
  },
  {
   "cell_type": "markdown",
   "metadata": {
    "colab_type": "text",
    "id": "-64rNILce7c5"
   },
   "source": [
    "# <font color= 'red'> Random Forest"
   ]
  },
  {
   "cell_type": "code",
   "execution_count": 625,
   "metadata": {
    "colab": {},
    "colab_type": "code",
    "id": "xHEBv2PRe7c6"
   },
   "outputs": [],
   "source": [
    "rf= RandomForestClassifier(n_estimators= 10, criterion= 'gini', random_state=0, class_weight= 'balanced')"
   ]
  },
  {
   "cell_type": "code",
   "execution_count": 365,
   "metadata": {
    "colab": {
     "base_uri": "https://localhost:8080/",
     "height": 1000
    },
    "colab_type": "code",
    "executionInfo": {
     "elapsed": 214255,
     "status": "ok",
     "timestamp": 1580694458014,
     "user": {
      "displayName": "Federico Francone",
      "photoUrl": "https://lh3.googleusercontent.com/a-/AAuE7mCvT-5R0e3T46w8v1AsqxSyhT-fEY26ltek6aRh=s64",
      "userId": "16122115063472740860"
     },
     "user_tz": -60
    },
    "id": "TbVfXV08e7c7",
    "outputId": "61c59467-03c1-4e63-d15e-cac72feeb1fd",
    "scrolled": true
   },
   "outputs": [
    {
     "name": "stdout",
     "output_type": "stream",
     "text": [
      "Shape di X_train e X_test sono:  (78436, 25) (33613, 25)\n",
      "\n",
      "\t \u001b[1mITERATION 1/16 \u001b[0m\n",
      "\t Current Grid of Parameters is {'criterion': 'gini', 'max_depth': 2, 'min_impurity_decrease': 0.001, 'min_samples_leaf': 30, 'n_estimators': 100}\n",
      "\n",
      "\u001b[1mROC Train is 0.6516, ROC Test is 0.6507\u001b[0m\n",
      "RandomForestClassifier(bootstrap=True, ccp_alpha=0.0, class_weight='balanced',\n",
      "                       criterion='gini', max_depth=2, max_features='auto',\n",
      "                       max_leaf_nodes=None, max_samples=None,\n",
      "                       min_impurity_decrease=0.001, min_impurity_split=None,\n",
      "                       min_samples_leaf=30, min_samples_split=2,\n",
      "                       min_weight_fraction_leaf=0.0, n_estimators=100,\n",
      "                       n_jobs=None, oob_score=False, random_state=0, verbose=0,\n",
      "                       warm_start=False)\n",
      "\n",
      "\t \u001b[1mITERATION 2/16 \u001b[0m\n",
      "\t Current Grid of Parameters is {'criterion': 'gini', 'max_depth': 2, 'min_impurity_decrease': 0.001, 'min_samples_leaf': 30, 'n_estimators': 300}\n",
      "\n",
      "\u001b[1mROC Train is 0.6535, ROC Test is 0.6526\u001b[0m\n",
      "RandomForestClassifier(bootstrap=True, ccp_alpha=0.0, class_weight='balanced',\n",
      "                       criterion='gini', max_depth=2, max_features='auto',\n",
      "                       max_leaf_nodes=None, max_samples=None,\n",
      "                       min_impurity_decrease=0.001, min_impurity_split=None,\n",
      "                       min_samples_leaf=30, min_samples_split=2,\n",
      "                       min_weight_fraction_leaf=0.0, n_estimators=300,\n",
      "                       n_jobs=None, oob_score=False, random_state=0, verbose=0,\n",
      "                       warm_start=False)\n",
      "\n",
      "\t \u001b[1mITERATION 3/16 \u001b[0m\n",
      "\t Current Grid of Parameters is {'criterion': 'gini', 'max_depth': 2, 'min_impurity_decrease': 0.001, 'min_samples_leaf': 60, 'n_estimators': 100}\n",
      "\n",
      "\u001b[1mROC Train is 0.6516, ROC Test is 0.6507\u001b[0m\n",
      "RandomForestClassifier(bootstrap=True, ccp_alpha=0.0, class_weight='balanced',\n",
      "                       criterion='gini', max_depth=2, max_features='auto',\n",
      "                       max_leaf_nodes=None, max_samples=None,\n",
      "                       min_impurity_decrease=0.001, min_impurity_split=None,\n",
      "                       min_samples_leaf=60, min_samples_split=2,\n",
      "                       min_weight_fraction_leaf=0.0, n_estimators=100,\n",
      "                       n_jobs=None, oob_score=False, random_state=0, verbose=0,\n",
      "                       warm_start=False)\n",
      "\n",
      "\t \u001b[1mITERATION 4/16 \u001b[0m\n",
      "\t Current Grid of Parameters is {'criterion': 'gini', 'max_depth': 2, 'min_impurity_decrease': 0.001, 'min_samples_leaf': 60, 'n_estimators': 300}\n",
      "\n",
      "\u001b[1mROC Train is 0.6535, ROC Test is 0.6526\u001b[0m\n",
      "RandomForestClassifier(bootstrap=True, ccp_alpha=0.0, class_weight='balanced',\n",
      "                       criterion='gini', max_depth=2, max_features='auto',\n",
      "                       max_leaf_nodes=None, max_samples=None,\n",
      "                       min_impurity_decrease=0.001, min_impurity_split=None,\n",
      "                       min_samples_leaf=60, min_samples_split=2,\n",
      "                       min_weight_fraction_leaf=0.0, n_estimators=300,\n",
      "                       n_jobs=None, oob_score=False, random_state=0, verbose=0,\n",
      "                       warm_start=False)\n",
      "\n",
      "\t \u001b[1mITERATION 5/16 \u001b[0m\n",
      "\t Current Grid of Parameters is {'criterion': 'gini', 'max_depth': 2, 'min_impurity_decrease': 1e-06, 'min_samples_leaf': 30, 'n_estimators': 100}\n",
      "\n",
      "\u001b[1mROC Train is 0.6519, ROC Test is 0.6509\u001b[0m\n",
      "RandomForestClassifier(bootstrap=True, ccp_alpha=0.0, class_weight='balanced',\n",
      "                       criterion='gini', max_depth=2, max_features='auto',\n",
      "                       max_leaf_nodes=None, max_samples=None,\n",
      "                       min_impurity_decrease=1e-06, min_impurity_split=None,\n",
      "                       min_samples_leaf=30, min_samples_split=2,\n",
      "                       min_weight_fraction_leaf=0.0, n_estimators=100,\n",
      "                       n_jobs=None, oob_score=False, random_state=0, verbose=0,\n",
      "                       warm_start=False)\n",
      "\n",
      "\t \u001b[1mITERATION 6/16 \u001b[0m\n",
      "\t Current Grid of Parameters is {'criterion': 'gini', 'max_depth': 2, 'min_impurity_decrease': 1e-06, 'min_samples_leaf': 30, 'n_estimators': 300}\n",
      "\n",
      "\u001b[1mROC Train is 0.6537, ROC Test is 0.6527\u001b[0m\n",
      "RandomForestClassifier(bootstrap=True, ccp_alpha=0.0, class_weight='balanced',\n",
      "                       criterion='gini', max_depth=2, max_features='auto',\n",
      "                       max_leaf_nodes=None, max_samples=None,\n",
      "                       min_impurity_decrease=1e-06, min_impurity_split=None,\n",
      "                       min_samples_leaf=30, min_samples_split=2,\n",
      "                       min_weight_fraction_leaf=0.0, n_estimators=300,\n",
      "                       n_jobs=None, oob_score=False, random_state=0, verbose=0,\n",
      "                       warm_start=False)\n",
      "\n",
      "\t \u001b[1mITERATION 7/16 \u001b[0m\n",
      "\t Current Grid of Parameters is {'criterion': 'gini', 'max_depth': 2, 'min_impurity_decrease': 1e-06, 'min_samples_leaf': 60, 'n_estimators': 100}\n",
      "\n",
      "\u001b[1mROC Train is 0.6519, ROC Test is 0.6509\u001b[0m\n",
      "RandomForestClassifier(bootstrap=True, ccp_alpha=0.0, class_weight='balanced',\n",
      "                       criterion='gini', max_depth=2, max_features='auto',\n",
      "                       max_leaf_nodes=None, max_samples=None,\n",
      "                       min_impurity_decrease=1e-06, min_impurity_split=None,\n",
      "                       min_samples_leaf=60, min_samples_split=2,\n",
      "                       min_weight_fraction_leaf=0.0, n_estimators=100,\n",
      "                       n_jobs=None, oob_score=False, random_state=0, verbose=0,\n",
      "                       warm_start=False)\n",
      "\n",
      "\t \u001b[1mITERATION 8/16 \u001b[0m\n",
      "\t Current Grid of Parameters is {'criterion': 'gini', 'max_depth': 2, 'min_impurity_decrease': 1e-06, 'min_samples_leaf': 60, 'n_estimators': 300}\n",
      "\n",
      "\u001b[1mROC Train is 0.6537, ROC Test is 0.6527\u001b[0m\n",
      "RandomForestClassifier(bootstrap=True, ccp_alpha=0.0, class_weight='balanced',\n",
      "                       criterion='gini', max_depth=2, max_features='auto',\n",
      "                       max_leaf_nodes=None, max_samples=None,\n",
      "                       min_impurity_decrease=1e-06, min_impurity_split=None,\n",
      "                       min_samples_leaf=60, min_samples_split=2,\n",
      "                       min_weight_fraction_leaf=0.0, n_estimators=300,\n",
      "                       n_jobs=None, oob_score=False, random_state=0, verbose=0,\n",
      "                       warm_start=False)\n",
      "\n",
      "\t \u001b[1mITERATION 9/16 \u001b[0m\n",
      "\t Current Grid of Parameters is {'criterion': 'gini', 'max_depth': 5, 'min_impurity_decrease': 0.001, 'min_samples_leaf': 30, 'n_estimators': 100}\n",
      "\n",
      "\u001b[1mROC Train is 0.6616, ROC Test is 0.6575\u001b[0m\n",
      "RandomForestClassifier(bootstrap=True, ccp_alpha=0.0, class_weight='balanced',\n",
      "                       criterion='gini', max_depth=5, max_features='auto',\n",
      "                       max_leaf_nodes=None, max_samples=None,\n",
      "                       min_impurity_decrease=0.001, min_impurity_split=None,\n",
      "                       min_samples_leaf=30, min_samples_split=2,\n",
      "                       min_weight_fraction_leaf=0.0, n_estimators=100,\n",
      "                       n_jobs=None, oob_score=False, random_state=0, verbose=0,\n",
      "                       warm_start=False)\n",
      "\n",
      "\t \u001b[1mITERATION 10/16 \u001b[0m\n",
      "\t Current Grid of Parameters is {'criterion': 'gini', 'max_depth': 5, 'min_impurity_decrease': 0.001, 'min_samples_leaf': 30, 'n_estimators': 300}\n",
      "\n",
      "\u001b[1mROC Train is 0.6627, ROC Test is 0.6591\u001b[0m\n",
      "RandomForestClassifier(bootstrap=True, ccp_alpha=0.0, class_weight='balanced',\n",
      "                       criterion='gini', max_depth=5, max_features='auto',\n",
      "                       max_leaf_nodes=None, max_samples=None,\n",
      "                       min_impurity_decrease=0.001, min_impurity_split=None,\n",
      "                       min_samples_leaf=30, min_samples_split=2,\n",
      "                       min_weight_fraction_leaf=0.0, n_estimators=300,\n",
      "                       n_jobs=None, oob_score=False, random_state=0, verbose=0,\n",
      "                       warm_start=False)\n",
      "\n",
      "\t \u001b[1mITERATION 11/16 \u001b[0m\n",
      "\t Current Grid of Parameters is {'criterion': 'gini', 'max_depth': 5, 'min_impurity_decrease': 0.001, 'min_samples_leaf': 60, 'n_estimators': 100}\n",
      "\n",
      "\u001b[1mROC Train is 0.6616, ROC Test is 0.6575\u001b[0m\n",
      "RandomForestClassifier(bootstrap=True, ccp_alpha=0.0, class_weight='balanced',\n",
      "                       criterion='gini', max_depth=5, max_features='auto',\n",
      "                       max_leaf_nodes=None, max_samples=None,\n",
      "                       min_impurity_decrease=0.001, min_impurity_split=None,\n",
      "                       min_samples_leaf=60, min_samples_split=2,\n",
      "                       min_weight_fraction_leaf=0.0, n_estimators=100,\n",
      "                       n_jobs=None, oob_score=False, random_state=0, verbose=0,\n",
      "                       warm_start=False)\n",
      "\n",
      "\t \u001b[1mITERATION 12/16 \u001b[0m\n",
      "\t Current Grid of Parameters is {'criterion': 'gini', 'max_depth': 5, 'min_impurity_decrease': 0.001, 'min_samples_leaf': 60, 'n_estimators': 300}\n"
     ]
    },
    {
     "name": "stdout",
     "output_type": "stream",
     "text": [
      "\n",
      "\u001b[1mROC Train is 0.6627, ROC Test is 0.6591\u001b[0m\n",
      "RandomForestClassifier(bootstrap=True, ccp_alpha=0.0, class_weight='balanced',\n",
      "                       criterion='gini', max_depth=5, max_features='auto',\n",
      "                       max_leaf_nodes=None, max_samples=None,\n",
      "                       min_impurity_decrease=0.001, min_impurity_split=None,\n",
      "                       min_samples_leaf=60, min_samples_split=2,\n",
      "                       min_weight_fraction_leaf=0.0, n_estimators=300,\n",
      "                       n_jobs=None, oob_score=False, random_state=0, verbose=0,\n",
      "                       warm_start=False)\n",
      "\n",
      "\t \u001b[1mITERATION 13/16 \u001b[0m\n",
      "\t Current Grid of Parameters is {'criterion': 'gini', 'max_depth': 5, 'min_impurity_decrease': 1e-06, 'min_samples_leaf': 30, 'n_estimators': 100}\n",
      "\n",
      "\u001b[1mROC Train is 0.6786, ROC Test is 0.668\u001b[0m\n",
      "RandomForestClassifier(bootstrap=True, ccp_alpha=0.0, class_weight='balanced',\n",
      "                       criterion='gini', max_depth=5, max_features='auto',\n",
      "                       max_leaf_nodes=None, max_samples=None,\n",
      "                       min_impurity_decrease=1e-06, min_impurity_split=None,\n",
      "                       min_samples_leaf=30, min_samples_split=2,\n",
      "                       min_weight_fraction_leaf=0.0, n_estimators=100,\n",
      "                       n_jobs=None, oob_score=False, random_state=0, verbose=0,\n",
      "                       warm_start=False)\n",
      "\n",
      "\t \u001b[1mITERATION 14/16 \u001b[0m\n",
      "\t Current Grid of Parameters is {'criterion': 'gini', 'max_depth': 5, 'min_impurity_decrease': 1e-06, 'min_samples_leaf': 30, 'n_estimators': 300}\n",
      "\n",
      "\u001b[1mROC Train is 0.6791, ROC Test is 0.6687\u001b[0m\n",
      "RandomForestClassifier(bootstrap=True, ccp_alpha=0.0, class_weight='balanced',\n",
      "                       criterion='gini', max_depth=5, max_features='auto',\n",
      "                       max_leaf_nodes=None, max_samples=None,\n",
      "                       min_impurity_decrease=1e-06, min_impurity_split=None,\n",
      "                       min_samples_leaf=30, min_samples_split=2,\n",
      "                       min_weight_fraction_leaf=0.0, n_estimators=300,\n",
      "                       n_jobs=None, oob_score=False, random_state=0, verbose=0,\n",
      "                       warm_start=False)\n",
      "\n",
      "\t \u001b[1mITERATION 15/16 \u001b[0m\n",
      "\t Current Grid of Parameters is {'criterion': 'gini', 'max_depth': 5, 'min_impurity_decrease': 1e-06, 'min_samples_leaf': 60, 'n_estimators': 100}\n",
      "\n",
      "\u001b[1mROC Train is 0.6786, ROC Test is 0.6684\u001b[0m\n",
      "RandomForestClassifier(bootstrap=True, ccp_alpha=0.0, class_weight='balanced',\n",
      "                       criterion='gini', max_depth=5, max_features='auto',\n",
      "                       max_leaf_nodes=None, max_samples=None,\n",
      "                       min_impurity_decrease=1e-06, min_impurity_split=None,\n",
      "                       min_samples_leaf=60, min_samples_split=2,\n",
      "                       min_weight_fraction_leaf=0.0, n_estimators=100,\n",
      "                       n_jobs=None, oob_score=False, random_state=0, verbose=0,\n",
      "                       warm_start=False)\n",
      "\n",
      "\t \u001b[1mITERATION 16/16 \u001b[0m\n",
      "\t Current Grid of Parameters is {'criterion': 'gini', 'max_depth': 5, 'min_impurity_decrease': 1e-06, 'min_samples_leaf': 60, 'n_estimators': 300}\n",
      "\n",
      "\u001b[1mROC Train is 0.6785, ROC Test is 0.6688\u001b[0m\n",
      "RandomForestClassifier(bootstrap=True, ccp_alpha=0.0, class_weight='balanced',\n",
      "                       criterion='gini', max_depth=5, max_features='auto',\n",
      "                       max_leaf_nodes=None, max_samples=None,\n",
      "                       min_impurity_decrease=1e-06, min_impurity_split=None,\n",
      "                       min_samples_leaf=60, min_samples_split=2,\n",
      "                       min_weight_fraction_leaf=0.0, n_estimators=300,\n",
      "                       n_jobs=None, oob_score=False, random_state=0, verbose=0,\n",
      "                       warm_start=False)\n",
      "execution time (min)= 2.4  finished at  2020-03-18 12:10:02.471145\n"
     ]
    },
    {
     "data": {
      "text/html": [
       "<div>\n",
       "<style scoped>\n",
       "    .dataframe tbody tr th:only-of-type {\n",
       "        vertical-align: middle;\n",
       "    }\n",
       "\n",
       "    .dataframe tbody tr th {\n",
       "        vertical-align: top;\n",
       "    }\n",
       "\n",
       "    .dataframe thead th {\n",
       "        text-align: right;\n",
       "    }\n",
       "</style>\n",
       "<table border=\"1\" class=\"dataframe\">\n",
       "  <thead>\n",
       "    <tr style=\"text-align: right;\">\n",
       "      <th></th>\n",
       "      <th>diz_params</th>\n",
       "      <th>degree_overfitting(%)</th>\n",
       "      <th>roc_train</th>\n",
       "      <th>roc_test</th>\n",
       "    </tr>\n",
       "  </thead>\n",
       "  <tbody>\n",
       "    <tr>\n",
       "      <th>16</th>\n",
       "      <td>{'criterion': 'gini', 'max_depth': 5, 'min_imp...</td>\n",
       "      <td>0.97</td>\n",
       "      <td>0.6785</td>\n",
       "      <td>0.6688</td>\n",
       "    </tr>\n",
       "    <tr>\n",
       "      <th>14</th>\n",
       "      <td>{'criterion': 'gini', 'max_depth': 5, 'min_imp...</td>\n",
       "      <td>1.04</td>\n",
       "      <td>0.6791</td>\n",
       "      <td>0.6687</td>\n",
       "    </tr>\n",
       "    <tr>\n",
       "      <th>15</th>\n",
       "      <td>{'criterion': 'gini', 'max_depth': 5, 'min_imp...</td>\n",
       "      <td>1.02</td>\n",
       "      <td>0.6786</td>\n",
       "      <td>0.6684</td>\n",
       "    </tr>\n",
       "    <tr>\n",
       "      <th>13</th>\n",
       "      <td>{'criterion': 'gini', 'max_depth': 5, 'min_imp...</td>\n",
       "      <td>1.06</td>\n",
       "      <td>0.6786</td>\n",
       "      <td>0.6680</td>\n",
       "    </tr>\n",
       "    <tr>\n",
       "      <th>10</th>\n",
       "      <td>{'criterion': 'gini', 'max_depth': 5, 'min_imp...</td>\n",
       "      <td>0.36</td>\n",
       "      <td>0.6627</td>\n",
       "      <td>0.6591</td>\n",
       "    </tr>\n",
       "    <tr>\n",
       "      <th>12</th>\n",
       "      <td>{'criterion': 'gini', 'max_depth': 5, 'min_imp...</td>\n",
       "      <td>0.36</td>\n",
       "      <td>0.6627</td>\n",
       "      <td>0.6591</td>\n",
       "    </tr>\n",
       "    <tr>\n",
       "      <th>9</th>\n",
       "      <td>{'criterion': 'gini', 'max_depth': 5, 'min_imp...</td>\n",
       "      <td>0.41</td>\n",
       "      <td>0.6616</td>\n",
       "      <td>0.6575</td>\n",
       "    </tr>\n",
       "    <tr>\n",
       "      <th>11</th>\n",
       "      <td>{'criterion': 'gini', 'max_depth': 5, 'min_imp...</td>\n",
       "      <td>0.41</td>\n",
       "      <td>0.6616</td>\n",
       "      <td>0.6575</td>\n",
       "    </tr>\n",
       "    <tr>\n",
       "      <th>6</th>\n",
       "      <td>{'criterion': 'gini', 'max_depth': 2, 'min_imp...</td>\n",
       "      <td>0.10</td>\n",
       "      <td>0.6537</td>\n",
       "      <td>0.6527</td>\n",
       "    </tr>\n",
       "    <tr>\n",
       "      <th>8</th>\n",
       "      <td>{'criterion': 'gini', 'max_depth': 2, 'min_imp...</td>\n",
       "      <td>0.10</td>\n",
       "      <td>0.6537</td>\n",
       "      <td>0.6527</td>\n",
       "    </tr>\n",
       "    <tr>\n",
       "      <th>2</th>\n",
       "      <td>{'criterion': 'gini', 'max_depth': 2, 'min_imp...</td>\n",
       "      <td>0.09</td>\n",
       "      <td>0.6535</td>\n",
       "      <td>0.6526</td>\n",
       "    </tr>\n",
       "    <tr>\n",
       "      <th>4</th>\n",
       "      <td>{'criterion': 'gini', 'max_depth': 2, 'min_imp...</td>\n",
       "      <td>0.09</td>\n",
       "      <td>0.6535</td>\n",
       "      <td>0.6526</td>\n",
       "    </tr>\n",
       "    <tr>\n",
       "      <th>5</th>\n",
       "      <td>{'criterion': 'gini', 'max_depth': 2, 'min_imp...</td>\n",
       "      <td>0.10</td>\n",
       "      <td>0.6519</td>\n",
       "      <td>0.6509</td>\n",
       "    </tr>\n",
       "    <tr>\n",
       "      <th>7</th>\n",
       "      <td>{'criterion': 'gini', 'max_depth': 2, 'min_imp...</td>\n",
       "      <td>0.10</td>\n",
       "      <td>0.6519</td>\n",
       "      <td>0.6509</td>\n",
       "    </tr>\n",
       "    <tr>\n",
       "      <th>1</th>\n",
       "      <td>{'criterion': 'gini', 'max_depth': 2, 'min_imp...</td>\n",
       "      <td>0.09</td>\n",
       "      <td>0.6516</td>\n",
       "      <td>0.6507</td>\n",
       "    </tr>\n",
       "    <tr>\n",
       "      <th>3</th>\n",
       "      <td>{'criterion': 'gini', 'max_depth': 2, 'min_imp...</td>\n",
       "      <td>0.09</td>\n",
       "      <td>0.6516</td>\n",
       "      <td>0.6507</td>\n",
       "    </tr>\n",
       "  </tbody>\n",
       "</table>\n",
       "</div>"
      ],
      "text/plain": [
       "                                           diz_params  degree_overfitting(%)  \\\n",
       "16  {'criterion': 'gini', 'max_depth': 5, 'min_imp...                   0.97   \n",
       "14  {'criterion': 'gini', 'max_depth': 5, 'min_imp...                   1.04   \n",
       "15  {'criterion': 'gini', 'max_depth': 5, 'min_imp...                   1.02   \n",
       "13  {'criterion': 'gini', 'max_depth': 5, 'min_imp...                   1.06   \n",
       "10  {'criterion': 'gini', 'max_depth': 5, 'min_imp...                   0.36   \n",
       "12  {'criterion': 'gini', 'max_depth': 5, 'min_imp...                   0.36   \n",
       "9   {'criterion': 'gini', 'max_depth': 5, 'min_imp...                   0.41   \n",
       "11  {'criterion': 'gini', 'max_depth': 5, 'min_imp...                   0.41   \n",
       "6   {'criterion': 'gini', 'max_depth': 2, 'min_imp...                   0.10   \n",
       "8   {'criterion': 'gini', 'max_depth': 2, 'min_imp...                   0.10   \n",
       "2   {'criterion': 'gini', 'max_depth': 2, 'min_imp...                   0.09   \n",
       "4   {'criterion': 'gini', 'max_depth': 2, 'min_imp...                   0.09   \n",
       "5   {'criterion': 'gini', 'max_depth': 2, 'min_imp...                   0.10   \n",
       "7   {'criterion': 'gini', 'max_depth': 2, 'min_imp...                   0.10   \n",
       "1   {'criterion': 'gini', 'max_depth': 2, 'min_imp...                   0.09   \n",
       "3   {'criterion': 'gini', 'max_depth': 2, 'min_imp...                   0.09   \n",
       "\n",
       "    roc_train  roc_test  \n",
       "16     0.6785    0.6688  \n",
       "14     0.6791    0.6687  \n",
       "15     0.6786    0.6684  \n",
       "13     0.6786    0.6680  \n",
       "10     0.6627    0.6591  \n",
       "12     0.6627    0.6591  \n",
       "9      0.6616    0.6575  \n",
       "11     0.6616    0.6575  \n",
       "6      0.6537    0.6527  \n",
       "8      0.6537    0.6527  \n",
       "2      0.6535    0.6526  \n",
       "4      0.6535    0.6526  \n",
       "5      0.6519    0.6509  \n",
       "7      0.6519    0.6509  \n",
       "1      0.6516    0.6507  \n",
       "3      0.6516    0.6507  "
      ]
     },
     "execution_count": 365,
     "metadata": {},
     "output_type": "execute_result"
    }
   ],
   "source": [
    "param_rf= {\n",
    "    \"criterion\": ['gini'],\n",
    "    \"n_estimators\" : [100, 300], \n",
    "    \"min_impurity_decrease\" :  [1e-03, 1e-06],\n",
    "    \"min_samples_leaf\": [30, 60], #30\n",
    "    \"max_depth\": [2, 5],\n",
    "}  \n",
    "\n",
    "best_rf = run_model_no_val(estimator=rf, X_train= preliminary_train, X_test= preliminary_test, param_grid= param_rf)\n",
    "best_rf"
   ]
  },
  {
   "cell_type": "code",
   "execution_count": 372,
   "metadata": {
    "colab": {
     "base_uri": "https://localhost:8080/",
     "height": 102
    },
    "colab_type": "code",
    "executionInfo": {
     "elapsed": 452,
     "status": "ok",
     "timestamp": 1580694544081,
     "user": {
      "displayName": "Federico Francone",
      "photoUrl": "https://lh3.googleusercontent.com/a-/AAuE7mCvT-5R0e3T46w8v1AsqxSyhT-fEY26ltek6aRh=s64",
      "userId": "16122115063472740860"
     },
     "user_tz": -60
    },
    "id": "qG-Epjy4e7c-",
    "outputId": "d4d328c5-f47b-4ddb-91b0-922da19ad2a2"
   },
   "outputs": [
    {
     "data": {
      "text/plain": [
       "{'criterion': 'gini',\n",
       " 'max_depth': 5,\n",
       " 'min_impurity_decrease': 1e-06,\n",
       " 'min_samples_leaf': 60,\n",
       " 'n_estimators': 300}"
      ]
     },
     "execution_count": 372,
     "metadata": {},
     "output_type": "execute_result"
    }
   ],
   "source": [
    "best_rf.iloc[0]['diz_params']"
   ]
  },
  {
   "cell_type": "markdown",
   "metadata": {
    "colab_type": "text",
    "id": "jYnrG8Xte7dK"
   },
   "source": [
    "# <font color= 'red'> XGBOOST"
   ]
  },
  {
   "cell_type": "code",
   "execution_count": 531,
   "metadata": {
    "colab": {
     "base_uri": "https://localhost:8080/",
     "height": 1000
    },
    "colab_type": "code",
    "executionInfo": {
     "elapsed": 76958,
     "status": "ok",
     "timestamp": 1580695213494,
     "user": {
      "displayName": "Federico Francone",
      "photoUrl": "https://lh3.googleusercontent.com/a-/AAuE7mCvT-5R0e3T46w8v1AsqxSyhT-fEY26ltek6aRh=s64",
      "userId": "16122115063472740860"
     },
     "user_tz": -60
    },
    "id": "Z_eN4JQ9e7dK",
    "outputId": "05cecca6-1611-45c0-8bc2-1af152a644ca",
    "scrolled": true
   },
   "outputs": [
    {
     "name": "stdout",
     "output_type": "stream",
     "text": [
      "Shape di X_train e X_test sono:  (78436, 25) (33613, 25)\n",
      "\n",
      "\t \u001b[1mITERATION 1/6 \u001b[0m\n",
      "\t Current Grid of Parameters is {'colsample_bytree': 1, 'gamma': 0.7, 'learning_rate': 0.05, 'max_depth': 1, 'min_child_weight': 0.7, 'n_estimators': 200, 'reg_alpha': 1, 'reg_lambda': 0, 'scale_pos_weight': 1, 'subsample': 0.6}\n",
      "\n",
      "\u001b[1mROC Train is 0.6744, ROC Test is 0.671\u001b[0m\n",
      "XGBClassifier(base_score=0.5, booster='gbtree', colsample_bylevel=1,\n",
      "              colsample_bytree=1, gamma=0.7, learning_rate=0.05,\n",
      "              max_delta_step=0, max_depth=1, min_child_weight=0.7, missing=None,\n",
      "              n_estimators=200, n_jobs=1, nthread=None,\n",
      "              objective='binary:logistic', random_state=0, reg_alpha=1,\n",
      "              reg_lambda=0, scale_pos_weight=1, seed=None, silent=True,\n",
      "              subsample=0.6)\n",
      "\n",
      "\t \u001b[1mITERATION 2/6 \u001b[0m\n",
      "\t Current Grid of Parameters is {'colsample_bytree': 1, 'gamma': 0.7, 'learning_rate': 0.05, 'max_depth': 2, 'min_child_weight': 0.7, 'n_estimators': 200, 'reg_alpha': 1, 'reg_lambda': 0, 'scale_pos_weight': 1, 'subsample': 0.6}\n",
      "\n",
      "\u001b[1mROC Train is 0.691, ROC Test is 0.6811\u001b[0m\n",
      "XGBClassifier(base_score=0.5, booster='gbtree', colsample_bylevel=1,\n",
      "              colsample_bytree=1, gamma=0.7, learning_rate=0.05,\n",
      "              max_delta_step=0, max_depth=2, min_child_weight=0.7, missing=None,\n",
      "              n_estimators=200, n_jobs=1, nthread=None,\n",
      "              objective='binary:logistic', random_state=0, reg_alpha=1,\n",
      "              reg_lambda=0, scale_pos_weight=1, seed=None, silent=True,\n",
      "              subsample=0.6)\n",
      "\n",
      "\t \u001b[1mITERATION 3/6 \u001b[0m\n",
      "\t Current Grid of Parameters is {'colsample_bytree': 1, 'gamma': 0.7, 'learning_rate': 0.01, 'max_depth': 1, 'min_child_weight': 0.7, 'n_estimators': 200, 'reg_alpha': 1, 'reg_lambda': 0, 'scale_pos_weight': 1, 'subsample': 0.6}\n",
      "\n",
      "\u001b[1mROC Train is 0.6456, ROC Test is 0.6449\u001b[0m\n",
      "XGBClassifier(base_score=0.5, booster='gbtree', colsample_bylevel=1,\n",
      "              colsample_bytree=1, gamma=0.7, learning_rate=0.01,\n",
      "              max_delta_step=0, max_depth=1, min_child_weight=0.7, missing=None,\n",
      "              n_estimators=200, n_jobs=1, nthread=None,\n",
      "              objective='binary:logistic', random_state=0, reg_alpha=1,\n",
      "              reg_lambda=0, scale_pos_weight=1, seed=None, silent=True,\n",
      "              subsample=0.6)\n",
      "\n",
      "\t \u001b[1mITERATION 4/6 \u001b[0m\n",
      "\t Current Grid of Parameters is {'colsample_bytree': 1, 'gamma': 0.7, 'learning_rate': 0.01, 'max_depth': 2, 'min_child_weight': 0.7, 'n_estimators': 200, 'reg_alpha': 1, 'reg_lambda': 0, 'scale_pos_weight': 1, 'subsample': 0.6}\n",
      "\n",
      "\u001b[1mROC Train is 0.6628, ROC Test is 0.6592\u001b[0m\n",
      "XGBClassifier(base_score=0.5, booster='gbtree', colsample_bylevel=1,\n",
      "              colsample_bytree=1, gamma=0.7, learning_rate=0.01,\n",
      "              max_delta_step=0, max_depth=2, min_child_weight=0.7, missing=None,\n",
      "              n_estimators=200, n_jobs=1, nthread=None,\n",
      "              objective='binary:logistic', random_state=0, reg_alpha=1,\n",
      "              reg_lambda=0, scale_pos_weight=1, seed=None, silent=True,\n",
      "              subsample=0.6)\n",
      "\n",
      "\t \u001b[1mITERATION 5/6 \u001b[0m\n",
      "\t Current Grid of Parameters is {'colsample_bytree': 1, 'gamma': 0.7, 'learning_rate': 0.1, 'max_depth': 1, 'min_child_weight': 0.7, 'n_estimators': 200, 'reg_alpha': 1, 'reg_lambda': 0, 'scale_pos_weight': 1, 'subsample': 0.6}\n",
      "\n",
      "\u001b[1mROC Train is 0.6842, ROC Test is 0.6784\u001b[0m\n",
      "XGBClassifier(base_score=0.5, booster='gbtree', colsample_bylevel=1,\n",
      "              colsample_bytree=1, gamma=0.7, learning_rate=0.1,\n",
      "              max_delta_step=0, max_depth=1, min_child_weight=0.7, missing=None,\n",
      "              n_estimators=200, n_jobs=1, nthread=None,\n",
      "              objective='binary:logistic', random_state=0, reg_alpha=1,\n",
      "              reg_lambda=0, scale_pos_weight=1, seed=None, silent=True,\n",
      "              subsample=0.6)\n",
      "\n",
      "\t \u001b[1mITERATION 6/6 \u001b[0m\n",
      "\t Current Grid of Parameters is {'colsample_bytree': 1, 'gamma': 0.7, 'learning_rate': 0.1, 'max_depth': 2, 'min_child_weight': 0.7, 'n_estimators': 200, 'reg_alpha': 1, 'reg_lambda': 0, 'scale_pos_weight': 1, 'subsample': 0.6}\n",
      "\n",
      "\u001b[1mROC Train is 0.699, ROC Test is 0.685\u001b[0m\n",
      "XGBClassifier(base_score=0.5, booster='gbtree', colsample_bylevel=1,\n",
      "              colsample_bytree=1, gamma=0.7, learning_rate=0.1,\n",
      "              max_delta_step=0, max_depth=2, min_child_weight=0.7, missing=None,\n",
      "              n_estimators=200, n_jobs=1, nthread=None,\n",
      "              objective='binary:logistic', random_state=0, reg_alpha=1,\n",
      "              reg_lambda=0, scale_pos_weight=1, seed=None, silent=True,\n",
      "              subsample=0.6)\n",
      "execution time (min)= 0.9  finished at  2020-03-18 16:25:27.021705\n"
     ]
    },
    {
     "data": {
      "text/html": [
       "<div>\n",
       "<style scoped>\n",
       "    .dataframe tbody tr th:only-of-type {\n",
       "        vertical-align: middle;\n",
       "    }\n",
       "\n",
       "    .dataframe tbody tr th {\n",
       "        vertical-align: top;\n",
       "    }\n",
       "\n",
       "    .dataframe thead th {\n",
       "        text-align: right;\n",
       "    }\n",
       "</style>\n",
       "<table border=\"1\" class=\"dataframe\">\n",
       "  <thead>\n",
       "    <tr style=\"text-align: right;\">\n",
       "      <th></th>\n",
       "      <th>diz_params</th>\n",
       "      <th>degree_overfitting(%)</th>\n",
       "      <th>roc_train</th>\n",
       "      <th>roc_test</th>\n",
       "    </tr>\n",
       "  </thead>\n",
       "  <tbody>\n",
       "    <tr>\n",
       "      <th>6</th>\n",
       "      <td>{'colsample_bytree': 1, 'gamma': 0.7, 'learnin...</td>\n",
       "      <td>1.40</td>\n",
       "      <td>0.6990</td>\n",
       "      <td>0.6850</td>\n",
       "    </tr>\n",
       "    <tr>\n",
       "      <th>2</th>\n",
       "      <td>{'colsample_bytree': 1, 'gamma': 0.7, 'learnin...</td>\n",
       "      <td>0.99</td>\n",
       "      <td>0.6910</td>\n",
       "      <td>0.6811</td>\n",
       "    </tr>\n",
       "    <tr>\n",
       "      <th>5</th>\n",
       "      <td>{'colsample_bytree': 1, 'gamma': 0.7, 'learnin...</td>\n",
       "      <td>0.58</td>\n",
       "      <td>0.6842</td>\n",
       "      <td>0.6784</td>\n",
       "    </tr>\n",
       "    <tr>\n",
       "      <th>1</th>\n",
       "      <td>{'colsample_bytree': 1, 'gamma': 0.7, 'learnin...</td>\n",
       "      <td>0.34</td>\n",
       "      <td>0.6744</td>\n",
       "      <td>0.6710</td>\n",
       "    </tr>\n",
       "    <tr>\n",
       "      <th>4</th>\n",
       "      <td>{'colsample_bytree': 1, 'gamma': 0.7, 'learnin...</td>\n",
       "      <td>0.36</td>\n",
       "      <td>0.6628</td>\n",
       "      <td>0.6592</td>\n",
       "    </tr>\n",
       "    <tr>\n",
       "      <th>3</th>\n",
       "      <td>{'colsample_bytree': 1, 'gamma': 0.7, 'learnin...</td>\n",
       "      <td>0.07</td>\n",
       "      <td>0.6456</td>\n",
       "      <td>0.6449</td>\n",
       "    </tr>\n",
       "  </tbody>\n",
       "</table>\n",
       "</div>"
      ],
      "text/plain": [
       "                                          diz_params  degree_overfitting(%)  \\\n",
       "6  {'colsample_bytree': 1, 'gamma': 0.7, 'learnin...                   1.40   \n",
       "2  {'colsample_bytree': 1, 'gamma': 0.7, 'learnin...                   0.99   \n",
       "5  {'colsample_bytree': 1, 'gamma': 0.7, 'learnin...                   0.58   \n",
       "1  {'colsample_bytree': 1, 'gamma': 0.7, 'learnin...                   0.34   \n",
       "4  {'colsample_bytree': 1, 'gamma': 0.7, 'learnin...                   0.36   \n",
       "3  {'colsample_bytree': 1, 'gamma': 0.7, 'learnin...                   0.07   \n",
       "\n",
       "   roc_train  roc_test  \n",
       "6     0.6990    0.6850  \n",
       "2     0.6910    0.6811  \n",
       "5     0.6842    0.6784  \n",
       "1     0.6744    0.6710  \n",
       "4     0.6628    0.6592  \n",
       "3     0.6456    0.6449  "
      ]
     },
     "execution_count": 531,
     "metadata": {},
     "output_type": "execute_result"
    }
   ],
   "source": [
    "gb= XGBClassifier(random_state=0)  #multi:softmax , booster [default=gbtree], tree booster here because it always outperforms the linear booster and thus the later is rarely used.\n",
    "\n",
    "#https://www.analyticsvidhya.com/blog/2016/03/complete-guide-parameter-tuning-xgboost-with-codes-python/\n",
    "\n",
    "\n",
    "param_gb = {\n",
    "    \"learning_rate\": [0.05, 0.01, 0.1],\n",
    "    \"n_estimators\" : [200], \n",
    "    \"reg_alpha\": [1], \n",
    "    \"reg_lambda\":[0],\n",
    "    \"max_depth\": [1,2],\n",
    "    'min_child_weight': [0.7],  #Used to control over-fitting. Higher values prevent a model from learning relations which might be highly specific to the particular sample selected for a tree. Too high values can lead to under-fitting hence, it should be tuned using CV.\n",
    "    'gamma': [0.7],  # aumentala per evitare overfitting: è il min delta della loss function per fare uno split\n",
    "    'colsample_bytree': [1],\n",
    "    'scale_pos_weight': [1],\n",
    "    'subsample': [0.6]\n",
    "                }\n",
    "\n",
    "best_gb = run_model_no_val(estimator= gb, X_train= preliminary_train, X_test= preliminary_test, param_grid= param_gb)\n",
    "best_gb"
   ]
  },
  {
   "cell_type": "code",
   "execution_count": 717,
   "metadata": {},
   "outputs": [
    {
     "data": {
      "text/plain": [
       "XGBClassifier(base_score=0.5, booster='gbtree', colsample_bylevel=1,\n",
       "              colsample_bytree=1, gamma=0.7, learning_rate=0.05,\n",
       "              max_delta_step=0, max_depth=2, min_child_weight=0.7, missing=None,\n",
       "              n_estimators=200, n_jobs=1, nthread=None,\n",
       "              objective='binary:logistic', random_state=0, reg_alpha=1,\n",
       "              reg_lambda=0, scale_pos_weight=1, seed=None, silent=True,\n",
       "              subsample=0.6)"
      ]
     },
     "execution_count": 717,
     "metadata": {},
     "output_type": "execute_result"
    }
   ],
   "source": [
    "xgb= XGBClassifier(random_state=0)\n",
    "xgb.set_params(**{'colsample_bytree': 1, 'gamma': 0.7, 'learning_rate': 0.05, 'max_depth': 2, 'min_child_weight': 0.7,\n",
    "                 'n_estimators': 200, 'reg_alpha': 1, 'reg_lambda': 0, 'scale_pos_weight': 1, 'subsample': 0.6})"
   ]
  },
  {
   "cell_type": "code",
   "execution_count": 729,
   "metadata": {},
   "outputs": [
    {
     "name": "stdout",
     "output_type": "stream",
     "text": [
      "\n",
      "\u001b[1mROC Train is 0.691, ROC Test is 0.6811\u001b[0m\n"
     ]
    },
    {
     "data": {
      "image/png": "[encoded data removed]",
      "text/plain": [
       "<Figure size 720x432 with 1 Axes>"
      ]
     },
     "metadata": {
      "needs_background": "light"
     },
     "output_type": "display_data"
    }
   ],
   "source": [
    "plot_auc(xgb, X_train= preliminary_train, X_test= preliminary_test, ytrain= ytrain, ytest= ytest )"
   ]
  },
  {
   "cell_type": "code",
   "execution_count": 736,
   "metadata": {},
   "outputs": [],
   "source": [
    "modello= 'XGBoost_ADT'\n",
    "\n",
    "filename = '/Users/federicofrancone/Desktop' + modello + '.sav'\n",
    "\n",
    "pickle.dump(xgb, open(filename, 'wb'))"
   ]
  },
  {
   "cell_type": "code",
   "execution_count": 533,
   "metadata": {},
   "outputs": [],
   "source": [
    "###### Export Proba ########\n",
    "#export_proba(gb, filename= 'xgb')"
   ]
  },
  {
   "cell_type": "code",
   "execution_count": 534,
   "metadata": {
    "colab": {
     "base_uri": "https://localhost:8080/",
     "height": 295
    },
    "colab_type": "code",
    "executionInfo": {
     "elapsed": 68814,
     "status": "ok",
     "timestamp": 1580695213910,
     "user": {
      "displayName": "Federico Francone",
      "photoUrl": "https://lh3.googleusercontent.com/a-/AAuE7mCvT-5R0e3T46w8v1AsqxSyhT-fEY26ltek6aRh=s64",
      "userId": "16122115063472740860"
     },
     "user_tz": -60
    },
    "id": "E5_I3sNde7dL",
    "outputId": "6f9ad587-cedc-4515-e694-812c21eefd8f"
   },
   "outputs": [
    {
     "data": {
      "image/png": "[encoded data removed]",
      "text/plain": [
       "<Figure size 432x288 with 1 Axes>"
      ]
     },
     "metadata": {
      "needs_background": "light"
     },
     "output_type": "display_data"
    }
   ],
   "source": [
    "#plt.figure(figsize=(15,15))\n",
    "plot_importance(gb.set_params(**best_gb.iloc[0]['diz_params']), height= 0.3, max_num_features= 15)\n",
    "title_ticks_ecc('Feats imp Boosting', '', '', new_fig= False)"
   ]
  },
  {
   "cell_type": "markdown",
   "metadata": {
    "colab_type": "text",
    "id": "MVrN53K4e7dN"
   },
   "source": [
    "## <font color= 'orange'> Catboost"
   ]
  },
  {
   "cell_type": "code",
   "execution_count": null,
   "metadata": {
    "colab": {
     "base_uri": "https://localhost:8080/",
     "height": 368
    },
    "colab_type": "code",
    "executionInfo": {
     "elapsed": 453,
     "status": "error",
     "timestamp": 1580697023912,
     "user": {
      "displayName": "Federico Francone",
      "photoUrl": "https://lh3.googleusercontent.com/a-/AAuE7mCvT-5R0e3T46w8v1AsqxSyhT-fEY26ltek6aRh=s64",
      "userId": "16122115063472740860"
     },
     "user_tz": -60
    },
    "id": "5ZIvmWYRl5rl",
    "outputId": "fd7b0f1f-90e4-4e31-f343-7d67b1f8e5ef",
    "scrolled": true
   },
   "outputs": [],
   "source": [
    "import catboost as cb\n",
    "\n",
    "catboost= cb.CatBoostClassifier(eval_metric=\"AUC\", random_state=0 )\n",
    "\n",
    "param_grid_cat = {'depth': [1, 2],\n",
    "          'learning_rate' : [0.005, 0.05],\n",
    "         'l2_leaf_reg': [1,4,9],\n",
    "         'iterations': [300]}\n",
    "\n",
    "#grid_catboost = run_model_no_val(estimator=catboost, param_grid= param_grid, catb= True, ) \n",
    "\n",
    "grid_catboost= run_model_no_val(estimator= catboost, X_train= preliminary_train, X_test= preliminary_test, param_grid= param_grid_cat, catb= True) \n",
    "grid_catboost"
   ]
  },
  {
   "cell_type": "markdown",
   "metadata": {
    "colab_type": "text",
    "id": "W5rng9HRl5rn"
   },
   "source": [
    "## <font color= 'orange'> LightGBM"
   ]
  },
  {
   "cell_type": "code",
   "execution_count": 556,
   "metadata": {
    "colab": {
     "base_uri": "https://localhost:8080/",
     "height": 1000
    },
    "colab_type": "code",
    "executionInfo": {
     "elapsed": 51269,
     "status": "ok",
     "timestamp": 1580697101914,
     "user": {
      "displayName": "Federico Francone",
      "photoUrl": "https://lh3.googleusercontent.com/a-/AAuE7mCvT-5R0e3T46w8v1AsqxSyhT-fEY26ltek6aRh=s64",
      "userId": "16122115063472740860"
     },
     "user_tz": -60
    },
    "id": "fH-4H9Utl5rn",
    "outputId": "e42b4bd5-bafb-4d9b-e1a0-9eb427a413fc",
    "scrolled": true
   },
   "outputs": [
    {
     "name": "stdout",
     "output_type": "stream",
     "text": [
      "Shape di X_train e X_test sono:  (78436, 25) (33613, 25)\n",
      "\n",
      "\t \u001b[1mITERATION 1/18 \u001b[0m\n",
      "\t Current Grid of Parameters is {'learning_rate': 0.001, 'max_depth': 1, 'n_estimators': 200, 'num_leaves': 50}\n",
      "\n",
      "\u001b[1mROC Train is 0.6054, ROC Test is 0.601\u001b[0m\n",
      "LGBMClassifier(boosting_type='gbdt', class_weight=None, colsample_bytree=1.0,\n",
      "               eval_metric='AUC', importance_type='split', learning_rate=0.001,\n",
      "               max_depth=1, min_child_samples=20, min_child_weight=0.001,\n",
      "               min_split_gain=0.0, n_estimators=200, n_jobs=-1, num_leaves=50,\n",
      "               objective=None, random_state=0, reg_alpha=0.0, reg_lambda=0.0,\n",
      "               silent=False, subsample=1.0, subsample_for_bin=200000,\n",
      "               subsample_freq=0)\n",
      "\n",
      "\t \u001b[1mITERATION 2/18 \u001b[0m\n",
      "\t Current Grid of Parameters is {'learning_rate': 0.001, 'max_depth': 1, 'n_estimators': 200, 'num_leaves': 100}\n",
      "\n",
      "\u001b[1mROC Train is 0.6054, ROC Test is 0.601\u001b[0m\n",
      "LGBMClassifier(boosting_type='gbdt', class_weight=None, colsample_bytree=1.0,\n",
      "               eval_metric='AUC', importance_type='split', learning_rate=0.001,\n",
      "               max_depth=1, min_child_samples=20, min_child_weight=0.001,\n",
      "               min_split_gain=0.0, n_estimators=200, n_jobs=-1, num_leaves=100,\n",
      "               objective=None, random_state=0, reg_alpha=0.0, reg_lambda=0.0,\n",
      "               silent=False, subsample=1.0, subsample_for_bin=200000,\n",
      "               subsample_freq=0)\n",
      "\n",
      "\t \u001b[1mITERATION 3/18 \u001b[0m\n",
      "\t Current Grid of Parameters is {'learning_rate': 0.001, 'max_depth': 2, 'n_estimators': 200, 'num_leaves': 50}\n",
      "\n",
      "\u001b[1mROC Train is 0.6293, ROC Test is 0.6248\u001b[0m\n",
      "LGBMClassifier(boosting_type='gbdt', class_weight=None, colsample_bytree=1.0,\n",
      "               eval_metric='AUC', importance_type='split', learning_rate=0.001,\n",
      "               max_depth=2, min_child_samples=20, min_child_weight=0.001,\n",
      "               min_split_gain=0.0, n_estimators=200, n_jobs=-1, num_leaves=50,\n",
      "               objective=None, random_state=0, reg_alpha=0.0, reg_lambda=0.0,\n",
      "               silent=False, subsample=1.0, subsample_for_bin=200000,\n",
      "               subsample_freq=0)\n",
      "\n",
      "\t \u001b[1mITERATION 4/18 \u001b[0m\n",
      "\t Current Grid of Parameters is {'learning_rate': 0.001, 'max_depth': 2, 'n_estimators': 200, 'num_leaves': 100}\n",
      "\n",
      "\u001b[1mROC Train is 0.6293, ROC Test is 0.6248\u001b[0m\n",
      "LGBMClassifier(boosting_type='gbdt', class_weight=None, colsample_bytree=1.0,\n",
      "               eval_metric='AUC', importance_type='split', learning_rate=0.001,\n",
      "               max_depth=2, min_child_samples=20, min_child_weight=0.001,\n",
      "               min_split_gain=0.0, n_estimators=200, n_jobs=-1, num_leaves=100,\n",
      "               objective=None, random_state=0, reg_alpha=0.0, reg_lambda=0.0,\n",
      "               silent=False, subsample=1.0, subsample_for_bin=200000,\n",
      "               subsample_freq=0)\n",
      "\n",
      "\t \u001b[1mITERATION 5/18 \u001b[0m\n",
      "\t Current Grid of Parameters is {'learning_rate': 0.001, 'max_depth': 3, 'n_estimators': 200, 'num_leaves': 50}\n",
      "\n",
      "\u001b[1mROC Train is 0.6445, ROC Test is 0.6399\u001b[0m\n",
      "LGBMClassifier(boosting_type='gbdt', class_weight=None, colsample_bytree=1.0,\n",
      "               eval_metric='AUC', importance_type='split', learning_rate=0.001,\n",
      "               max_depth=3, min_child_samples=20, min_child_weight=0.001,\n",
      "               min_split_gain=0.0, n_estimators=200, n_jobs=-1, num_leaves=50,\n",
      "               objective=None, random_state=0, reg_alpha=0.0, reg_lambda=0.0,\n",
      "               silent=False, subsample=1.0, subsample_for_bin=200000,\n",
      "               subsample_freq=0)\n",
      "\n",
      "\t \u001b[1mITERATION 6/18 \u001b[0m\n",
      "\t Current Grid of Parameters is {'learning_rate': 0.001, 'max_depth': 3, 'n_estimators': 200, 'num_leaves': 100}\n",
      "\n",
      "\u001b[1mROC Train is 0.6445, ROC Test is 0.6399\u001b[0m\n",
      "LGBMClassifier(boosting_type='gbdt', class_weight=None, colsample_bytree=1.0,\n",
      "               eval_metric='AUC', importance_type='split', learning_rate=0.001,\n",
      "               max_depth=3, min_child_samples=20, min_child_weight=0.001,\n",
      "               min_split_gain=0.0, n_estimators=200, n_jobs=-1, num_leaves=100,\n",
      "               objective=None, random_state=0, reg_alpha=0.0, reg_lambda=0.0,\n",
      "               silent=False, subsample=1.0, subsample_for_bin=200000,\n",
      "               subsample_freq=0)\n",
      "\n",
      "\t \u001b[1mITERATION 7/18 \u001b[0m\n",
      "\t Current Grid of Parameters is {'learning_rate': 0.005, 'max_depth': 1, 'n_estimators': 200, 'num_leaves': 50}\n",
      "\n",
      "\u001b[1mROC Train is 0.6398, ROC Test is 0.6385\u001b[0m\n",
      "LGBMClassifier(boosting_type='gbdt', class_weight=None, colsample_bytree=1.0,\n",
      "               eval_metric='AUC', importance_type='split', learning_rate=0.005,\n",
      "               max_depth=1, min_child_samples=20, min_child_weight=0.001,\n",
      "               min_split_gain=0.0, n_estimators=200, n_jobs=-1, num_leaves=50,\n",
      "               objective=None, random_state=0, reg_alpha=0.0, reg_lambda=0.0,\n",
      "               silent=False, subsample=1.0, subsample_for_bin=200000,\n",
      "               subsample_freq=0)\n",
      "\n",
      "\t \u001b[1mITERATION 8/18 \u001b[0m\n",
      "\t Current Grid of Parameters is {'learning_rate': 0.005, 'max_depth': 1, 'n_estimators': 200, 'num_leaves': 100}\n",
      "\n",
      "\u001b[1mROC Train is 0.6398, ROC Test is 0.6385\u001b[0m\n",
      "LGBMClassifier(boosting_type='gbdt', class_weight=None, colsample_bytree=1.0,\n",
      "               eval_metric='AUC', importance_type='split', learning_rate=0.005,\n",
      "               max_depth=1, min_child_samples=20, min_child_weight=0.001,\n",
      "               min_split_gain=0.0, n_estimators=200, n_jobs=-1, num_leaves=100,\n",
      "               objective=None, random_state=0, reg_alpha=0.0, reg_lambda=0.0,\n",
      "               silent=False, subsample=1.0, subsample_for_bin=200000,\n",
      "               subsample_freq=0)\n",
      "\n",
      "\t \u001b[1mITERATION 9/18 \u001b[0m\n",
      "\t Current Grid of Parameters is {'learning_rate': 0.005, 'max_depth': 2, 'n_estimators': 200, 'num_leaves': 50}\n",
      "\n",
      "\u001b[1mROC Train is 0.6561, ROC Test is 0.652\u001b[0m\n",
      "LGBMClassifier(boosting_type='gbdt', class_weight=None, colsample_bytree=1.0,\n",
      "               eval_metric='AUC', importance_type='split', learning_rate=0.005,\n",
      "               max_depth=2, min_child_samples=20, min_child_weight=0.001,\n",
      "               min_split_gain=0.0, n_estimators=200, n_jobs=-1, num_leaves=50,\n",
      "               objective=None, random_state=0, reg_alpha=0.0, reg_lambda=0.0,\n",
      "               silent=False, subsample=1.0, subsample_for_bin=200000,\n",
      "               subsample_freq=0)\n",
      "\n",
      "\t \u001b[1mITERATION 10/18 \u001b[0m\n",
      "\t Current Grid of Parameters is {'learning_rate': 0.005, 'max_depth': 2, 'n_estimators': 200, 'num_leaves': 100}\n",
      "\n",
      "\u001b[1mROC Train is 0.6561, ROC Test is 0.652\u001b[0m\n",
      "LGBMClassifier(boosting_type='gbdt', class_weight=None, colsample_bytree=1.0,\n",
      "               eval_metric='AUC', importance_type='split', learning_rate=0.005,\n",
      "               max_depth=2, min_child_samples=20, min_child_weight=0.001,\n",
      "               min_split_gain=0.0, n_estimators=200, n_jobs=-1, num_leaves=100,\n",
      "               objective=None, random_state=0, reg_alpha=0.0, reg_lambda=0.0,\n",
      "               silent=False, subsample=1.0, subsample_for_bin=200000,\n",
      "               subsample_freq=0)\n",
      "\n",
      "\t \u001b[1mITERATION 11/18 \u001b[0m\n",
      "\t Current Grid of Parameters is {'learning_rate': 0.005, 'max_depth': 3, 'n_estimators': 200, 'num_leaves': 50}\n",
      "\n",
      "\u001b[1mROC Train is 0.6664, ROC Test is 0.6602\u001b[0m\n",
      "LGBMClassifier(boosting_type='gbdt', class_weight=None, colsample_bytree=1.0,\n",
      "               eval_metric='AUC', importance_type='split', learning_rate=0.005,\n",
      "               max_depth=3, min_child_samples=20, min_child_weight=0.001,\n",
      "               min_split_gain=0.0, n_estimators=200, n_jobs=-1, num_leaves=50,\n",
      "               objective=None, random_state=0, reg_alpha=0.0, reg_lambda=0.0,\n",
      "               silent=False, subsample=1.0, subsample_for_bin=200000,\n",
      "               subsample_freq=0)\n",
      "\n",
      "\t \u001b[1mITERATION 12/18 \u001b[0m\n",
      "\t Current Grid of Parameters is {'learning_rate': 0.005, 'max_depth': 3, 'n_estimators': 200, 'num_leaves': 100}\n",
      "\n",
      "\u001b[1mROC Train is 0.6664, ROC Test is 0.6602\u001b[0m\n",
      "LGBMClassifier(boosting_type='gbdt', class_weight=None, colsample_bytree=1.0,\n",
      "               eval_metric='AUC', importance_type='split', learning_rate=0.005,\n",
      "               max_depth=3, min_child_samples=20, min_child_weight=0.001,\n",
      "               min_split_gain=0.0, n_estimators=200, n_jobs=-1, num_leaves=100,\n",
      "               objective=None, random_state=0, reg_alpha=0.0, reg_lambda=0.0,\n",
      "               silent=False, subsample=1.0, subsample_for_bin=200000,\n",
      "               subsample_freq=0)\n",
      "\n",
      "\t \u001b[1mITERATION 13/18 \u001b[0m\n",
      "\t Current Grid of Parameters is {'learning_rate': 0.009, 'max_depth': 1, 'n_estimators': 200, 'num_leaves': 50}\n"
     ]
    },
    {
     "name": "stdout",
     "output_type": "stream",
     "text": [
      "\n",
      "\u001b[1mROC Train is 0.6497, ROC Test is 0.6485\u001b[0m\n",
      "LGBMClassifier(boosting_type='gbdt', class_weight=None, colsample_bytree=1.0,\n",
      "               eval_metric='AUC', importance_type='split', learning_rate=0.009,\n",
      "               max_depth=1, min_child_samples=20, min_child_weight=0.001,\n",
      "               min_split_gain=0.0, n_estimators=200, n_jobs=-1, num_leaves=50,\n",
      "               objective=None, random_state=0, reg_alpha=0.0, reg_lambda=0.0,\n",
      "               silent=False, subsample=1.0, subsample_for_bin=200000,\n",
      "               subsample_freq=0)\n",
      "\n",
      "\t \u001b[1mITERATION 14/18 \u001b[0m\n",
      "\t Current Grid of Parameters is {'learning_rate': 0.009, 'max_depth': 1, 'n_estimators': 200, 'num_leaves': 100}\n",
      "\n",
      "\u001b[1mROC Train is 0.6497, ROC Test is 0.6485\u001b[0m\n",
      "LGBMClassifier(boosting_type='gbdt', class_weight=None, colsample_bytree=1.0,\n",
      "               eval_metric='AUC', importance_type='split', learning_rate=0.009,\n",
      "               max_depth=1, min_child_samples=20, min_child_weight=0.001,\n",
      "               min_split_gain=0.0, n_estimators=200, n_jobs=-1, num_leaves=100,\n",
      "               objective=None, random_state=0, reg_alpha=0.0, reg_lambda=0.0,\n",
      "               silent=False, subsample=1.0, subsample_for_bin=200000,\n",
      "               subsample_freq=0)\n",
      "\n",
      "\t \u001b[1mITERATION 15/18 \u001b[0m\n",
      "\t Current Grid of Parameters is {'learning_rate': 0.009, 'max_depth': 2, 'n_estimators': 200, 'num_leaves': 50}\n",
      "\n",
      "\u001b[1mROC Train is 0.6653, ROC Test is 0.6599\u001b[0m\n",
      "LGBMClassifier(boosting_type='gbdt', class_weight=None, colsample_bytree=1.0,\n",
      "               eval_metric='AUC', importance_type='split', learning_rate=0.009,\n",
      "               max_depth=2, min_child_samples=20, min_child_weight=0.001,\n",
      "               min_split_gain=0.0, n_estimators=200, n_jobs=-1, num_leaves=50,\n",
      "               objective=None, random_state=0, reg_alpha=0.0, reg_lambda=0.0,\n",
      "               silent=False, subsample=1.0, subsample_for_bin=200000,\n",
      "               subsample_freq=0)\n",
      "\n",
      "\t \u001b[1mITERATION 16/18 \u001b[0m\n",
      "\t Current Grid of Parameters is {'learning_rate': 0.009, 'max_depth': 2, 'n_estimators': 200, 'num_leaves': 100}\n",
      "\n",
      "\u001b[1mROC Train is 0.6653, ROC Test is 0.6599\u001b[0m\n",
      "LGBMClassifier(boosting_type='gbdt', class_weight=None, colsample_bytree=1.0,\n",
      "               eval_metric='AUC', importance_type='split', learning_rate=0.009,\n",
      "               max_depth=2, min_child_samples=20, min_child_weight=0.001,\n",
      "               min_split_gain=0.0, n_estimators=200, n_jobs=-1, num_leaves=100,\n",
      "               objective=None, random_state=0, reg_alpha=0.0, reg_lambda=0.0,\n",
      "               silent=False, subsample=1.0, subsample_for_bin=200000,\n",
      "               subsample_freq=0)\n",
      "\n",
      "\t \u001b[1mITERATION 17/18 \u001b[0m\n",
      "\t Current Grid of Parameters is {'learning_rate': 0.009, 'max_depth': 3, 'n_estimators': 200, 'num_leaves': 50}\n",
      "\n",
      "\u001b[1mROC Train is 0.6779, ROC Test is 0.6689\u001b[0m\n",
      "LGBMClassifier(boosting_type='gbdt', class_weight=None, colsample_bytree=1.0,\n",
      "               eval_metric='AUC', importance_type='split', learning_rate=0.009,\n",
      "               max_depth=3, min_child_samples=20, min_child_weight=0.001,\n",
      "               min_split_gain=0.0, n_estimators=200, n_jobs=-1, num_leaves=50,\n",
      "               objective=None, random_state=0, reg_alpha=0.0, reg_lambda=0.0,\n",
      "               silent=False, subsample=1.0, subsample_for_bin=200000,\n",
      "               subsample_freq=0)\n",
      "\n",
      "\t \u001b[1mITERATION 18/18 \u001b[0m\n",
      "\t Current Grid of Parameters is {'learning_rate': 0.009, 'max_depth': 3, 'n_estimators': 200, 'num_leaves': 100}\n",
      "\n",
      "\u001b[1mROC Train is 0.6779, ROC Test is 0.6689\u001b[0m\n",
      "LGBMClassifier(boosting_type='gbdt', class_weight=None, colsample_bytree=1.0,\n",
      "               eval_metric='AUC', importance_type='split', learning_rate=0.009,\n",
      "               max_depth=3, min_child_samples=20, min_child_weight=0.001,\n",
      "               min_split_gain=0.0, n_estimators=200, n_jobs=-1, num_leaves=100,\n",
      "               objective=None, random_state=0, reg_alpha=0.0, reg_lambda=0.0,\n",
      "               silent=False, subsample=1.0, subsample_for_bin=200000,\n",
      "               subsample_freq=0)\n",
      "execution time (min)= 0.3  finished at  2020-03-18 16:53:04.520518\n"
     ]
    },
    {
     "data": {
      "text/html": [
       "<div>\n",
       "<style scoped>\n",
       "    .dataframe tbody tr th:only-of-type {\n",
       "        vertical-align: middle;\n",
       "    }\n",
       "\n",
       "    .dataframe tbody tr th {\n",
       "        vertical-align: top;\n",
       "    }\n",
       "\n",
       "    .dataframe thead th {\n",
       "        text-align: right;\n",
       "    }\n",
       "</style>\n",
       "<table border=\"1\" class=\"dataframe\">\n",
       "  <thead>\n",
       "    <tr style=\"text-align: right;\">\n",
       "      <th></th>\n",
       "      <th>diz_params</th>\n",
       "      <th>degree_overfitting(%)</th>\n",
       "      <th>roc_train</th>\n",
       "      <th>roc_test</th>\n",
       "    </tr>\n",
       "  </thead>\n",
       "  <tbody>\n",
       "    <tr>\n",
       "      <th>18</th>\n",
       "      <td>{'learning_rate': 0.009, 'max_depth': 3, 'n_es...</td>\n",
       "      <td>0.90</td>\n",
       "      <td>0.6779</td>\n",
       "      <td>0.6689</td>\n",
       "    </tr>\n",
       "    <tr>\n",
       "      <th>17</th>\n",
       "      <td>{'learning_rate': 0.009, 'max_depth': 3, 'n_es...</td>\n",
       "      <td>0.90</td>\n",
       "      <td>0.6779</td>\n",
       "      <td>0.6689</td>\n",
       "    </tr>\n",
       "    <tr>\n",
       "      <th>12</th>\n",
       "      <td>{'learning_rate': 0.005, 'max_depth': 3, 'n_es...</td>\n",
       "      <td>0.62</td>\n",
       "      <td>0.6664</td>\n",
       "      <td>0.6602</td>\n",
       "    </tr>\n",
       "    <tr>\n",
       "      <th>11</th>\n",
       "      <td>{'learning_rate': 0.005, 'max_depth': 3, 'n_es...</td>\n",
       "      <td>0.62</td>\n",
       "      <td>0.6664</td>\n",
       "      <td>0.6602</td>\n",
       "    </tr>\n",
       "    <tr>\n",
       "      <th>16</th>\n",
       "      <td>{'learning_rate': 0.009, 'max_depth': 2, 'n_es...</td>\n",
       "      <td>0.54</td>\n",
       "      <td>0.6653</td>\n",
       "      <td>0.6599</td>\n",
       "    </tr>\n",
       "    <tr>\n",
       "      <th>15</th>\n",
       "      <td>{'learning_rate': 0.009, 'max_depth': 2, 'n_es...</td>\n",
       "      <td>0.54</td>\n",
       "      <td>0.6653</td>\n",
       "      <td>0.6599</td>\n",
       "    </tr>\n",
       "    <tr>\n",
       "      <th>9</th>\n",
       "      <td>{'learning_rate': 0.005, 'max_depth': 2, 'n_es...</td>\n",
       "      <td>0.41</td>\n",
       "      <td>0.6561</td>\n",
       "      <td>0.6520</td>\n",
       "    </tr>\n",
       "    <tr>\n",
       "      <th>10</th>\n",
       "      <td>{'learning_rate': 0.005, 'max_depth': 2, 'n_es...</td>\n",
       "      <td>0.41</td>\n",
       "      <td>0.6561</td>\n",
       "      <td>0.6520</td>\n",
       "    </tr>\n",
       "    <tr>\n",
       "      <th>13</th>\n",
       "      <td>{'learning_rate': 0.009, 'max_depth': 1, 'n_es...</td>\n",
       "      <td>0.12</td>\n",
       "      <td>0.6497</td>\n",
       "      <td>0.6485</td>\n",
       "    </tr>\n",
       "    <tr>\n",
       "      <th>14</th>\n",
       "      <td>{'learning_rate': 0.009, 'max_depth': 1, 'n_es...</td>\n",
       "      <td>0.12</td>\n",
       "      <td>0.6497</td>\n",
       "      <td>0.6485</td>\n",
       "    </tr>\n",
       "    <tr>\n",
       "      <th>6</th>\n",
       "      <td>{'learning_rate': 0.001, 'max_depth': 3, 'n_es...</td>\n",
       "      <td>0.46</td>\n",
       "      <td>0.6445</td>\n",
       "      <td>0.6399</td>\n",
       "    </tr>\n",
       "    <tr>\n",
       "      <th>5</th>\n",
       "      <td>{'learning_rate': 0.001, 'max_depth': 3, 'n_es...</td>\n",
       "      <td>0.46</td>\n",
       "      <td>0.6445</td>\n",
       "      <td>0.6399</td>\n",
       "    </tr>\n",
       "    <tr>\n",
       "      <th>8</th>\n",
       "      <td>{'learning_rate': 0.005, 'max_depth': 1, 'n_es...</td>\n",
       "      <td>0.13</td>\n",
       "      <td>0.6398</td>\n",
       "      <td>0.6385</td>\n",
       "    </tr>\n",
       "    <tr>\n",
       "      <th>7</th>\n",
       "      <td>{'learning_rate': 0.005, 'max_depth': 1, 'n_es...</td>\n",
       "      <td>0.13</td>\n",
       "      <td>0.6398</td>\n",
       "      <td>0.6385</td>\n",
       "    </tr>\n",
       "    <tr>\n",
       "      <th>4</th>\n",
       "      <td>{'learning_rate': 0.001, 'max_depth': 2, 'n_es...</td>\n",
       "      <td>0.45</td>\n",
       "      <td>0.6293</td>\n",
       "      <td>0.6248</td>\n",
       "    </tr>\n",
       "    <tr>\n",
       "      <th>3</th>\n",
       "      <td>{'learning_rate': 0.001, 'max_depth': 2, 'n_es...</td>\n",
       "      <td>0.45</td>\n",
       "      <td>0.6293</td>\n",
       "      <td>0.6248</td>\n",
       "    </tr>\n",
       "    <tr>\n",
       "      <th>2</th>\n",
       "      <td>{'learning_rate': 0.001, 'max_depth': 1, 'n_es...</td>\n",
       "      <td>0.44</td>\n",
       "      <td>0.6054</td>\n",
       "      <td>0.6010</td>\n",
       "    </tr>\n",
       "    <tr>\n",
       "      <th>1</th>\n",
       "      <td>{'learning_rate': 0.001, 'max_depth': 1, 'n_es...</td>\n",
       "      <td>0.44</td>\n",
       "      <td>0.6054</td>\n",
       "      <td>0.6010</td>\n",
       "    </tr>\n",
       "  </tbody>\n",
       "</table>\n",
       "</div>"
      ],
      "text/plain": [
       "                                           diz_params  degree_overfitting(%)  \\\n",
       "18  {'learning_rate': 0.009, 'max_depth': 3, 'n_es...                   0.90   \n",
       "17  {'learning_rate': 0.009, 'max_depth': 3, 'n_es...                   0.90   \n",
       "12  {'learning_rate': 0.005, 'max_depth': 3, 'n_es...                   0.62   \n",
       "11  {'learning_rate': 0.005, 'max_depth': 3, 'n_es...                   0.62   \n",
       "16  {'learning_rate': 0.009, 'max_depth': 2, 'n_es...                   0.54   \n",
       "15  {'learning_rate': 0.009, 'max_depth': 2, 'n_es...                   0.54   \n",
       "9   {'learning_rate': 0.005, 'max_depth': 2, 'n_es...                   0.41   \n",
       "10  {'learning_rate': 0.005, 'max_depth': 2, 'n_es...                   0.41   \n",
       "13  {'learning_rate': 0.009, 'max_depth': 1, 'n_es...                   0.12   \n",
       "14  {'learning_rate': 0.009, 'max_depth': 1, 'n_es...                   0.12   \n",
       "6   {'learning_rate': 0.001, 'max_depth': 3, 'n_es...                   0.46   \n",
       "5   {'learning_rate': 0.001, 'max_depth': 3, 'n_es...                   0.46   \n",
       "8   {'learning_rate': 0.005, 'max_depth': 1, 'n_es...                   0.13   \n",
       "7   {'learning_rate': 0.005, 'max_depth': 1, 'n_es...                   0.13   \n",
       "4   {'learning_rate': 0.001, 'max_depth': 2, 'n_es...                   0.45   \n",
       "3   {'learning_rate': 0.001, 'max_depth': 2, 'n_es...                   0.45   \n",
       "2   {'learning_rate': 0.001, 'max_depth': 1, 'n_es...                   0.44   \n",
       "1   {'learning_rate': 0.001, 'max_depth': 1, 'n_es...                   0.44   \n",
       "\n",
       "    roc_train  roc_test  \n",
       "18     0.6779    0.6689  \n",
       "17     0.6779    0.6689  \n",
       "12     0.6664    0.6602  \n",
       "11     0.6664    0.6602  \n",
       "16     0.6653    0.6599  \n",
       "15     0.6653    0.6599  \n",
       "9      0.6561    0.6520  \n",
       "10     0.6561    0.6520  \n",
       "13     0.6497    0.6485  \n",
       "14     0.6497    0.6485  \n",
       "6      0.6445    0.6399  \n",
       "5      0.6445    0.6399  \n",
       "8      0.6398    0.6385  \n",
       "7      0.6398    0.6385  \n",
       "4      0.6293    0.6248  \n",
       "3      0.6293    0.6248  \n",
       "2      0.6054    0.6010  \n",
       "1      0.6054    0.6010  "
      ]
     },
     "execution_count": 556,
     "metadata": {},
     "output_type": "execute_result"
    }
   ],
   "source": [
    "import lightgbm as lgb\n",
    "\n",
    "gbm = lgb.LGBMClassifier(silent=False, eval_metric=\"AUC\", random_state=0 )\n",
    "\n",
    "param_grid_gbm = {\"max_depth\": [1, 2, 3],\n",
    "              \"learning_rate\" : [0.001, 0.005, 0.009],\n",
    "              \"num_leaves\": [50, 100],\n",
    "              \"n_estimators\": [200]\n",
    "             }\n",
    "\n",
    "\n",
    "grid_gbm = run_model_no_val(estimator= gbm, X_train= preliminary_train, X_test= preliminary_test, param_grid= param_grid_gbm, catb= False) \n",
    "grid_gbm"
   ]
  },
  {
   "cell_type": "code",
   "execution_count": 557,
   "metadata": {},
   "outputs": [],
   "source": [
    "gbm = gbm.set_params(**grid_gbm.iloc[3]['diz_params'])"
   ]
  },
  {
   "cell_type": "code",
   "execution_count": null,
   "metadata": {},
   "outputs": [],
   "source": [
    "#export_proba(gbm, filename= 'gbm')"
   ]
  },
  {
   "cell_type": "code",
   "execution_count": 157,
   "metadata": {},
   "outputs": [],
   "source": [
    "###### Export Proba ########\n",
    "#export_proba(gb, filename= 'xgb')"
   ]
  },
  {
   "cell_type": "markdown",
   "metadata": {
    "colab_type": "text",
    "id": "OLkbR6w1l5rz"
   },
   "source": [
    "# Feat Sel using XGBoost"
   ]
  },
  {
   "cell_type": "code",
   "execution_count": 536,
   "metadata": {
    "colab": {
     "base_uri": "https://localhost:8080/",
     "height": 485
    },
    "colab_type": "code",
    "executionInfo": {
     "elapsed": 1213,
     "status": "ok",
     "timestamp": 1580695977554,
     "user": {
      "displayName": "Federico Francone",
      "photoUrl": "https://lh3.googleusercontent.com/a-/AAuE7mCvT-5R0e3T46w8v1AsqxSyhT-fEY26ltek6aRh=s64",
      "userId": "16122115063472740860"
     },
     "user_tz": -60
    },
    "id": "hycX81BSl5r0",
    "outputId": "e3f6433c-f263-43a5-9d6a-8852915554eb"
   },
   "outputs": [
    {
     "data": {
      "image/png": "[encoded data removed]",
      "text/plain": [
       "<Figure size 864x504 with 1 Axes>"
      ]
     },
     "metadata": {
      "needs_background": "light"
     },
     "output_type": "display_data"
    }
   ],
   "source": [
    "feats_imp_xgb= plot_feat_imp_adj(gb.set_params(**best_gb.iloc[0]['diz_params']), X_train= preliminary_train, X_test= preliminary_test, n_feat_to_plot= 10, color='orange', show= True)"
   ]
  },
  {
   "cell_type": "code",
   "execution_count": 550,
   "metadata": {
    "colab": {
     "base_uri": "https://localhost:8080/",
     "height": 363
    },
    "colab_type": "code",
    "executionInfo": {
     "elapsed": 710,
     "status": "ok",
     "timestamp": 1580695980929,
     "user": {
      "displayName": "Federico Francone",
      "photoUrl": "https://lh3.googleusercontent.com/a-/AAuE7mCvT-5R0e3T46w8v1AsqxSyhT-fEY26ltek6aRh=s64",
      "userId": "16122115063472740860"
     },
     "user_tz": -60
    },
    "id": "tUb-trCIl5r1",
    "outputId": "bd713e6d-b9c4-47ee-8afa-1c95b1e51f80"
   },
   "outputs": [
    {
     "data": {
      "image/png": "[encoded data removed]",
      "text/plain": [
       "<Figure size 864x360 with 1 Axes>"
      ]
     },
     "metadata": {
      "needs_background": "light"
     },
     "output_type": "display_data"
    }
   ],
   "source": [
    "cumulative_importances = np.cumsum(feats_imp_xgb )\n",
    "plt.figure(figsize=(12,5))\n",
    "plt.plot(list(feats_imp_xgb.index), cumulative_importances,'teal', lw=5.5 )\n",
    "plt.title('Cumulative Feature Importance class', color= 'red', fontsize=20)\n",
    "plt.hlines(y = 0.75, xmin=0, xmax=len(feats_imp_xgb.importance), color = 'r', linestyles = 'dashed', lw=3 )\n",
    "# Format x ticks and labels\n",
    "plt.xticks(np.arange(0,25, 5), np.arange(0,25, 5),fontsize= 12 )\n",
    "\"\"\"plt.tick_params(\n",
    "    axis='x',          # changes apply to the x-axis\n",
    "    which='both',      # both major and minor ticks are affected\n",
    "    bottom=False,      # ticks along the bottom edge are off\n",
    "    top=False,         # ticks along the top edge are off\n",
    "    labelbottom=False) \"\"\"\n",
    "\n",
    "        \n",
    "plt.xlabel('N° Features', c= 'blue', fontsize= 15); \n",
    "plt.ylabel('Cumulative Importance xgb', fontsize=15, color= 'blue'); #plt.title('CUMULATIVE IMPORTANCES', fontsize=20)\n",
    "#plt.savefig('Cumulative Feature importantce Importance', format= 'png')"
   ]
  },
  {
   "cell_type": "code",
   "execution_count": 551,
   "metadata": {
    "colab": {
     "base_uri": "https://localhost:8080/",
     "height": 34
    },
    "colab_type": "code",
    "executionInfo": {
     "elapsed": 406,
     "status": "ok",
     "timestamp": 1580695986931,
     "user": {
      "displayName": "Federico Francone",
      "photoUrl": "https://lh3.googleusercontent.com/a-/AAuE7mCvT-5R0e3T46w8v1AsqxSyhT-fEY26ltek6aRh=s64",
      "userId": "16122115063472740860"
     },
     "user_tz": -60
    },
    "id": "g-urhu3Rl5r2",
    "outputId": "27b11480-4b97-469d-a410-b7a8a92b08e1"
   },
   "outputs": [
    {
     "data": {
      "text/plain": [
       "12"
      ]
     },
     "execution_count": 551,
     "metadata": {},
     "output_type": "execute_result"
    }
   ],
   "source": [
    "only_imp_xgb = cumulative_importances[cumulative_importances['importance']<= 0.75].index\n",
    "len(only_imp_xgb)"
   ]
  },
  {
   "cell_type": "code",
   "execution_count": 552,
   "metadata": {
    "colab": {},
    "colab_type": "code",
    "id": "IST5el0Rl5r3",
    "outputId": "e7031bc1-4a43-48be-c753-4a28d563e22b",
    "scrolled": true
   },
   "outputs": [
    {
     "name": "stdout",
     "output_type": "stream",
     "text": [
      "Shape di X_train e X_test sono:  (78436, 12) (33613, 12)\n",
      "\n",
      "\t \u001b[1mITERATION 1/4 \u001b[0m\n",
      "\t Current Grid of Parameters is {'colsample_bytree': 1, 'gamma': 1, 'learning_rate': 0.005, 'max_depth': 1, 'min_child_weight': 1, 'n_estimators': 300, 'reg_alpha': 0.2, 'reg_lambda': 1, 'scale_pos_weight': 1, 'subsample': 0.9}\n",
      "\n",
      "\u001b[1mROC Train is 0.6358, ROC Test is 0.6336\u001b[0m\n",
      "XGBClassifier(base_score=0.5, booster='gbtree', colsample_bylevel=1,\n",
      "              colsample_bytree=1, gamma=1, learning_rate=0.005,\n",
      "              max_delta_step=0, max_depth=1, min_child_weight=1, missing=None,\n",
      "              n_estimators=300, n_jobs=1, nthread=None,\n",
      "              objective='binary:logistic', random_state=0, reg_alpha=0.2,\n",
      "              reg_lambda=1, scale_pos_weight=1, seed=None, silent=True,\n",
      "              subsample=0.9)\n",
      "\n",
      "\t \u001b[1mITERATION 2/4 \u001b[0m\n",
      "\t Current Grid of Parameters is {'colsample_bytree': 1, 'gamma': 1, 'learning_rate': 0.005, 'max_depth': 2, 'min_child_weight': 1, 'n_estimators': 300, 'reg_alpha': 0.2, 'reg_lambda': 1, 'scale_pos_weight': 1, 'subsample': 0.9}\n",
      "\n",
      "\u001b[1mROC Train is 0.6526, ROC Test is 0.6469\u001b[0m\n",
      "XGBClassifier(base_score=0.5, booster='gbtree', colsample_bylevel=1,\n",
      "              colsample_bytree=1, gamma=1, learning_rate=0.005,\n",
      "              max_delta_step=0, max_depth=2, min_child_weight=1, missing=None,\n",
      "              n_estimators=300, n_jobs=1, nthread=None,\n",
      "              objective='binary:logistic', random_state=0, reg_alpha=0.2,\n",
      "              reg_lambda=1, scale_pos_weight=1, seed=None, silent=True,\n",
      "              subsample=0.9)\n",
      "\n",
      "\t \u001b[1mITERATION 3/4 \u001b[0m\n",
      "\t Current Grid of Parameters is {'colsample_bytree': 1, 'gamma': 1, 'learning_rate': 0.001, 'max_depth': 1, 'min_child_weight': 1, 'n_estimators': 300, 'reg_alpha': 0.2, 'reg_lambda': 1, 'scale_pos_weight': 1, 'subsample': 0.9}\n",
      "\n",
      "\u001b[1mROC Train is 0.6272, ROC Test is 0.6247\u001b[0m\n",
      "XGBClassifier(base_score=0.5, booster='gbtree', colsample_bylevel=1,\n",
      "              colsample_bytree=1, gamma=1, learning_rate=0.001,\n",
      "              max_delta_step=0, max_depth=1, min_child_weight=1, missing=None,\n",
      "              n_estimators=300, n_jobs=1, nthread=None,\n",
      "              objective='binary:logistic', random_state=0, reg_alpha=0.2,\n",
      "              reg_lambda=1, scale_pos_weight=1, seed=None, silent=True,\n",
      "              subsample=0.9)\n",
      "\n",
      "\t \u001b[1mITERATION 4/4 \u001b[0m\n",
      "\t Current Grid of Parameters is {'colsample_bytree': 1, 'gamma': 1, 'learning_rate': 0.001, 'max_depth': 2, 'min_child_weight': 1, 'n_estimators': 300, 'reg_alpha': 0.2, 'reg_lambda': 1, 'scale_pos_weight': 1, 'subsample': 0.9}\n",
      "\n",
      "\u001b[1mROC Train is 0.6342, ROC Test is 0.6293\u001b[0m\n",
      "XGBClassifier(base_score=0.5, booster='gbtree', colsample_bylevel=1,\n",
      "              colsample_bytree=1, gamma=1, learning_rate=0.001,\n",
      "              max_delta_step=0, max_depth=2, min_child_weight=1, missing=None,\n",
      "              n_estimators=300, n_jobs=1, nthread=None,\n",
      "              objective='binary:logistic', random_state=0, reg_alpha=0.2,\n",
      "              reg_lambda=1, scale_pos_weight=1, seed=None, silent=True,\n",
      "              subsample=0.9)\n",
      "execution time (min)= 0.5  finished at  2020-03-18 16:32:18.928399\n"
     ]
    },
    {
     "data": {
      "text/html": [
       "<div>\n",
       "<style scoped>\n",
       "    .dataframe tbody tr th:only-of-type {\n",
       "        vertical-align: middle;\n",
       "    }\n",
       "\n",
       "    .dataframe tbody tr th {\n",
       "        vertical-align: top;\n",
       "    }\n",
       "\n",
       "    .dataframe thead th {\n",
       "        text-align: right;\n",
       "    }\n",
       "</style>\n",
       "<table border=\"1\" class=\"dataframe\">\n",
       "  <thead>\n",
       "    <tr style=\"text-align: right;\">\n",
       "      <th></th>\n",
       "      <th>diz_params</th>\n",
       "      <th>degree_overfitting(%)</th>\n",
       "      <th>roc_train</th>\n",
       "      <th>roc_test</th>\n",
       "    </tr>\n",
       "  </thead>\n",
       "  <tbody>\n",
       "    <tr>\n",
       "      <th>2</th>\n",
       "      <td>{'colsample_bytree': 1, 'gamma': 1, 'learning_...</td>\n",
       "      <td>0.57</td>\n",
       "      <td>0.6526</td>\n",
       "      <td>0.6469</td>\n",
       "    </tr>\n",
       "    <tr>\n",
       "      <th>1</th>\n",
       "      <td>{'colsample_bytree': 1, 'gamma': 1, 'learning_...</td>\n",
       "      <td>0.22</td>\n",
       "      <td>0.6358</td>\n",
       "      <td>0.6336</td>\n",
       "    </tr>\n",
       "    <tr>\n",
       "      <th>4</th>\n",
       "      <td>{'colsample_bytree': 1, 'gamma': 1, 'learning_...</td>\n",
       "      <td>0.49</td>\n",
       "      <td>0.6342</td>\n",
       "      <td>0.6293</td>\n",
       "    </tr>\n",
       "    <tr>\n",
       "      <th>3</th>\n",
       "      <td>{'colsample_bytree': 1, 'gamma': 1, 'learning_...</td>\n",
       "      <td>0.25</td>\n",
       "      <td>0.6272</td>\n",
       "      <td>0.6247</td>\n",
       "    </tr>\n",
       "  </tbody>\n",
       "</table>\n",
       "</div>"
      ],
      "text/plain": [
       "                                          diz_params  degree_overfitting(%)  \\\n",
       "2  {'colsample_bytree': 1, 'gamma': 1, 'learning_...                   0.57   \n",
       "1  {'colsample_bytree': 1, 'gamma': 1, 'learning_...                   0.22   \n",
       "4  {'colsample_bytree': 1, 'gamma': 1, 'learning_...                   0.49   \n",
       "3  {'colsample_bytree': 1, 'gamma': 1, 'learning_...                   0.25   \n",
       "\n",
       "   roc_train  roc_test  \n",
       "2     0.6526    0.6469  \n",
       "1     0.6358    0.6336  \n",
       "4     0.6342    0.6293  \n",
       "3     0.6272    0.6247  "
      ]
     },
     "execution_count": 552,
     "metadata": {},
     "output_type": "execute_result"
    }
   ],
   "source": [
    "X_train_imp= preliminary_train[only_imp_xgb]\n",
    "X_test_imp= preliminary_test[only_imp_xgb]\n",
    "\n",
    "param_gb = {\n",
    "    \"learning_rate\": [0.005, 0.001],\n",
    "    \"n_estimators\" : [300], \n",
    "    \"reg_alpha\": [0.2], \n",
    "    \"reg_lambda\":[1],\n",
    "    \"max_depth\": [1, 2],\n",
    "    'min_child_weight': [1],  #Used to control over-fitting. Higher values prevent a model from learning relations which might be highly specific to the particular sample selected for a tree. Too high values can lead to under-fitting hence, it should be tuned using CV.\n",
    "    'gamma': [1],  # aumentala per evitare overfitting: è il min delta della loss function per fare uno split\n",
    "    'colsample_bytree': [1],\n",
    "    'scale_pos_weight': [1],\n",
    "    'subsample': [0.9]\n",
    "                }\n",
    "\n",
    "gb_feat_xgb= run_model_no_val(gb, X_train= preliminary_train, X_test= preliminary_test, param_grid= param_gb, only_imp= True)\n",
    "gb_feat_xgb"
   ]
  },
  {
   "cell_type": "code",
   "execution_count": null,
   "metadata": {
    "colab": {},
    "colab_type": "code",
    "id": "TvddwRvJl5r5",
    "outputId": "1c26ba84-8e13-43c3-a043-a02997427cdd",
    "scrolled": true
   },
   "outputs": [],
   "source": [
    "# param_grid_cat = {'depth': [1,2,3],\n",
    "#           'learning_rate' : [0.005, 0.01],\n",
    "#          'l2_leaf_reg': [2,4,8],\n",
    "#          'iterations': [200]}\n",
    "\n",
    "# #grid_catboost = run_model_no_val(estimator=catboost, param_grid= param_grid, catb= True, ) \n",
    "\n",
    "# grid_catboost = run_model_no_val(estimator=catboost, X_train= preliminary_train, X_test= preliminary_test, param_grid= param_grid_cat, catb= True, only_imp= True ) #only_imp= True\n",
    "# grid_catboost"
   ]
  },
  {
   "cell_type": "code",
   "execution_count": null,
   "metadata": {
    "colab": {},
    "colab_type": "code",
    "id": "JA88cQzAl5r8",
    "outputId": "90c25c00-1782-41b9-fc50-fa714cd9cf3c",
    "scrolled": true
   },
   "outputs": [],
   "source": [
    "# param_grid_gbm = {\"max_depth\": [1,2],\n",
    "#               \"learning_rate\" : [0.001,0.005],\n",
    "#               \"num_leaves\": [20, 200],\n",
    "#               \"n_estimators\": [200]\n",
    "#              }\n",
    "\n",
    "\n",
    "# grid_gbm_red = run_model_no_val(estimator= gbm, X_train= preliminary_train, X_test= preliminary_test, param_grid= param_grid_gbm, only_imp= True) \n",
    "# grid_gbm_red"
   ]
  },
  {
   "cell_type": "markdown",
   "metadata": {},
   "source": [
    "<b> Saving Models"
   ]
  },
  {
   "cell_type": "code",
   "execution_count": null,
   "metadata": {},
   "outputs": [],
   "source": [
    "all_models_class= {\n",
    "            'rf': best_class_rf.best_estimator_,\n",
    "            #'Knn': best_pca_knn_class},\n",
    "            'xgboost': best_class_gb.best_estimator_, \n",
    "            'gb_old': best_class_gb_old.best_estimator_ ,\n",
    "            'svm': best_lasso_svm_class,\n",
    "                }\n",
    "\n",
    "# save the model to disk\n",
    "\n",
    "for modello in all_models_class:\n",
    "\n",
    "    filename = 'best_models/' + modello + '_class' + '.sav'\n",
    "    pickle.dump(all_models_class[modello], open(filename, 'wb'))\n",
    "\n",
    "\"\"\"# load the model from disk \n",
    "prova = pickle.load(open(filename, 'rb'))\n",
    "prova \"\"\""
   ]
  },
  {
   "cell_type": "code",
   "execution_count": null,
   "metadata": {},
   "outputs": [],
   "source": []
  }
 ],
 "metadata": {
  "colab": {
   "collapsed_sections": [],
   "name": "Raw_Data_No_Val_Insurance 4.1 Random Forest 03-02-20.ipynb",
   "provenance": []
  },
  "kernelspec": {
   "display_name": "Python 3",
   "language": "python",
   "name": "python3"
  },
  "language_info": {
   "codemirror_mode": {
    "name": "ipython",
    "version": 3
   },
   "file_extension": ".py",
   "mimetype": "text/x-python",
   "name": "python",
   "nbconvert_exporter": "python",
   "pygments_lexer": "ipython3",
   "version": "3.7.6"
  },
  "latex_envs": {
   "LaTeX_envs_menu_present": true,
   "autoclose": true,
   "autocomplete": true,
   "bibliofile": "biblio.bib",
   "cite_by": "apalike",
   "current_citInitial": 1,
   "eqLabelWithNumbers": true,
   "eqNumInitial": 1,
   "hotkeys": {
    "equation": "Ctrl-E",
    "itemize": "Ctrl-I"
   },
   "labels_anchors": false,
   "latex_user_defs": false,
   "report_style_numbering": false,
   "user_envs_cfg": false
  }
 },
 "nbformat": 4,
 "nbformat_minor": 1
}
